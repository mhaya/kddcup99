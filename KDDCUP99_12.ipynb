{
 "cells": [
  {
   "cell_type": "markdown",
   "metadata": {},
   "source": [
    "# KDD Cup 1999 Data"
   ]
  },
  {
   "cell_type": "markdown",
   "metadata": {
    "collapsed": true
   },
   "source": [
    "http://kdd.ics.uci.edu/databases/kddcup99/kddcup99.html"
   ]
  },
  {
   "cell_type": "code",
   "execution_count": 1,
   "metadata": {
    "collapsed": true
   },
   "outputs": [],
   "source": [
    "import sklearn\n",
    "import pandas as pd\n",
    "from sklearn import preprocessing\n",
    "from sklearn.utils import resample\n",
    "from sklearn.model_selection import GridSearchCV\n",
    "from sklearn.svm import SVC\n",
    "import numpy as np\n",
    "from sklearn.decomposition import PCA\n",
    "from sklearn.pipeline import Pipeline\n",
    "import time\n",
    "from sklearn.metrics import confusion_matrix, classification_report\n",
    "from sklearn.externals import joblib\n",
    "from sklearn.utils import resample"
   ]
  },
  {
   "cell_type": "code",
   "execution_count": 2,
   "metadata": {
    "collapsed": false
   },
   "outputs": [
    {
     "name": "stdout",
     "output_type": "stream",
     "text": [
      "The scikit-learn version is 0.18.1.\n"
     ]
    }
   ],
   "source": [
    "print('The scikit-learn version is {}.'.format(sklearn.__version__))"
   ]
  },
  {
   "cell_type": "code",
   "execution_count": 3,
   "metadata": {
    "collapsed": true
   },
   "outputs": [],
   "source": [
    "col_names = [\"duration\",\"protocol_type\",\"service\",\"flag\",\"src_bytes\",\n",
    "             \"dst_bytes\",\"land\",\"wrong_fragment\",\"urgent\",\"hot\",\"num_failed_logins\",\n",
    "             \"logged_in\",\"num_compromised\",\"root_shell\",\"su_attempted\",\"num_root\",\"num_file_creations\",\n",
    "             \"num_shells\",\"num_access_files\",\"num_outbound_cmds\",\"is_host_login\",\"is_guest_login\",\"count\",\n",
    "             \"srv_count\",\"serror_rate\",\"srv_serror_rate\",\"rerror_rate\",\"srv_rerror_rate\",\"same_srv_rate\",\n",
    "             \"diff_srv_rate\",\"srv_diff_host_rate\",\"dst_host_count\",\"dst_host_srv_count\",\n",
    "             \"dst_host_same_srv_rate\",\"dst_host_diff_srv_rate\",\"dst_host_same_src_port_rate\",\n",
    "             \"dst_host_srv_diff_host_rate\",\"dst_host_serror_rate\",\"dst_host_srv_serror_rate\",\n",
    "             \"dst_host_rerror_rate\",\"dst_host_srv_rerror_rate\",\"label\"]"
   ]
  },
  {
   "cell_type": "code",
   "execution_count": 4,
   "metadata": {
    "collapsed": true
   },
   "outputs": [],
   "source": [
    "data = pd.read_csv(\"data/kddcup.data_10_percent\", header=None, names = col_names)"
   ]
  },
  {
   "cell_type": "code",
   "execution_count": 5,
   "metadata": {
    "collapsed": false
   },
   "outputs": [
    {
     "data": {
      "text/plain": [
       "(494021, 42)"
      ]
     },
     "execution_count": 5,
     "metadata": {},
     "output_type": "execute_result"
    }
   ],
   "source": [
    "data.shape"
   ]
  },
  {
   "cell_type": "markdown",
   "metadata": {},
   "source": [
    "# 前処理\n",
    "## カテゴリ化"
   ]
  },
  {
   "cell_type": "code",
   "execution_count": 6,
   "metadata": {
    "collapsed": false
   },
   "outputs": [
    {
     "data": {
      "text/plain": [
       "smurf.              280790\n",
       "neptune.            107201\n",
       "normal.              97278\n",
       "back.                 2203\n",
       "satan.                1589\n",
       "ipsweep.              1247\n",
       "portsweep.            1040\n",
       "warezclient.          1020\n",
       "teardrop.              979\n",
       "pod.                   264\n",
       "nmap.                  231\n",
       "guess_passwd.           53\n",
       "buffer_overflow.        30\n",
       "land.                   21\n",
       "warezmaster.            20\n",
       "imap.                   12\n",
       "rootkit.                10\n",
       "loadmodule.              9\n",
       "ftp_write.               8\n",
       "multihop.                7\n",
       "phf.                     4\n",
       "perl.                    3\n",
       "spy.                     2\n",
       "Name: label, dtype: int64"
      ]
     },
     "execution_count": 6,
     "metadata": {},
     "output_type": "execute_result"
    }
   ],
   "source": [
    "data.label.value_counts()"
   ]
  },
  {
   "cell_type": "code",
   "execution_count": 7,
   "metadata": {
    "collapsed": false
   },
   "outputs": [],
   "source": [
    "data['label2'] = data.label.where(data.label.str.contains('normal'),'atack')"
   ]
  },
  {
   "cell_type": "code",
   "execution_count": 8,
   "metadata": {
    "collapsed": false
   },
   "outputs": [
    {
     "data": {
      "text/plain": [
       "atack      396743\n",
       "normal.     97278\n",
       "Name: label2, dtype: int64"
      ]
     },
     "execution_count": 8,
     "metadata": {},
     "output_type": "execute_result"
    }
   ],
   "source": [
    "data.label2.value_counts()"
   ]
  },
  {
   "cell_type": "code",
   "execution_count": 9,
   "metadata": {
    "collapsed": true
   },
   "outputs": [],
   "source": [
    "data['label3'] = data.label.copy()"
   ]
  },
  {
   "cell_type": "code",
   "execution_count": 10,
   "metadata": {
    "collapsed": false
   },
   "outputs": [],
   "source": [
    "data.loc[data.label.str.contains('back|land|neptune|pod|smurf|teardrop'),'label3'] = 'DoS'"
   ]
  },
  {
   "cell_type": "code",
   "execution_count": 11,
   "metadata": {
    "collapsed": false
   },
   "outputs": [],
   "source": [
    "data.loc[data.label.str.contains('buffer_overflow|loadmodule|perl|rootkit'),'label3'] = 'U2R'"
   ]
  },
  {
   "cell_type": "code",
   "execution_count": 12,
   "metadata": {
    "collapsed": true
   },
   "outputs": [],
   "source": [
    "data.loc[data.label.str.contains('ftp_write|guess_passwd|imap|multihop|phf|spy|warezclient|warezmaster'),'label3'] = 'R2L'"
   ]
  },
  {
   "cell_type": "code",
   "execution_count": 13,
   "metadata": {
    "collapsed": true
   },
   "outputs": [],
   "source": [
    "data.loc[data.label.str.contains('ipsweep|nmap|portsweep|satan'),'label3'] = 'Probe'"
   ]
  },
  {
   "cell_type": "code",
   "execution_count": 14,
   "metadata": {
    "collapsed": false
   },
   "outputs": [
    {
     "data": {
      "text/plain": [
       "DoS        391458\n",
       "normal.     97278\n",
       "Probe        4107\n",
       "R2L          1126\n",
       "U2R            52\n",
       "Name: label3, dtype: int64"
      ]
     },
     "execution_count": 14,
     "metadata": {},
     "output_type": "execute_result"
    }
   ],
   "source": [
    "data.label3.value_counts()"
   ]
  },
  {
   "cell_type": "markdown",
   "metadata": {},
   "source": [
    "## サンプリング"
   ]
  },
  {
   "cell_type": "code",
   "execution_count": 15,
   "metadata": {
    "collapsed": true
   },
   "outputs": [],
   "source": [
    "data = resample(data,n_samples=40000,random_state=0)"
   ]
  },
  {
   "cell_type": "code",
   "execution_count": 16,
   "metadata": {
    "collapsed": false
   },
   "outputs": [
    {
     "data": {
      "text/plain": [
       "(40000, 44)"
      ]
     },
     "execution_count": 16,
     "metadata": {},
     "output_type": "execute_result"
    }
   ],
   "source": [
    "data.shape"
   ]
  },
  {
   "cell_type": "markdown",
   "metadata": {},
   "source": [
    "## 数値化"
   ]
  },
  {
   "cell_type": "code",
   "execution_count": 17,
   "metadata": {
    "collapsed": true
   },
   "outputs": [],
   "source": [
    "le_protocol_type = preprocessing.LabelEncoder()"
   ]
  },
  {
   "cell_type": "code",
   "execution_count": 18,
   "metadata": {
    "collapsed": false
   },
   "outputs": [
    {
     "data": {
      "text/plain": [
       "LabelEncoder()"
      ]
     },
     "execution_count": 18,
     "metadata": {},
     "output_type": "execute_result"
    }
   ],
   "source": [
    "le_protocol_type.fit(data.protocol_type)"
   ]
  },
  {
   "cell_type": "code",
   "execution_count": 19,
   "metadata": {
    "collapsed": false
   },
   "outputs": [],
   "source": [
    "data.protocol_type=le_protocol_type.transform(data.protocol_type)"
   ]
  },
  {
   "cell_type": "code",
   "execution_count": 20,
   "metadata": {
    "collapsed": true
   },
   "outputs": [],
   "source": [
    "le_service = preprocessing.LabelEncoder()"
   ]
  },
  {
   "cell_type": "code",
   "execution_count": 21,
   "metadata": {
    "collapsed": false
   },
   "outputs": [
    {
     "data": {
      "text/plain": [
       "LabelEncoder()"
      ]
     },
     "execution_count": 21,
     "metadata": {},
     "output_type": "execute_result"
    }
   ],
   "source": [
    "le_service.fit(data.service)"
   ]
  },
  {
   "cell_type": "code",
   "execution_count": 22,
   "metadata": {
    "collapsed": true
   },
   "outputs": [],
   "source": [
    "data.service = le_service.transform(data.service)"
   ]
  },
  {
   "cell_type": "code",
   "execution_count": 23,
   "metadata": {
    "collapsed": true
   },
   "outputs": [],
   "source": [
    "le_flag = preprocessing.LabelEncoder()"
   ]
  },
  {
   "cell_type": "code",
   "execution_count": 24,
   "metadata": {
    "collapsed": false
   },
   "outputs": [
    {
     "data": {
      "text/plain": [
       "LabelEncoder()"
      ]
     },
     "execution_count": 24,
     "metadata": {},
     "output_type": "execute_result"
    }
   ],
   "source": [
    "le_flag.fit(data.flag)"
   ]
  },
  {
   "cell_type": "code",
   "execution_count": 25,
   "metadata": {
    "collapsed": true
   },
   "outputs": [],
   "source": [
    "data.flag = le_flag.transform(data.flag)"
   ]
  },
  {
   "cell_type": "code",
   "execution_count": 26,
   "metadata": {
    "collapsed": false
   },
   "outputs": [
    {
     "data": {
      "text/html": [
       "<div>\n",
       "<table border=\"1\" class=\"dataframe\">\n",
       "  <thead>\n",
       "    <tr style=\"text-align: right;\">\n",
       "      <th></th>\n",
       "      <th>duration</th>\n",
       "      <th>protocol_type</th>\n",
       "      <th>service</th>\n",
       "      <th>flag</th>\n",
       "      <th>src_bytes</th>\n",
       "      <th>dst_bytes</th>\n",
       "      <th>land</th>\n",
       "      <th>wrong_fragment</th>\n",
       "      <th>urgent</th>\n",
       "      <th>hot</th>\n",
       "      <th>...</th>\n",
       "      <th>dst_host_count</th>\n",
       "      <th>dst_host_srv_count</th>\n",
       "      <th>dst_host_same_srv_rate</th>\n",
       "      <th>dst_host_diff_srv_rate</th>\n",
       "      <th>dst_host_same_src_port_rate</th>\n",
       "      <th>dst_host_srv_diff_host_rate</th>\n",
       "      <th>dst_host_serror_rate</th>\n",
       "      <th>dst_host_srv_serror_rate</th>\n",
       "      <th>dst_host_rerror_rate</th>\n",
       "      <th>dst_host_srv_rerror_rate</th>\n",
       "    </tr>\n",
       "  </thead>\n",
       "  <tbody>\n",
       "    <tr>\n",
       "      <th>count</th>\n",
       "      <td>40000.000000</td>\n",
       "      <td>40000.000000</td>\n",
       "      <td>40000.000000</td>\n",
       "      <td>40000.000000</td>\n",
       "      <td>4.000000e+04</td>\n",
       "      <td>4.000000e+04</td>\n",
       "      <td>40000.000000</td>\n",
       "      <td>40000.000000</td>\n",
       "      <td>40000.0</td>\n",
       "      <td>40000.000000</td>\n",
       "      <td>...</td>\n",
       "      <td>40000.000000</td>\n",
       "      <td>40000.000000</td>\n",
       "      <td>40000.000000</td>\n",
       "      <td>40000.000000</td>\n",
       "      <td>40000.000000</td>\n",
       "      <td>40000.000000</td>\n",
       "      <td>40000.000000</td>\n",
       "      <td>40000.000000</td>\n",
       "      <td>40000.000000</td>\n",
       "      <td>40000.000000</td>\n",
       "    </tr>\n",
       "    <tr>\n",
       "      <th>mean</th>\n",
       "      <td>48.733500</td>\n",
       "      <td>0.464925</td>\n",
       "      <td>23.251775</td>\n",
       "      <td>6.845000</td>\n",
       "      <td>1.325639e+03</td>\n",
       "      <td>9.129235e+02</td>\n",
       "      <td>0.000050</td>\n",
       "      <td>0.006825</td>\n",
       "      <td>0.0</td>\n",
       "      <td>0.038700</td>\n",
       "      <td>...</td>\n",
       "      <td>232.128500</td>\n",
       "      <td>189.384550</td>\n",
       "      <td>0.756684</td>\n",
       "      <td>0.030395</td>\n",
       "      <td>0.603185</td>\n",
       "      <td>0.007170</td>\n",
       "      <td>0.173805</td>\n",
       "      <td>0.173673</td>\n",
       "      <td>0.059097</td>\n",
       "      <td>0.058300</td>\n",
       "    </tr>\n",
       "    <tr>\n",
       "      <th>std</th>\n",
       "      <td>744.715442</td>\n",
       "      <td>0.575177</td>\n",
       "      <td>13.404260</td>\n",
       "      <td>2.256735</td>\n",
       "      <td>4.593989e+04</td>\n",
       "      <td>3.573975e+04</td>\n",
       "      <td>0.007071</td>\n",
       "      <td>0.139208</td>\n",
       "      <td>0.0</td>\n",
       "      <td>0.825178</td>\n",
       "      <td>...</td>\n",
       "      <td>64.988061</td>\n",
       "      <td>105.707066</td>\n",
       "      <td>0.409373</td>\n",
       "      <td>0.108182</td>\n",
       "      <td>0.481151</td>\n",
       "      <td>0.046449</td>\n",
       "      <td>0.378104</td>\n",
       "      <td>0.378547</td>\n",
       "      <td>0.232462</td>\n",
       "      <td>0.231711</td>\n",
       "    </tr>\n",
       "    <tr>\n",
       "      <th>min</th>\n",
       "      <td>0.000000</td>\n",
       "      <td>0.000000</td>\n",
       "      <td>0.000000</td>\n",
       "      <td>0.000000</td>\n",
       "      <td>0.000000e+00</td>\n",
       "      <td>0.000000e+00</td>\n",
       "      <td>0.000000</td>\n",
       "      <td>0.000000</td>\n",
       "      <td>0.0</td>\n",
       "      <td>0.000000</td>\n",
       "      <td>...</td>\n",
       "      <td>1.000000</td>\n",
       "      <td>1.000000</td>\n",
       "      <td>0.000000</td>\n",
       "      <td>0.000000</td>\n",
       "      <td>0.000000</td>\n",
       "      <td>0.000000</td>\n",
       "      <td>0.000000</td>\n",
       "      <td>0.000000</td>\n",
       "      <td>0.000000</td>\n",
       "      <td>0.000000</td>\n",
       "    </tr>\n",
       "    <tr>\n",
       "      <th>25%</th>\n",
       "      <td>0.000000</td>\n",
       "      <td>0.000000</td>\n",
       "      <td>14.000000</td>\n",
       "      <td>8.000000</td>\n",
       "      <td>4.500000e+01</td>\n",
       "      <td>0.000000e+00</td>\n",
       "      <td>0.000000</td>\n",
       "      <td>0.000000</td>\n",
       "      <td>0.0</td>\n",
       "      <td>0.000000</td>\n",
       "      <td>...</td>\n",
       "      <td>255.000000</td>\n",
       "      <td>55.000000</td>\n",
       "      <td>0.490000</td>\n",
       "      <td>0.000000</td>\n",
       "      <td>0.000000</td>\n",
       "      <td>0.000000</td>\n",
       "      <td>0.000000</td>\n",
       "      <td>0.000000</td>\n",
       "      <td>0.000000</td>\n",
       "      <td>0.000000</td>\n",
       "    </tr>\n",
       "    <tr>\n",
       "      <th>50%</th>\n",
       "      <td>0.000000</td>\n",
       "      <td>0.000000</td>\n",
       "      <td>14.000000</td>\n",
       "      <td>8.000000</td>\n",
       "      <td>5.200000e+02</td>\n",
       "      <td>0.000000e+00</td>\n",
       "      <td>0.000000</td>\n",
       "      <td>0.000000</td>\n",
       "      <td>0.0</td>\n",
       "      <td>0.000000</td>\n",
       "      <td>...</td>\n",
       "      <td>255.000000</td>\n",
       "      <td>255.000000</td>\n",
       "      <td>1.000000</td>\n",
       "      <td>0.000000</td>\n",
       "      <td>1.000000</td>\n",
       "      <td>0.000000</td>\n",
       "      <td>0.000000</td>\n",
       "      <td>0.000000</td>\n",
       "      <td>0.000000</td>\n",
       "      <td>0.000000</td>\n",
       "    </tr>\n",
       "    <tr>\n",
       "      <th>75%</th>\n",
       "      <td>0.000000</td>\n",
       "      <td>1.000000</td>\n",
       "      <td>40.000000</td>\n",
       "      <td>8.000000</td>\n",
       "      <td>1.032000e+03</td>\n",
       "      <td>0.000000e+00</td>\n",
       "      <td>0.000000</td>\n",
       "      <td>0.000000</td>\n",
       "      <td>0.0</td>\n",
       "      <td>0.000000</td>\n",
       "      <td>...</td>\n",
       "      <td>255.000000</td>\n",
       "      <td>255.000000</td>\n",
       "      <td>1.000000</td>\n",
       "      <td>0.040000</td>\n",
       "      <td>1.000000</td>\n",
       "      <td>0.000000</td>\n",
       "      <td>0.000000</td>\n",
       "      <td>0.000000</td>\n",
       "      <td>0.000000</td>\n",
       "      <td>0.000000</td>\n",
       "    </tr>\n",
       "    <tr>\n",
       "      <th>max</th>\n",
       "      <td>42448.000000</td>\n",
       "      <td>2.000000</td>\n",
       "      <td>62.000000</td>\n",
       "      <td>9.000000</td>\n",
       "      <td>5.133877e+06</td>\n",
       "      <td>5.151049e+06</td>\n",
       "      <td>1.000000</td>\n",
       "      <td>3.000000</td>\n",
       "      <td>0.0</td>\n",
       "      <td>30.000000</td>\n",
       "      <td>...</td>\n",
       "      <td>255.000000</td>\n",
       "      <td>255.000000</td>\n",
       "      <td>1.000000</td>\n",
       "      <td>1.000000</td>\n",
       "      <td>1.000000</td>\n",
       "      <td>1.000000</td>\n",
       "      <td>1.000000</td>\n",
       "      <td>1.000000</td>\n",
       "      <td>1.000000</td>\n",
       "      <td>1.000000</td>\n",
       "    </tr>\n",
       "  </tbody>\n",
       "</table>\n",
       "<p>8 rows × 41 columns</p>\n",
       "</div>"
      ],
      "text/plain": [
       "           duration  protocol_type       service          flag     src_bytes  \\\n",
       "count  40000.000000   40000.000000  40000.000000  40000.000000  4.000000e+04   \n",
       "mean      48.733500       0.464925     23.251775      6.845000  1.325639e+03   \n",
       "std      744.715442       0.575177     13.404260      2.256735  4.593989e+04   \n",
       "min        0.000000       0.000000      0.000000      0.000000  0.000000e+00   \n",
       "25%        0.000000       0.000000     14.000000      8.000000  4.500000e+01   \n",
       "50%        0.000000       0.000000     14.000000      8.000000  5.200000e+02   \n",
       "75%        0.000000       1.000000     40.000000      8.000000  1.032000e+03   \n",
       "max    42448.000000       2.000000     62.000000      9.000000  5.133877e+06   \n",
       "\n",
       "          dst_bytes          land  wrong_fragment   urgent           hot  \\\n",
       "count  4.000000e+04  40000.000000    40000.000000  40000.0  40000.000000   \n",
       "mean   9.129235e+02      0.000050        0.006825      0.0      0.038700   \n",
       "std    3.573975e+04      0.007071        0.139208      0.0      0.825178   \n",
       "min    0.000000e+00      0.000000        0.000000      0.0      0.000000   \n",
       "25%    0.000000e+00      0.000000        0.000000      0.0      0.000000   \n",
       "50%    0.000000e+00      0.000000        0.000000      0.0      0.000000   \n",
       "75%    0.000000e+00      0.000000        0.000000      0.0      0.000000   \n",
       "max    5.151049e+06      1.000000        3.000000      0.0     30.000000   \n",
       "\n",
       "                 ...             dst_host_count  dst_host_srv_count  \\\n",
       "count            ...               40000.000000        40000.000000   \n",
       "mean             ...                 232.128500          189.384550   \n",
       "std              ...                  64.988061          105.707066   \n",
       "min              ...                   1.000000            1.000000   \n",
       "25%              ...                 255.000000           55.000000   \n",
       "50%              ...                 255.000000          255.000000   \n",
       "75%              ...                 255.000000          255.000000   \n",
       "max              ...                 255.000000          255.000000   \n",
       "\n",
       "       dst_host_same_srv_rate  dst_host_diff_srv_rate  \\\n",
       "count            40000.000000            40000.000000   \n",
       "mean                 0.756684                0.030395   \n",
       "std                  0.409373                0.108182   \n",
       "min                  0.000000                0.000000   \n",
       "25%                  0.490000                0.000000   \n",
       "50%                  1.000000                0.000000   \n",
       "75%                  1.000000                0.040000   \n",
       "max                  1.000000                1.000000   \n",
       "\n",
       "       dst_host_same_src_port_rate  dst_host_srv_diff_host_rate  \\\n",
       "count                 40000.000000                 40000.000000   \n",
       "mean                      0.603185                     0.007170   \n",
       "std                       0.481151                     0.046449   \n",
       "min                       0.000000                     0.000000   \n",
       "25%                       0.000000                     0.000000   \n",
       "50%                       1.000000                     0.000000   \n",
       "75%                       1.000000                     0.000000   \n",
       "max                       1.000000                     1.000000   \n",
       "\n",
       "       dst_host_serror_rate  dst_host_srv_serror_rate  dst_host_rerror_rate  \\\n",
       "count          40000.000000              40000.000000          40000.000000   \n",
       "mean               0.173805                  0.173673              0.059097   \n",
       "std                0.378104                  0.378547              0.232462   \n",
       "min                0.000000                  0.000000              0.000000   \n",
       "25%                0.000000                  0.000000              0.000000   \n",
       "50%                0.000000                  0.000000              0.000000   \n",
       "75%                0.000000                  0.000000              0.000000   \n",
       "max                1.000000                  1.000000              1.000000   \n",
       "\n",
       "       dst_host_srv_rerror_rate  \n",
       "count              40000.000000  \n",
       "mean                   0.058300  \n",
       "std                    0.231711  \n",
       "min                    0.000000  \n",
       "25%                    0.000000  \n",
       "50%                    0.000000  \n",
       "75%                    0.000000  \n",
       "max                    1.000000  \n",
       "\n",
       "[8 rows x 41 columns]"
      ]
     },
     "execution_count": 26,
     "metadata": {},
     "output_type": "execute_result"
    }
   ],
   "source": [
    "data.describe()"
   ]
  },
  {
   "cell_type": "code",
   "execution_count": 27,
   "metadata": {
    "collapsed": false
   },
   "outputs": [
    {
     "data": {
      "text/plain": [
       "(40000, 44)"
      ]
     },
     "execution_count": 27,
     "metadata": {},
     "output_type": "execute_result"
    }
   ],
   "source": [
    "data.shape"
   ]
  },
  {
   "cell_type": "markdown",
   "metadata": {},
   "source": [
    "## ラベルの分離"
   ]
  },
  {
   "cell_type": "code",
   "execution_count": 28,
   "metadata": {
    "collapsed": true
   },
   "outputs": [],
   "source": [
    "y_train_1 = data.label.copy() "
   ]
  },
  {
   "cell_type": "code",
   "execution_count": 29,
   "metadata": {
    "collapsed": true
   },
   "outputs": [],
   "source": [
    "y_train_2 = data.label2.copy()"
   ]
  },
  {
   "cell_type": "code",
   "execution_count": 30,
   "metadata": {
    "collapsed": true
   },
   "outputs": [],
   "source": [
    "y_train_3 = data.label3.copy()"
   ]
  },
  {
   "cell_type": "code",
   "execution_count": 31,
   "metadata": {
    "collapsed": false
   },
   "outputs": [],
   "source": [
    "x_train = data.drop(['label','label2','label3'],axis=1)"
   ]
  },
  {
   "cell_type": "code",
   "execution_count": 32,
   "metadata": {
    "collapsed": false
   },
   "outputs": [
    {
     "data": {
      "text/plain": [
       "(40000, 41)"
      ]
     },
     "execution_count": 32,
     "metadata": {},
     "output_type": "execute_result"
    }
   ],
   "source": [
    "x_train.shape"
   ]
  },
  {
   "cell_type": "code",
   "execution_count": 33,
   "metadata": {
    "collapsed": false
   },
   "outputs": [
    {
     "data": {
      "text/plain": [
       "(40000,)"
      ]
     },
     "execution_count": 33,
     "metadata": {},
     "output_type": "execute_result"
    }
   ],
   "source": [
    "y_train_1.shape"
   ]
  },
  {
   "cell_type": "code",
   "execution_count": 34,
   "metadata": {
    "collapsed": false
   },
   "outputs": [
    {
     "data": {
      "text/plain": [
       "(40000,)"
      ]
     },
     "execution_count": 34,
     "metadata": {},
     "output_type": "execute_result"
    }
   ],
   "source": [
    "y_train_2.shape"
   ]
  },
  {
   "cell_type": "code",
   "execution_count": 35,
   "metadata": {
    "collapsed": false
   },
   "outputs": [
    {
     "data": {
      "text/plain": [
       "(40000,)"
      ]
     },
     "execution_count": 35,
     "metadata": {},
     "output_type": "execute_result"
    }
   ],
   "source": [
    "y_train_3.shape"
   ]
  },
  {
   "cell_type": "markdown",
   "metadata": {},
   "source": [
    "## 標準化"
   ]
  },
  {
   "cell_type": "code",
   "execution_count": 36,
   "metadata": {
    "collapsed": true
   },
   "outputs": [],
   "source": [
    "ss = preprocessing.StandardScaler()"
   ]
  },
  {
   "cell_type": "code",
   "execution_count": 37,
   "metadata": {
    "collapsed": false
   },
   "outputs": [
    {
     "data": {
      "text/plain": [
       "StandardScaler(copy=True, with_mean=True, with_std=True)"
      ]
     },
     "execution_count": 37,
     "metadata": {},
     "output_type": "execute_result"
    }
   ],
   "source": [
    "ss.fit(x_train)"
   ]
  },
  {
   "cell_type": "code",
   "execution_count": 38,
   "metadata": {
    "collapsed": true
   },
   "outputs": [],
   "source": [
    "x_train = ss.transform(x_train)"
   ]
  },
  {
   "cell_type": "code",
   "execution_count": 39,
   "metadata": {
    "collapsed": true
   },
   "outputs": [],
   "source": [
    "col_names2 = [\"duration\",\"protocol_type\",\"service\",\"flag\",\"src_bytes\",\n",
    "             \"dst_bytes\",\"land\",\"wrong_fragment\",\"urgent\",\"hot\",\"num_failed_logins\",\n",
    "             \"logged_in\",\"num_compromised\",\"root_shell\",\"su_attempted\",\"num_root\",\"num_file_creations\",\n",
    "             \"num_shells\",\"num_access_files\",\"num_outbound_cmds\",\"is_host_login\",\"is_guest_login\",\"count\",\n",
    "             \"srv_count\",\"serror_rate\",\"srv_serror_rate\",\"rerror_rate\",\"srv_rerror_rate\",\"same_srv_rate\",\n",
    "             \"diff_srv_rate\",\"srv_diff_host_rate\",\"dst_host_count\",\"dst_host_srv_count\",\n",
    "             \"dst_host_same_srv_rate\",\"dst_host_diff_srv_rate\",\"dst_host_same_src_port_rate\",\n",
    "             \"dst_host_srv_diff_host_rate\",\"dst_host_serror_rate\",\"dst_host_srv_serror_rate\",\n",
    "             \"dst_host_rerror_rate\",\"dst_host_srv_rerror_rate\"]"
   ]
  },
  {
   "cell_type": "code",
   "execution_count": 40,
   "metadata": {
    "collapsed": false
   },
   "outputs": [
    {
     "data": {
      "text/html": [
       "<div>\n",
       "<table border=\"1\" class=\"dataframe\">\n",
       "  <thead>\n",
       "    <tr style=\"text-align: right;\">\n",
       "      <th></th>\n",
       "      <th>duration</th>\n",
       "      <th>protocol_type</th>\n",
       "      <th>service</th>\n",
       "      <th>flag</th>\n",
       "      <th>src_bytes</th>\n",
       "      <th>dst_bytes</th>\n",
       "      <th>land</th>\n",
       "      <th>wrong_fragment</th>\n",
       "      <th>urgent</th>\n",
       "      <th>hot</th>\n",
       "      <th>...</th>\n",
       "      <th>dst_host_count</th>\n",
       "      <th>dst_host_srv_count</th>\n",
       "      <th>dst_host_same_srv_rate</th>\n",
       "      <th>dst_host_diff_srv_rate</th>\n",
       "      <th>dst_host_same_src_port_rate</th>\n",
       "      <th>dst_host_srv_diff_host_rate</th>\n",
       "      <th>dst_host_serror_rate</th>\n",
       "      <th>dst_host_srv_serror_rate</th>\n",
       "      <th>dst_host_rerror_rate</th>\n",
       "      <th>dst_host_srv_rerror_rate</th>\n",
       "    </tr>\n",
       "  </thead>\n",
       "  <tbody>\n",
       "    <tr>\n",
       "      <th>count</th>\n",
       "      <td>4.000000e+04</td>\n",
       "      <td>4.000000e+04</td>\n",
       "      <td>4.000000e+04</td>\n",
       "      <td>4.000000e+04</td>\n",
       "      <td>4.000000e+04</td>\n",
       "      <td>4.000000e+04</td>\n",
       "      <td>4.000000e+04</td>\n",
       "      <td>4.000000e+04</td>\n",
       "      <td>40000.0</td>\n",
       "      <td>4.000000e+04</td>\n",
       "      <td>...</td>\n",
       "      <td>4.000000e+04</td>\n",
       "      <td>4.000000e+04</td>\n",
       "      <td>4.000000e+04</td>\n",
       "      <td>4.000000e+04</td>\n",
       "      <td>4.000000e+04</td>\n",
       "      <td>4.000000e+04</td>\n",
       "      <td>4.000000e+04</td>\n",
       "      <td>4.000000e+04</td>\n",
       "      <td>4.000000e+04</td>\n",
       "      <td>4.000000e+04</td>\n",
       "    </tr>\n",
       "    <tr>\n",
       "      <th>mean</th>\n",
       "      <td>-1.305939e-15</td>\n",
       "      <td>1.741329e-16</td>\n",
       "      <td>9.942214e-16</td>\n",
       "      <td>-1.733003e-16</td>\n",
       "      <td>4.426895e-16</td>\n",
       "      <td>2.264166e-16</td>\n",
       "      <td>-4.672501e-16</td>\n",
       "      <td>2.377213e-15</td>\n",
       "      <td>0.0</td>\n",
       "      <td>-1.465841e-18</td>\n",
       "      <td>...</td>\n",
       "      <td>-3.249051e-15</td>\n",
       "      <td>2.361167e-16</td>\n",
       "      <td>-2.998712e-17</td>\n",
       "      <td>-4.054701e-16</td>\n",
       "      <td>-1.426914e-16</td>\n",
       "      <td>2.856312e-16</td>\n",
       "      <td>9.592743e-16</td>\n",
       "      <td>1.480288e-16</td>\n",
       "      <td>3.075540e-15</td>\n",
       "      <td>-5.998313e-16</td>\n",
       "    </tr>\n",
       "    <tr>\n",
       "      <th>std</th>\n",
       "      <td>1.000013e+00</td>\n",
       "      <td>1.000013e+00</td>\n",
       "      <td>1.000013e+00</td>\n",
       "      <td>1.000013e+00</td>\n",
       "      <td>1.000013e+00</td>\n",
       "      <td>1.000013e+00</td>\n",
       "      <td>1.000013e+00</td>\n",
       "      <td>1.000013e+00</td>\n",
       "      <td>0.0</td>\n",
       "      <td>1.000013e+00</td>\n",
       "      <td>...</td>\n",
       "      <td>1.000013e+00</td>\n",
       "      <td>1.000013e+00</td>\n",
       "      <td>1.000013e+00</td>\n",
       "      <td>1.000013e+00</td>\n",
       "      <td>1.000013e+00</td>\n",
       "      <td>1.000013e+00</td>\n",
       "      <td>1.000013e+00</td>\n",
       "      <td>1.000013e+00</td>\n",
       "      <td>1.000013e+00</td>\n",
       "      <td>1.000013e+00</td>\n",
       "    </tr>\n",
       "    <tr>\n",
       "      <th>min</th>\n",
       "      <td>-6.543991e-02</td>\n",
       "      <td>-8.083272e-01</td>\n",
       "      <td>-1.734677e+00</td>\n",
       "      <td>-3.033181e+00</td>\n",
       "      <td>-2.885630e-02</td>\n",
       "      <td>-2.554396e-02</td>\n",
       "      <td>-7.071245e-03</td>\n",
       "      <td>-4.902792e-02</td>\n",
       "      <td>0.0</td>\n",
       "      <td>-4.689954e-02</td>\n",
       "      <td>...</td>\n",
       "      <td>-3.556521e+00</td>\n",
       "      <td>-1.782160e+00</td>\n",
       "      <td>-1.848420e+00</td>\n",
       "      <td>-2.809670e-01</td>\n",
       "      <td>-1.253645e+00</td>\n",
       "      <td>-1.543744e-01</td>\n",
       "      <td>-4.596818e-01</td>\n",
       "      <td>-4.587928e-01</td>\n",
       "      <td>-2.542229e-01</td>\n",
       "      <td>-2.516081e-01</td>\n",
       "    </tr>\n",
       "    <tr>\n",
       "      <th>25%</th>\n",
       "      <td>-6.543991e-02</td>\n",
       "      <td>-8.083272e-01</td>\n",
       "      <td>-6.902202e-01</td>\n",
       "      <td>5.118078e-01</td>\n",
       "      <td>-2.787675e-02</td>\n",
       "      <td>-2.554396e-02</td>\n",
       "      <td>-7.071245e-03</td>\n",
       "      <td>-4.902792e-02</td>\n",
       "      <td>0.0</td>\n",
       "      <td>-4.689954e-02</td>\n",
       "      <td>...</td>\n",
       "      <td>3.519383e-01</td>\n",
       "      <td>-1.271308e+00</td>\n",
       "      <td>-6.514531e-01</td>\n",
       "      <td>-2.809670e-01</td>\n",
       "      <td>-1.253645e+00</td>\n",
       "      <td>-1.543744e-01</td>\n",
       "      <td>-4.596818e-01</td>\n",
       "      <td>-4.587928e-01</td>\n",
       "      <td>-2.542229e-01</td>\n",
       "      <td>-2.516081e-01</td>\n",
       "    </tr>\n",
       "    <tr>\n",
       "      <th>50%</th>\n",
       "      <td>-6.543991e-02</td>\n",
       "      <td>-8.083272e-01</td>\n",
       "      <td>-6.902202e-01</td>\n",
       "      <td>5.118078e-01</td>\n",
       "      <td>-1.753702e-02</td>\n",
       "      <td>-2.554396e-02</td>\n",
       "      <td>-7.071245e-03</td>\n",
       "      <td>-4.902792e-02</td>\n",
       "      <td>0.0</td>\n",
       "      <td>-4.689954e-02</td>\n",
       "      <td>...</td>\n",
       "      <td>3.519383e-01</td>\n",
       "      <td>6.207368e-01</td>\n",
       "      <td>5.943700e-01</td>\n",
       "      <td>-2.809670e-01</td>\n",
       "      <td>8.247318e-01</td>\n",
       "      <td>-1.543744e-01</td>\n",
       "      <td>-4.596818e-01</td>\n",
       "      <td>-4.587928e-01</td>\n",
       "      <td>-2.542229e-01</td>\n",
       "      <td>-2.516081e-01</td>\n",
       "    </tr>\n",
       "    <tr>\n",
       "      <th>75%</th>\n",
       "      <td>-6.543991e-02</td>\n",
       "      <td>9.302913e-01</td>\n",
       "      <td>1.249486e+00</td>\n",
       "      <td>5.118078e-01</td>\n",
       "      <td>-6.391887e-03</td>\n",
       "      <td>-2.554396e-02</td>\n",
       "      <td>-7.071245e-03</td>\n",
       "      <td>-4.902792e-02</td>\n",
       "      <td>0.0</td>\n",
       "      <td>-4.689954e-02</td>\n",
       "      <td>...</td>\n",
       "      <td>3.519383e-01</td>\n",
       "      <td>6.207368e-01</td>\n",
       "      <td>5.943700e-01</td>\n",
       "      <td>8.878418e-02</td>\n",
       "      <td>8.247318e-01</td>\n",
       "      <td>-1.543744e-01</td>\n",
       "      <td>-4.596818e-01</td>\n",
       "      <td>-4.587928e-01</td>\n",
       "      <td>-2.542229e-01</td>\n",
       "      <td>-2.516081e-01</td>\n",
       "    </tr>\n",
       "    <tr>\n",
       "      <th>max</th>\n",
       "      <td>5.693422e+01</td>\n",
       "      <td>2.668910e+00</td>\n",
       "      <td>2.890776e+00</td>\n",
       "      <td>9.549314e-01</td>\n",
       "      <td>1.117246e+02</td>\n",
       "      <td>1.441029e+02</td>\n",
       "      <td>1.414178e+02</td>\n",
       "      <td>2.150171e+01</td>\n",
       "      <td>0.0</td>\n",
       "      <td>3.630933e+01</td>\n",
       "      <td>...</td>\n",
       "      <td>3.519383e-01</td>\n",
       "      <td>6.207368e-01</td>\n",
       "      <td>5.943700e-01</td>\n",
       "      <td>8.962811e+00</td>\n",
       "      <td>8.247318e-01</td>\n",
       "      <td>2.137472e+01</td>\n",
       "      <td>2.185128e+00</td>\n",
       "      <td>2.182920e+00</td>\n",
       "      <td>4.047603e+00</td>\n",
       "      <td>4.064157e+00</td>\n",
       "    </tr>\n",
       "  </tbody>\n",
       "</table>\n",
       "<p>8 rows × 41 columns</p>\n",
       "</div>"
      ],
      "text/plain": [
       "           duration  protocol_type       service          flag     src_bytes  \\\n",
       "count  4.000000e+04   4.000000e+04  4.000000e+04  4.000000e+04  4.000000e+04   \n",
       "mean  -1.305939e-15   1.741329e-16  9.942214e-16 -1.733003e-16  4.426895e-16   \n",
       "std    1.000013e+00   1.000013e+00  1.000013e+00  1.000013e+00  1.000013e+00   \n",
       "min   -6.543991e-02  -8.083272e-01 -1.734677e+00 -3.033181e+00 -2.885630e-02   \n",
       "25%   -6.543991e-02  -8.083272e-01 -6.902202e-01  5.118078e-01 -2.787675e-02   \n",
       "50%   -6.543991e-02  -8.083272e-01 -6.902202e-01  5.118078e-01 -1.753702e-02   \n",
       "75%   -6.543991e-02   9.302913e-01  1.249486e+00  5.118078e-01 -6.391887e-03   \n",
       "max    5.693422e+01   2.668910e+00  2.890776e+00  9.549314e-01  1.117246e+02   \n",
       "\n",
       "          dst_bytes          land  wrong_fragment   urgent           hot  \\\n",
       "count  4.000000e+04  4.000000e+04    4.000000e+04  40000.0  4.000000e+04   \n",
       "mean   2.264166e-16 -4.672501e-16    2.377213e-15      0.0 -1.465841e-18   \n",
       "std    1.000013e+00  1.000013e+00    1.000013e+00      0.0  1.000013e+00   \n",
       "min   -2.554396e-02 -7.071245e-03   -4.902792e-02      0.0 -4.689954e-02   \n",
       "25%   -2.554396e-02 -7.071245e-03   -4.902792e-02      0.0 -4.689954e-02   \n",
       "50%   -2.554396e-02 -7.071245e-03   -4.902792e-02      0.0 -4.689954e-02   \n",
       "75%   -2.554396e-02 -7.071245e-03   -4.902792e-02      0.0 -4.689954e-02   \n",
       "max    1.441029e+02  1.414178e+02    2.150171e+01      0.0  3.630933e+01   \n",
       "\n",
       "                 ...             dst_host_count  dst_host_srv_count  \\\n",
       "count            ...               4.000000e+04        4.000000e+04   \n",
       "mean             ...              -3.249051e-15        2.361167e-16   \n",
       "std              ...               1.000013e+00        1.000013e+00   \n",
       "min              ...              -3.556521e+00       -1.782160e+00   \n",
       "25%              ...               3.519383e-01       -1.271308e+00   \n",
       "50%              ...               3.519383e-01        6.207368e-01   \n",
       "75%              ...               3.519383e-01        6.207368e-01   \n",
       "max              ...               3.519383e-01        6.207368e-01   \n",
       "\n",
       "       dst_host_same_srv_rate  dst_host_diff_srv_rate  \\\n",
       "count            4.000000e+04            4.000000e+04   \n",
       "mean            -2.998712e-17           -4.054701e-16   \n",
       "std              1.000013e+00            1.000013e+00   \n",
       "min             -1.848420e+00           -2.809670e-01   \n",
       "25%             -6.514531e-01           -2.809670e-01   \n",
       "50%              5.943700e-01           -2.809670e-01   \n",
       "75%              5.943700e-01            8.878418e-02   \n",
       "max              5.943700e-01            8.962811e+00   \n",
       "\n",
       "       dst_host_same_src_port_rate  dst_host_srv_diff_host_rate  \\\n",
       "count                 4.000000e+04                 4.000000e+04   \n",
       "mean                 -1.426914e-16                 2.856312e-16   \n",
       "std                   1.000013e+00                 1.000013e+00   \n",
       "min                  -1.253645e+00                -1.543744e-01   \n",
       "25%                  -1.253645e+00                -1.543744e-01   \n",
       "50%                   8.247318e-01                -1.543744e-01   \n",
       "75%                   8.247318e-01                -1.543744e-01   \n",
       "max                   8.247318e-01                 2.137472e+01   \n",
       "\n",
       "       dst_host_serror_rate  dst_host_srv_serror_rate  dst_host_rerror_rate  \\\n",
       "count          4.000000e+04              4.000000e+04          4.000000e+04   \n",
       "mean           9.592743e-16              1.480288e-16          3.075540e-15   \n",
       "std            1.000013e+00              1.000013e+00          1.000013e+00   \n",
       "min           -4.596818e-01             -4.587928e-01         -2.542229e-01   \n",
       "25%           -4.596818e-01             -4.587928e-01         -2.542229e-01   \n",
       "50%           -4.596818e-01             -4.587928e-01         -2.542229e-01   \n",
       "75%           -4.596818e-01             -4.587928e-01         -2.542229e-01   \n",
       "max            2.185128e+00              2.182920e+00          4.047603e+00   \n",
       "\n",
       "       dst_host_srv_rerror_rate  \n",
       "count              4.000000e+04  \n",
       "mean              -5.998313e-16  \n",
       "std                1.000013e+00  \n",
       "min               -2.516081e-01  \n",
       "25%               -2.516081e-01  \n",
       "50%               -2.516081e-01  \n",
       "75%               -2.516081e-01  \n",
       "max                4.064157e+00  \n",
       "\n",
       "[8 rows x 41 columns]"
      ]
     },
     "execution_count": 40,
     "metadata": {},
     "output_type": "execute_result"
    }
   ],
   "source": [
    "pd.DataFrame(x_train,columns=col_names2).describe()"
   ]
  },
  {
   "cell_type": "markdown",
   "metadata": {
    "collapsed": true
   },
   "source": [
    "## 学習"
   ]
  },
  {
   "cell_type": "code",
   "execution_count": 41,
   "metadata": {
    "collapsed": true
   },
   "outputs": [],
   "source": [
    "pca = PCA(copy=True, iterated_power='auto', n_components=4, random_state=None,\n",
    "  svd_solver='auto', tol=0.0, whiten=False)\n"
   ]
  },
  {
   "cell_type": "code",
   "execution_count": 42,
   "metadata": {
    "collapsed": true
   },
   "outputs": [],
   "source": [
    "clf = SVC(C=1.0, cache_size=200, class_weight=None, coef0=0.0,\n",
    "  decision_function_shape=None, degree=3, gamma=0.17782794100389229,\n",
    "  kernel='rbf', max_iter=-1, probability=False, random_state=None,\n",
    "  shrinking=True, tol=0.001, verbose=False)"
   ]
  },
  {
   "cell_type": "code",
   "execution_count": 43,
   "metadata": {
    "collapsed": false
   },
   "outputs": [
    {
     "data": {
      "text/plain": [
       "PCA(copy=True, iterated_power='auto', n_components=4, random_state=None,\n",
       "  svd_solver='auto', tol=0.0, whiten=False)"
      ]
     },
     "execution_count": 43,
     "metadata": {},
     "output_type": "execute_result"
    }
   ],
   "source": [
    "pca.fit(x_train)"
   ]
  },
  {
   "cell_type": "code",
   "execution_count": 44,
   "metadata": {
    "collapsed": false
   },
   "outputs": [],
   "source": [
    "x_train3 = pca.transform(x_train)"
   ]
  },
  {
   "cell_type": "code",
   "execution_count": 45,
   "metadata": {
    "collapsed": true
   },
   "outputs": [],
   "source": [
    "t1=time.perf_counter()\n",
    "clf.fit(x_train3,y_train_3)\n",
    "t2=time.perf_counter()"
   ]
  },
  {
   "cell_type": "code",
   "execution_count": 46,
   "metadata": {
    "collapsed": false
   },
   "outputs": [
    {
     "name": "stdout",
     "output_type": "stream",
     "text": [
      "0.8217600180068985 秒\n"
     ]
    }
   ],
   "source": [
    "print(t2-t1,\"秒\")"
   ]
  },
  {
   "cell_type": "markdown",
   "metadata": {},
   "source": [
    "## 予測"
   ]
  },
  {
   "cell_type": "code",
   "execution_count": 47,
   "metadata": {
    "collapsed": false
   },
   "outputs": [],
   "source": [
    "t1=time.perf_counter()\n",
    "pred=clf.predict(x_train3)\n",
    "t2=time.perf_counter()"
   ]
  },
  {
   "cell_type": "code",
   "execution_count": 48,
   "metadata": {
    "collapsed": false
   },
   "outputs": [
    {
     "name": "stdout",
     "output_type": "stream",
     "text": [
      "0.543758029001765 秒\n"
     ]
    }
   ],
   "source": [
    "print(t2-t1,\"秒\")"
   ]
  },
  {
   "cell_type": "code",
   "execution_count": 49,
   "metadata": {
    "collapsed": false
   },
   "outputs": [
    {
     "name": "stdout",
     "output_type": "stream",
     "text": [
      "             precision    recall  f1-score   support\n",
      "\n",
      "        DoS       1.00      1.00      1.00     31669\n",
      "      Probe       0.98      0.86      0.92       348\n",
      "        R2L       0.89      0.41      0.56        98\n",
      "        U2R       1.00      0.67      0.80         6\n",
      "    normal.       0.98      1.00      0.99      7879\n",
      "\n",
      "avg / total       0.99      0.99      0.99     40000\n",
      "\n",
      "[[31586     6     0     0    77]\n",
      " [   20   299     0     0    29]\n",
      " [    0     0    40     0    58]\n",
      " [    1     0     0     4     1]\n",
      " [    7     0     5     0  7867]]\n"
     ]
    }
   ],
   "source": [
    "print(classification_report(y_train_3, pred))\n",
    "print(confusion_matrix(y_train_3, pred))"
   ]
  },
  {
   "cell_type": "code",
   "execution_count": null,
   "metadata": {
    "collapsed": true
   },
   "outputs": [],
   "source": []
  },
  {
   "cell_type": "code",
   "execution_count": null,
   "metadata": {
    "collapsed": true
   },
   "outputs": [],
   "source": []
  },
  {
   "cell_type": "code",
   "execution_count": null,
   "metadata": {
    "collapsed": true
   },
   "outputs": [],
   "source": []
  }
 ],
 "metadata": {
  "kernelspec": {
   "display_name": "Python 3",
   "language": "python",
   "name": "python3"
  },
  "language_info": {
   "codemirror_mode": {
    "name": "ipython",
    "version": 3
   },
   "file_extension": ".py",
   "mimetype": "text/x-python",
   "name": "python",
   "nbconvert_exporter": "python",
   "pygments_lexer": "ipython3",
   "version": "3.6.0"
  }
 },
 "nbformat": 4,
 "nbformat_minor": 2
}
