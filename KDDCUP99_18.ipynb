{
 "cells": [
  {
   "cell_type": "markdown",
   "metadata": {},
   "source": [
    "# KDD Cup 1999 Data"
   ]
  },
  {
   "cell_type": "markdown",
   "metadata": {
    "collapsed": true
   },
   "source": [
    "http://kdd.ics.uci.edu/databases/kddcup99/kddcup99.html"
   ]
  },
  {
   "cell_type": "code",
   "execution_count": 2,
   "metadata": {
    "collapsed": false
   },
   "outputs": [],
   "source": [
    "import sklearn\n",
    "import pandas as pd\n",
    "from sklearn import preprocessing\n",
    "from sklearn.utils import resample\n",
    "from sklearn.model_selection import GridSearchCV\n",
    "from sklearn.svm import SVC\n",
    "import numpy as np\n",
    "from sklearn.decomposition import PCA\n",
    "from sklearn.neural_network import MLPClassifier \n",
    "from sklearn.pipeline import Pipeline\n",
    "import time\n",
    "from sklearn.metrics import confusion_matrix, classification_report\n",
    "from sklearn.externals import joblib\n",
    "from sklearn.utils import resample"
   ]
  },
  {
   "cell_type": "code",
   "execution_count": 3,
   "metadata": {
    "collapsed": false
   },
   "outputs": [
    {
     "name": "stdout",
     "output_type": "stream",
     "text": [
      "The scikit-learn version is 0.18.1.\n"
     ]
    }
   ],
   "source": [
    "print('The scikit-learn version is {}.'.format(sklearn.__version__))"
   ]
  },
  {
   "cell_type": "code",
   "execution_count": 4,
   "metadata": {
    "collapsed": true
   },
   "outputs": [],
   "source": [
    "col_names = [\"duration\",\"protocol_type\",\"service\",\"flag\",\"src_bytes\",\n",
    "             \"dst_bytes\",\"land\",\"wrong_fragment\",\"urgent\",\"hot\",\"num_failed_logins\",\n",
    "             \"logged_in\",\"num_compromised\",\"root_shell\",\"su_attempted\",\"num_root\",\"num_file_creations\",\n",
    "             \"num_shells\",\"num_access_files\",\"num_outbound_cmds\",\"is_host_login\",\"is_guest_login\",\"count\",\n",
    "             \"srv_count\",\"serror_rate\",\"srv_serror_rate\",\"rerror_rate\",\"srv_rerror_rate\",\"same_srv_rate\",\n",
    "             \"diff_srv_rate\",\"srv_diff_host_rate\",\"dst_host_count\",\"dst_host_srv_count\",\n",
    "             \"dst_host_same_srv_rate\",\"dst_host_diff_srv_rate\",\"dst_host_same_src_port_rate\",\n",
    "             \"dst_host_srv_diff_host_rate\",\"dst_host_serror_rate\",\"dst_host_srv_serror_rate\",\n",
    "             \"dst_host_rerror_rate\",\"dst_host_srv_rerror_rate\",\"label\"]"
   ]
  },
  {
   "cell_type": "code",
   "execution_count": 5,
   "metadata": {
    "collapsed": false
   },
   "outputs": [],
   "source": [
    "data = pd.read_csv(\"data/corrected\", header=None, names = col_names)"
   ]
  },
  {
   "cell_type": "code",
   "execution_count": 6,
   "metadata": {
    "collapsed": false
   },
   "outputs": [
    {
     "data": {
      "text/plain": [
       "(311029, 42)"
      ]
     },
     "execution_count": 6,
     "metadata": {},
     "output_type": "execute_result"
    }
   ],
   "source": [
    "data.shape"
   ]
  },
  {
   "cell_type": "markdown",
   "metadata": {},
   "source": [
    "# 前処理\n",
    "## カテゴリ化"
   ]
  },
  {
   "cell_type": "code",
   "execution_count": 7,
   "metadata": {
    "collapsed": false
   },
   "outputs": [
    {
     "data": {
      "text/plain": [
       "smurf.              164091\n",
       "normal.              60593\n",
       "neptune.             58001\n",
       "snmpgetattack.        7741\n",
       "mailbomb.             5000\n",
       "guess_passwd.         4367\n",
       "snmpguess.            2406\n",
       "satan.                1633\n",
       "warezmaster.          1602\n",
       "back.                 1098\n",
       "mscan.                1053\n",
       "apache2.               794\n",
       "processtable.          759\n",
       "saint.                 736\n",
       "portsweep.             354\n",
       "ipsweep.               306\n",
       "httptunnel.            158\n",
       "pod.                    87\n",
       "nmap.                   84\n",
       "buffer_overflow.        22\n",
       "multihop.               18\n",
       "sendmail.               17\n",
       "named.                  17\n",
       "ps.                     16\n",
       "xterm.                  13\n",
       "rootkit.                13\n",
       "teardrop.               12\n",
       "land.                    9\n",
       "xlock.                   9\n",
       "xsnoop.                  4\n",
       "ftp_write.               3\n",
       "phf.                     2\n",
       "loadmodule.              2\n",
       "worm.                    2\n",
       "sqlattack.               2\n",
       "perl.                    2\n",
       "udpstorm.                2\n",
       "imap.                    1\n",
       "Name: label, dtype: int64"
      ]
     },
     "execution_count": 7,
     "metadata": {},
     "output_type": "execute_result"
    }
   ],
   "source": [
    "data.label.value_counts()"
   ]
  },
  {
   "cell_type": "code",
   "execution_count": 8,
   "metadata": {
    "collapsed": false
   },
   "outputs": [],
   "source": [
    "data['label2'] = data.label.where(data.label.str.contains('normal'),'atack')"
   ]
  },
  {
   "cell_type": "code",
   "execution_count": 9,
   "metadata": {
    "collapsed": false
   },
   "outputs": [
    {
     "data": {
      "text/plain": [
       "atack      250436\n",
       "normal.     60593\n",
       "Name: label2, dtype: int64"
      ]
     },
     "execution_count": 9,
     "metadata": {},
     "output_type": "execute_result"
    }
   ],
   "source": [
    "data.label2.value_counts()"
   ]
  },
  {
   "cell_type": "code",
   "execution_count": 10,
   "metadata": {
    "collapsed": true
   },
   "outputs": [],
   "source": [
    "data['label3'] = data.label.copy()"
   ]
  },
  {
   "cell_type": "code",
   "execution_count": 11,
   "metadata": {
    "collapsed": false
   },
   "outputs": [],
   "source": [
    "data.loc[data.label.str.contains('back|land|neptune|pod|smurf|teardrop|mailbomb|apache2|processtable|udpstorm'),'label3'] = 'DoS'"
   ]
  },
  {
   "cell_type": "code",
   "execution_count": 12,
   "metadata": {
    "collapsed": false
   },
   "outputs": [],
   "source": [
    "data.loc[data.label.str.contains('buffer_overflow|loadmodule|perl|rootkit|ps|xterm|sqlattack'),'label3'] = 'U2R'"
   ]
  },
  {
   "cell_type": "code",
   "execution_count": 13,
   "metadata": {
    "collapsed": true
   },
   "outputs": [],
   "source": [
    "data.loc[data.label.str.contains('ftp_write|guess_passwd|imap|multihop|phf|spy|warezclient|warezmaster|snmpgetattack|snmpguess|httptunnel|sendmail|named|xlock|xsnoop|worm'),'label3'] = 'R2L'"
   ]
  },
  {
   "cell_type": "code",
   "execution_count": 14,
   "metadata": {
    "collapsed": true
   },
   "outputs": [],
   "source": [
    "data.loc[data.label.str.contains('ipsweep|nmap|portsweep|satan|mscan|saint'),'label3'] = 'Probe'"
   ]
  },
  {
   "cell_type": "code",
   "execution_count": 15,
   "metadata": {
    "collapsed": false
   },
   "outputs": [
    {
     "data": {
      "text/plain": [
       "DoS        229851\n",
       "normal.     60593\n",
       "R2L         16347\n",
       "Probe        4166\n",
       "U2R            72\n",
       "Name: label3, dtype: int64"
      ]
     },
     "execution_count": 15,
     "metadata": {},
     "output_type": "execute_result"
    }
   ],
   "source": [
    "data.label3.value_counts()"
   ]
  },
  {
   "cell_type": "code",
   "execution_count": 16,
   "metadata": {
    "collapsed": false
   },
   "outputs": [],
   "source": [
    "#joblib.dump(data,'dump/20171118/corrected.pkl')"
   ]
  },
  {
   "cell_type": "markdown",
   "metadata": {},
   "source": [
    "## サンプリング"
   ]
  },
  {
   "cell_type": "code",
   "execution_count": 17,
   "metadata": {
    "collapsed": true
   },
   "outputs": [],
   "source": [
    "#data = resample(data,n_samples=10000,random_state=0)"
   ]
  },
  {
   "cell_type": "code",
   "execution_count": 18,
   "metadata": {
    "collapsed": false
   },
   "outputs": [],
   "source": [
    "#data.shape"
   ]
  },
  {
   "cell_type": "markdown",
   "metadata": {},
   "source": [
    "## 数値化"
   ]
  },
  {
   "cell_type": "code",
   "execution_count": 19,
   "metadata": {
    "collapsed": true
   },
   "outputs": [],
   "source": [
    "le_protocol_type = preprocessing.LabelEncoder()"
   ]
  },
  {
   "cell_type": "code",
   "execution_count": 20,
   "metadata": {
    "collapsed": false
   },
   "outputs": [
    {
     "data": {
      "text/plain": [
       "LabelEncoder()"
      ]
     },
     "execution_count": 20,
     "metadata": {},
     "output_type": "execute_result"
    }
   ],
   "source": [
    "le_protocol_type.fit(data.protocol_type)"
   ]
  },
  {
   "cell_type": "code",
   "execution_count": 21,
   "metadata": {
    "collapsed": false
   },
   "outputs": [],
   "source": [
    "data.protocol_type=le_protocol_type.transform(data.protocol_type)"
   ]
  },
  {
   "cell_type": "code",
   "execution_count": 22,
   "metadata": {
    "collapsed": true
   },
   "outputs": [],
   "source": [
    "le_service = preprocessing.LabelEncoder()"
   ]
  },
  {
   "cell_type": "code",
   "execution_count": 23,
   "metadata": {
    "collapsed": false
   },
   "outputs": [
    {
     "data": {
      "text/plain": [
       "LabelEncoder()"
      ]
     },
     "execution_count": 23,
     "metadata": {},
     "output_type": "execute_result"
    }
   ],
   "source": [
    "le_service.fit(data.service)"
   ]
  },
  {
   "cell_type": "code",
   "execution_count": 24,
   "metadata": {
    "collapsed": true
   },
   "outputs": [],
   "source": [
    "data.service = le_service.transform(data.service)"
   ]
  },
  {
   "cell_type": "code",
   "execution_count": 25,
   "metadata": {
    "collapsed": true
   },
   "outputs": [],
   "source": [
    "le_flag = preprocessing.LabelEncoder()"
   ]
  },
  {
   "cell_type": "code",
   "execution_count": 26,
   "metadata": {
    "collapsed": false
   },
   "outputs": [
    {
     "data": {
      "text/plain": [
       "LabelEncoder()"
      ]
     },
     "execution_count": 26,
     "metadata": {},
     "output_type": "execute_result"
    }
   ],
   "source": [
    "le_flag.fit(data.flag)"
   ]
  },
  {
   "cell_type": "code",
   "execution_count": 27,
   "metadata": {
    "collapsed": true
   },
   "outputs": [],
   "source": [
    "data.flag = le_flag.transform(data.flag)"
   ]
  },
  {
   "cell_type": "code",
   "execution_count": 28,
   "metadata": {
    "collapsed": false
   },
   "outputs": [
    {
     "data": {
      "text/html": [
       "<div>\n",
       "<table border=\"1\" class=\"dataframe\">\n",
       "  <thead>\n",
       "    <tr style=\"text-align: right;\">\n",
       "      <th></th>\n",
       "      <th>duration</th>\n",
       "      <th>protocol_type</th>\n",
       "      <th>service</th>\n",
       "      <th>flag</th>\n",
       "      <th>src_bytes</th>\n",
       "      <th>dst_bytes</th>\n",
       "      <th>land</th>\n",
       "      <th>wrong_fragment</th>\n",
       "      <th>urgent</th>\n",
       "      <th>hot</th>\n",
       "      <th>...</th>\n",
       "      <th>dst_host_count</th>\n",
       "      <th>dst_host_srv_count</th>\n",
       "      <th>dst_host_same_srv_rate</th>\n",
       "      <th>dst_host_diff_srv_rate</th>\n",
       "      <th>dst_host_same_src_port_rate</th>\n",
       "      <th>dst_host_srv_diff_host_rate</th>\n",
       "      <th>dst_host_serror_rate</th>\n",
       "      <th>dst_host_srv_serror_rate</th>\n",
       "      <th>dst_host_rerror_rate</th>\n",
       "      <th>dst_host_srv_rerror_rate</th>\n",
       "    </tr>\n",
       "  </thead>\n",
       "  <tbody>\n",
       "    <tr>\n",
       "      <th>count</th>\n",
       "      <td>311029.000000</td>\n",
       "      <td>311029.000000</td>\n",
       "      <td>311029.000000</td>\n",
       "      <td>311029.000000</td>\n",
       "      <td>3.110290e+05</td>\n",
       "      <td>3.110290e+05</td>\n",
       "      <td>311029.000000</td>\n",
       "      <td>311029.000000</td>\n",
       "      <td>311029.000000</td>\n",
       "      <td>311029.000000</td>\n",
       "      <td>...</td>\n",
       "      <td>311029.000000</td>\n",
       "      <td>311029.000000</td>\n",
       "      <td>311029.000000</td>\n",
       "      <td>311029.000000</td>\n",
       "      <td>311029.000000</td>\n",
       "      <td>311029.000000</td>\n",
       "      <td>311029.000000</td>\n",
       "      <td>311029.000000</td>\n",
       "      <td>311029.000000</td>\n",
       "      <td>311029.000000</td>\n",
       "    </tr>\n",
       "    <tr>\n",
       "      <th>mean</th>\n",
       "      <td>17.902736</td>\n",
       "      <td>0.555456</td>\n",
       "      <td>25.160310</td>\n",
       "      <td>7.642901</td>\n",
       "      <td>1.731702e+03</td>\n",
       "      <td>7.479937e+02</td>\n",
       "      <td>0.000029</td>\n",
       "      <td>0.000762</td>\n",
       "      <td>0.000051</td>\n",
       "      <td>0.014677</td>\n",
       "      <td>...</td>\n",
       "      <td>235.282681</td>\n",
       "      <td>199.193914</td>\n",
       "      <td>0.793494</td>\n",
       "      <td>0.024953</td>\n",
       "      <td>0.547919</td>\n",
       "      <td>0.004566</td>\n",
       "      <td>0.058764</td>\n",
       "      <td>0.058791</td>\n",
       "      <td>0.142659</td>\n",
       "      <td>0.141693</td>\n",
       "    </tr>\n",
       "    <tr>\n",
       "      <th>std</th>\n",
       "      <td>407.644400</td>\n",
       "      <td>0.647019</td>\n",
       "      <td>14.588059</td>\n",
       "      <td>2.830005</td>\n",
       "      <td>1.276567e+05</td>\n",
       "      <td>1.612018e+04</td>\n",
       "      <td>0.005379</td>\n",
       "      <td>0.040367</td>\n",
       "      <td>0.009821</td>\n",
       "      <td>0.312068</td>\n",
       "      <td>...</td>\n",
       "      <td>60.913298</td>\n",
       "      <td>100.306470</td>\n",
       "      <td>0.387090</td>\n",
       "      <td>0.096003</td>\n",
       "      <td>0.491963</td>\n",
       "      <td>0.035773</td>\n",
       "      <td>0.231296</td>\n",
       "      <td>0.232997</td>\n",
       "      <td>0.344380</td>\n",
       "      <td>0.346573</td>\n",
       "    </tr>\n",
       "    <tr>\n",
       "      <th>min</th>\n",
       "      <td>0.000000</td>\n",
       "      <td>0.000000</td>\n",
       "      <td>0.000000</td>\n",
       "      <td>0.000000</td>\n",
       "      <td>0.000000e+00</td>\n",
       "      <td>0.000000e+00</td>\n",
       "      <td>0.000000</td>\n",
       "      <td>0.000000</td>\n",
       "      <td>0.000000</td>\n",
       "      <td>0.000000</td>\n",
       "      <td>...</td>\n",
       "      <td>0.000000</td>\n",
       "      <td>0.000000</td>\n",
       "      <td>0.000000</td>\n",
       "      <td>0.000000</td>\n",
       "      <td>0.000000</td>\n",
       "      <td>0.000000</td>\n",
       "      <td>0.000000</td>\n",
       "      <td>0.000000</td>\n",
       "      <td>0.000000</td>\n",
       "      <td>0.000000</td>\n",
       "    </tr>\n",
       "    <tr>\n",
       "      <th>25%</th>\n",
       "      <td>0.000000</td>\n",
       "      <td>0.000000</td>\n",
       "      <td>14.000000</td>\n",
       "      <td>9.000000</td>\n",
       "      <td>1.050000e+02</td>\n",
       "      <td>0.000000e+00</td>\n",
       "      <td>0.000000</td>\n",
       "      <td>0.000000</td>\n",
       "      <td>0.000000</td>\n",
       "      <td>0.000000</td>\n",
       "      <td>...</td>\n",
       "      <td>255.000000</td>\n",
       "      <td>244.000000</td>\n",
       "      <td>0.970000</td>\n",
       "      <td>0.000000</td>\n",
       "      <td>0.000000</td>\n",
       "      <td>0.000000</td>\n",
       "      <td>0.000000</td>\n",
       "      <td>0.000000</td>\n",
       "      <td>0.000000</td>\n",
       "      <td>0.000000</td>\n",
       "    </tr>\n",
       "    <tr>\n",
       "      <th>50%</th>\n",
       "      <td>0.000000</td>\n",
       "      <td>0.000000</td>\n",
       "      <td>14.000000</td>\n",
       "      <td>9.000000</td>\n",
       "      <td>5.200000e+02</td>\n",
       "      <td>0.000000e+00</td>\n",
       "      <td>0.000000</td>\n",
       "      <td>0.000000</td>\n",
       "      <td>0.000000</td>\n",
       "      <td>0.000000</td>\n",
       "      <td>...</td>\n",
       "      <td>255.000000</td>\n",
       "      <td>255.000000</td>\n",
       "      <td>1.000000</td>\n",
       "      <td>0.000000</td>\n",
       "      <td>1.000000</td>\n",
       "      <td>0.000000</td>\n",
       "      <td>0.000000</td>\n",
       "      <td>0.000000</td>\n",
       "      <td>0.000000</td>\n",
       "      <td>0.000000</td>\n",
       "    </tr>\n",
       "    <tr>\n",
       "      <th>75%</th>\n",
       "      <td>0.000000</td>\n",
       "      <td>1.000000</td>\n",
       "      <td>46.000000</td>\n",
       "      <td>9.000000</td>\n",
       "      <td>1.032000e+03</td>\n",
       "      <td>0.000000e+00</td>\n",
       "      <td>0.000000</td>\n",
       "      <td>0.000000</td>\n",
       "      <td>0.000000</td>\n",
       "      <td>0.000000</td>\n",
       "      <td>...</td>\n",
       "      <td>255.000000</td>\n",
       "      <td>255.000000</td>\n",
       "      <td>1.000000</td>\n",
       "      <td>0.010000</td>\n",
       "      <td>1.000000</td>\n",
       "      <td>0.000000</td>\n",
       "      <td>0.000000</td>\n",
       "      <td>0.000000</td>\n",
       "      <td>0.000000</td>\n",
       "      <td>0.000000</td>\n",
       "    </tr>\n",
       "    <tr>\n",
       "      <th>max</th>\n",
       "      <td>57715.000000</td>\n",
       "      <td>2.000000</td>\n",
       "      <td>64.000000</td>\n",
       "      <td>10.000000</td>\n",
       "      <td>6.282565e+07</td>\n",
       "      <td>5.203179e+06</td>\n",
       "      <td>1.000000</td>\n",
       "      <td>3.000000</td>\n",
       "      <td>3.000000</td>\n",
       "      <td>101.000000</td>\n",
       "      <td>...</td>\n",
       "      <td>255.000000</td>\n",
       "      <td>255.000000</td>\n",
       "      <td>1.000000</td>\n",
       "      <td>1.000000</td>\n",
       "      <td>1.000000</td>\n",
       "      <td>1.000000</td>\n",
       "      <td>1.000000</td>\n",
       "      <td>1.000000</td>\n",
       "      <td>1.000000</td>\n",
       "      <td>1.000000</td>\n",
       "    </tr>\n",
       "  </tbody>\n",
       "</table>\n",
       "<p>8 rows × 41 columns</p>\n",
       "</div>"
      ],
      "text/plain": [
       "            duration  protocol_type        service           flag  \\\n",
       "count  311029.000000  311029.000000  311029.000000  311029.000000   \n",
       "mean       17.902736       0.555456      25.160310       7.642901   \n",
       "std       407.644400       0.647019      14.588059       2.830005   \n",
       "min         0.000000       0.000000       0.000000       0.000000   \n",
       "25%         0.000000       0.000000      14.000000       9.000000   \n",
       "50%         0.000000       0.000000      14.000000       9.000000   \n",
       "75%         0.000000       1.000000      46.000000       9.000000   \n",
       "max     57715.000000       2.000000      64.000000      10.000000   \n",
       "\n",
       "          src_bytes     dst_bytes           land  wrong_fragment  \\\n",
       "count  3.110290e+05  3.110290e+05  311029.000000   311029.000000   \n",
       "mean   1.731702e+03  7.479937e+02       0.000029        0.000762   \n",
       "std    1.276567e+05  1.612018e+04       0.005379        0.040367   \n",
       "min    0.000000e+00  0.000000e+00       0.000000        0.000000   \n",
       "25%    1.050000e+02  0.000000e+00       0.000000        0.000000   \n",
       "50%    5.200000e+02  0.000000e+00       0.000000        0.000000   \n",
       "75%    1.032000e+03  0.000000e+00       0.000000        0.000000   \n",
       "max    6.282565e+07  5.203179e+06       1.000000        3.000000   \n",
       "\n",
       "              urgent            hot            ...             dst_host_count  \\\n",
       "count  311029.000000  311029.000000            ...              311029.000000   \n",
       "mean        0.000051       0.014677            ...                 235.282681   \n",
       "std         0.009821       0.312068            ...                  60.913298   \n",
       "min         0.000000       0.000000            ...                   0.000000   \n",
       "25%         0.000000       0.000000            ...                 255.000000   \n",
       "50%         0.000000       0.000000            ...                 255.000000   \n",
       "75%         0.000000       0.000000            ...                 255.000000   \n",
       "max         3.000000     101.000000            ...                 255.000000   \n",
       "\n",
       "       dst_host_srv_count  dst_host_same_srv_rate  dst_host_diff_srv_rate  \\\n",
       "count       311029.000000           311029.000000           311029.000000   \n",
       "mean           199.193914                0.793494                0.024953   \n",
       "std            100.306470                0.387090                0.096003   \n",
       "min              0.000000                0.000000                0.000000   \n",
       "25%            244.000000                0.970000                0.000000   \n",
       "50%            255.000000                1.000000                0.000000   \n",
       "75%            255.000000                1.000000                0.010000   \n",
       "max            255.000000                1.000000                1.000000   \n",
       "\n",
       "       dst_host_same_src_port_rate  dst_host_srv_diff_host_rate  \\\n",
       "count                311029.000000                311029.000000   \n",
       "mean                      0.547919                     0.004566   \n",
       "std                       0.491963                     0.035773   \n",
       "min                       0.000000                     0.000000   \n",
       "25%                       0.000000                     0.000000   \n",
       "50%                       1.000000                     0.000000   \n",
       "75%                       1.000000                     0.000000   \n",
       "max                       1.000000                     1.000000   \n",
       "\n",
       "       dst_host_serror_rate  dst_host_srv_serror_rate  dst_host_rerror_rate  \\\n",
       "count         311029.000000             311029.000000         311029.000000   \n",
       "mean               0.058764                  0.058791              0.142659   \n",
       "std                0.231296                  0.232997              0.344380   \n",
       "min                0.000000                  0.000000              0.000000   \n",
       "25%                0.000000                  0.000000              0.000000   \n",
       "50%                0.000000                  0.000000              0.000000   \n",
       "75%                0.000000                  0.000000              0.000000   \n",
       "max                1.000000                  1.000000              1.000000   \n",
       "\n",
       "       dst_host_srv_rerror_rate  \n",
       "count             311029.000000  \n",
       "mean                   0.141693  \n",
       "std                    0.346573  \n",
       "min                    0.000000  \n",
       "25%                    0.000000  \n",
       "50%                    0.000000  \n",
       "75%                    0.000000  \n",
       "max                    1.000000  \n",
       "\n",
       "[8 rows x 41 columns]"
      ]
     },
     "execution_count": 28,
     "metadata": {},
     "output_type": "execute_result"
    }
   ],
   "source": [
    "data.describe()"
   ]
  },
  {
   "cell_type": "code",
   "execution_count": 29,
   "metadata": {
    "collapsed": false
   },
   "outputs": [
    {
     "data": {
      "text/plain": [
       "(311029, 44)"
      ]
     },
     "execution_count": 29,
     "metadata": {},
     "output_type": "execute_result"
    }
   ],
   "source": [
    "data.shape"
   ]
  },
  {
   "cell_type": "markdown",
   "metadata": {},
   "source": [
    "## ラベルの分離"
   ]
  },
  {
   "cell_type": "code",
   "execution_count": 30,
   "metadata": {
    "collapsed": true
   },
   "outputs": [],
   "source": [
    "y_test_1 = data.label.copy() "
   ]
  },
  {
   "cell_type": "code",
   "execution_count": 31,
   "metadata": {
    "collapsed": true
   },
   "outputs": [],
   "source": [
    "y_test_2 = data.label2.copy()"
   ]
  },
  {
   "cell_type": "code",
   "execution_count": 32,
   "metadata": {
    "collapsed": true
   },
   "outputs": [],
   "source": [
    "y_test_3 = data.label3.copy()"
   ]
  },
  {
   "cell_type": "code",
   "execution_count": 33,
   "metadata": {
    "collapsed": false
   },
   "outputs": [],
   "source": [
    "x_test= data.drop(['label','label2','label3'],axis=1)"
   ]
  },
  {
   "cell_type": "code",
   "execution_count": 34,
   "metadata": {
    "collapsed": false
   },
   "outputs": [
    {
     "data": {
      "text/plain": [
       "(311029, 41)"
      ]
     },
     "execution_count": 34,
     "metadata": {},
     "output_type": "execute_result"
    }
   ],
   "source": [
    "x_test.shape"
   ]
  },
  {
   "cell_type": "code",
   "execution_count": 35,
   "metadata": {
    "collapsed": false
   },
   "outputs": [
    {
     "data": {
      "text/plain": [
       "(311029,)"
      ]
     },
     "execution_count": 35,
     "metadata": {},
     "output_type": "execute_result"
    }
   ],
   "source": [
    "y_test_1.shape"
   ]
  },
  {
   "cell_type": "code",
   "execution_count": 36,
   "metadata": {
    "collapsed": false
   },
   "outputs": [
    {
     "data": {
      "text/plain": [
       "(311029,)"
      ]
     },
     "execution_count": 36,
     "metadata": {},
     "output_type": "execute_result"
    }
   ],
   "source": [
    "y_test_2.shape"
   ]
  },
  {
   "cell_type": "code",
   "execution_count": 37,
   "metadata": {
    "collapsed": false
   },
   "outputs": [
    {
     "data": {
      "text/plain": [
       "(311029,)"
      ]
     },
     "execution_count": 37,
     "metadata": {},
     "output_type": "execute_result"
    }
   ],
   "source": [
    "y_test_3.shape"
   ]
  },
  {
   "cell_type": "markdown",
   "metadata": {},
   "source": [
    "## 標準化"
   ]
  },
  {
   "cell_type": "code",
   "execution_count": 38,
   "metadata": {
    "collapsed": true
   },
   "outputs": [],
   "source": [
    "ss = preprocessing.StandardScaler()"
   ]
  },
  {
   "cell_type": "code",
   "execution_count": 39,
   "metadata": {
    "collapsed": false
   },
   "outputs": [
    {
     "data": {
      "text/plain": [
       "StandardScaler(copy=True, with_mean=True, with_std=True)"
      ]
     },
     "execution_count": 39,
     "metadata": {},
     "output_type": "execute_result"
    }
   ],
   "source": [
    "ss.fit(x_test)"
   ]
  },
  {
   "cell_type": "code",
   "execution_count": 40,
   "metadata": {
    "collapsed": true
   },
   "outputs": [],
   "source": [
    "x_test = ss.transform(x_test)"
   ]
  },
  {
   "cell_type": "code",
   "execution_count": 41,
   "metadata": {
    "collapsed": true
   },
   "outputs": [],
   "source": [
    "col_names2 = [\"duration\",\"protocol_type\",\"service\",\"flag\",\"src_bytes\",\n",
    "             \"dst_bytes\",\"land\",\"wrong_fragment\",\"urgent\",\"hot\",\"num_failed_logins\",\n",
    "             \"logged_in\",\"num_compromised\",\"root_shell\",\"su_attempted\",\"num_root\",\"num_file_creations\",\n",
    "             \"num_shells\",\"num_access_files\",\"num_outbound_cmds\",\"is_host_login\",\"is_guest_login\",\"count\",\n",
    "             \"srv_count\",\"serror_rate\",\"srv_serror_rate\",\"rerror_rate\",\"srv_rerror_rate\",\"same_srv_rate\",\n",
    "             \"diff_srv_rate\",\"srv_diff_host_rate\",\"dst_host_count\",\"dst_host_srv_count\",\n",
    "             \"dst_host_same_srv_rate\",\"dst_host_diff_srv_rate\",\"dst_host_same_src_port_rate\",\n",
    "             \"dst_host_srv_diff_host_rate\",\"dst_host_serror_rate\",\"dst_host_srv_serror_rate\",\n",
    "             \"dst_host_rerror_rate\",\"dst_host_srv_rerror_rate\"]"
   ]
  },
  {
   "cell_type": "code",
   "execution_count": 42,
   "metadata": {
    "collapsed": false
   },
   "outputs": [
    {
     "data": {
      "text/html": [
       "<div>\n",
       "<table border=\"1\" class=\"dataframe\">\n",
       "  <thead>\n",
       "    <tr style=\"text-align: right;\">\n",
       "      <th></th>\n",
       "      <th>duration</th>\n",
       "      <th>protocol_type</th>\n",
       "      <th>service</th>\n",
       "      <th>flag</th>\n",
       "      <th>src_bytes</th>\n",
       "      <th>dst_bytes</th>\n",
       "      <th>land</th>\n",
       "      <th>wrong_fragment</th>\n",
       "      <th>urgent</th>\n",
       "      <th>hot</th>\n",
       "      <th>...</th>\n",
       "      <th>dst_host_count</th>\n",
       "      <th>dst_host_srv_count</th>\n",
       "      <th>dst_host_same_srv_rate</th>\n",
       "      <th>dst_host_diff_srv_rate</th>\n",
       "      <th>dst_host_same_src_port_rate</th>\n",
       "      <th>dst_host_srv_diff_host_rate</th>\n",
       "      <th>dst_host_serror_rate</th>\n",
       "      <th>dst_host_srv_serror_rate</th>\n",
       "      <th>dst_host_rerror_rate</th>\n",
       "      <th>dst_host_srv_rerror_rate</th>\n",
       "    </tr>\n",
       "  </thead>\n",
       "  <tbody>\n",
       "    <tr>\n",
       "      <th>count</th>\n",
       "      <td>3.110290e+05</td>\n",
       "      <td>3.110290e+05</td>\n",
       "      <td>3.110290e+05</td>\n",
       "      <td>3.110290e+05</td>\n",
       "      <td>3.110290e+05</td>\n",
       "      <td>3.110290e+05</td>\n",
       "      <td>3.110290e+05</td>\n",
       "      <td>3.110290e+05</td>\n",
       "      <td>3.110290e+05</td>\n",
       "      <td>3.110290e+05</td>\n",
       "      <td>...</td>\n",
       "      <td>3.110290e+05</td>\n",
       "      <td>3.110290e+05</td>\n",
       "      <td>3.110290e+05</td>\n",
       "      <td>3.110290e+05</td>\n",
       "      <td>3.110290e+05</td>\n",
       "      <td>3.110290e+05</td>\n",
       "      <td>3.110290e+05</td>\n",
       "      <td>3.110290e+05</td>\n",
       "      <td>3.110290e+05</td>\n",
       "      <td>3.110290e+05</td>\n",
       "    </tr>\n",
       "    <tr>\n",
       "      <th>mean</th>\n",
       "      <td>-2.575908e-14</td>\n",
       "      <td>4.133219e-14</td>\n",
       "      <td>5.639779e-13</td>\n",
       "      <td>-2.563808e-13</td>\n",
       "      <td>-9.452428e-15</td>\n",
       "      <td>1.146574e-14</td>\n",
       "      <td>-2.145760e-15</td>\n",
       "      <td>-4.268431e-15</td>\n",
       "      <td>1.529390e-14</td>\n",
       "      <td>6.810760e-14</td>\n",
       "      <td>...</td>\n",
       "      <td>-5.811937e-14</td>\n",
       "      <td>4.568262e-14</td>\n",
       "      <td>3.579529e-13</td>\n",
       "      <td>1.649841e-14</td>\n",
       "      <td>5.742343e-14</td>\n",
       "      <td>-6.019605e-14</td>\n",
       "      <td>7.131952e-13</td>\n",
       "      <td>1.289530e-13</td>\n",
       "      <td>3.330266e-13</td>\n",
       "      <td>-5.024232e-13</td>\n",
       "    </tr>\n",
       "    <tr>\n",
       "      <th>std</th>\n",
       "      <td>1.000002e+00</td>\n",
       "      <td>1.000002e+00</td>\n",
       "      <td>1.000002e+00</td>\n",
       "      <td>1.000002e+00</td>\n",
       "      <td>1.000002e+00</td>\n",
       "      <td>1.000002e+00</td>\n",
       "      <td>1.000002e+00</td>\n",
       "      <td>1.000002e+00</td>\n",
       "      <td>1.000002e+00</td>\n",
       "      <td>1.000002e+00</td>\n",
       "      <td>...</td>\n",
       "      <td>1.000002e+00</td>\n",
       "      <td>1.000002e+00</td>\n",
       "      <td>1.000002e+00</td>\n",
       "      <td>1.000002e+00</td>\n",
       "      <td>1.000002e+00</td>\n",
       "      <td>1.000002e+00</td>\n",
       "      <td>1.000002e+00</td>\n",
       "      <td>1.000002e+00</td>\n",
       "      <td>1.000002e+00</td>\n",
       "      <td>1.000002e+00</td>\n",
       "    </tr>\n",
       "    <tr>\n",
       "      <th>min</th>\n",
       "      <td>-4.391760e-02</td>\n",
       "      <td>-8.584868e-01</td>\n",
       "      <td>-1.724722e+00</td>\n",
       "      <td>-2.700671e+00</td>\n",
       "      <td>-1.356532e-02</td>\n",
       "      <td>-4.640115e-02</td>\n",
       "      <td>-5.379316e-03</td>\n",
       "      <td>-1.887649e-02</td>\n",
       "      <td>-5.237992e-03</td>\n",
       "      <td>-4.703170e-02</td>\n",
       "      <td>...</td>\n",
       "      <td>-3.862589e+00</td>\n",
       "      <td>-1.985856e+00</td>\n",
       "      <td>-2.049899e+00</td>\n",
       "      <td>-2.599146e-01</td>\n",
       "      <td>-1.113742e+00</td>\n",
       "      <td>-1.276438e-01</td>\n",
       "      <td>-2.540659e-01</td>\n",
       "      <td>-2.523262e-01</td>\n",
       "      <td>-4.142494e-01</td>\n",
       "      <td>-4.088416e-01</td>\n",
       "    </tr>\n",
       "    <tr>\n",
       "      <th>25%</th>\n",
       "      <td>-4.391760e-02</td>\n",
       "      <td>-8.584868e-01</td>\n",
       "      <td>-7.650317e-01</td>\n",
       "      <td>4.795400e-01</td>\n",
       "      <td>-1.274280e-02</td>\n",
       "      <td>-4.640115e-02</td>\n",
       "      <td>-5.379316e-03</td>\n",
       "      <td>-1.887649e-02</td>\n",
       "      <td>-5.237992e-03</td>\n",
       "      <td>-4.703170e-02</td>\n",
       "      <td>...</td>\n",
       "      <td>3.236953e-01</td>\n",
       "      <td>4.466926e-01</td>\n",
       "      <td>4.559820e-01</td>\n",
       "      <td>-2.599146e-01</td>\n",
       "      <td>-1.113742e+00</td>\n",
       "      <td>-1.276438e-01</td>\n",
       "      <td>-2.540659e-01</td>\n",
       "      <td>-2.523262e-01</td>\n",
       "      <td>-4.142494e-01</td>\n",
       "      <td>-4.088416e-01</td>\n",
       "    </tr>\n",
       "    <tr>\n",
       "      <th>50%</th>\n",
       "      <td>-4.391760e-02</td>\n",
       "      <td>-8.584868e-01</td>\n",
       "      <td>-7.650317e-01</td>\n",
       "      <td>4.795400e-01</td>\n",
       "      <td>-9.491894e-03</td>\n",
       "      <td>-4.640115e-02</td>\n",
       "      <td>-5.379316e-03</td>\n",
       "      <td>-1.887649e-02</td>\n",
       "      <td>-5.237992e-03</td>\n",
       "      <td>-4.703170e-02</td>\n",
       "      <td>...</td>\n",
       "      <td>3.236953e-01</td>\n",
       "      <td>5.563567e-01</td>\n",
       "      <td>5.334835e-01</td>\n",
       "      <td>-2.599146e-01</td>\n",
       "      <td>9.189357e-01</td>\n",
       "      <td>-1.276438e-01</td>\n",
       "      <td>-2.540659e-01</td>\n",
       "      <td>-2.523262e-01</td>\n",
       "      <td>-4.142494e-01</td>\n",
       "      <td>-4.088416e-01</td>\n",
       "    </tr>\n",
       "    <tr>\n",
       "      <th>75%</th>\n",
       "      <td>-4.391760e-02</td>\n",
       "      <td>6.870657e-01</td>\n",
       "      <td>1.428547e+00</td>\n",
       "      <td>4.795400e-01</td>\n",
       "      <td>-5.481131e-03</td>\n",
       "      <td>-4.640115e-02</td>\n",
       "      <td>-5.379316e-03</td>\n",
       "      <td>-1.887649e-02</td>\n",
       "      <td>-5.237992e-03</td>\n",
       "      <td>-4.703170e-02</td>\n",
       "      <td>...</td>\n",
       "      <td>3.236953e-01</td>\n",
       "      <td>5.563567e-01</td>\n",
       "      <td>5.334835e-01</td>\n",
       "      <td>-1.557514e-01</td>\n",
       "      <td>9.189357e-01</td>\n",
       "      <td>-1.276438e-01</td>\n",
       "      <td>-2.540659e-01</td>\n",
       "      <td>-2.523262e-01</td>\n",
       "      <td>-4.142494e-01</td>\n",
       "      <td>-4.088416e-01</td>\n",
       "    </tr>\n",
       "    <tr>\n",
       "      <th>max</th>\n",
       "      <td>1.415380e+02</td>\n",
       "      <td>2.232618e+00</td>\n",
       "      <td>2.662435e+00</td>\n",
       "      <td>8.328967e-01</td>\n",
       "      <td>4.921324e+02</td>\n",
       "      <td>3.227284e+02</td>\n",
       "      <td>1.858972e+02</td>\n",
       "      <td>7.429931e+01</td>\n",
       "      <td>3.054637e+02</td>\n",
       "      <td>3.236004e+02</td>\n",
       "      <td>...</td>\n",
       "      <td>3.236953e-01</td>\n",
       "      <td>5.563567e-01</td>\n",
       "      <td>5.334835e-01</td>\n",
       "      <td>1.015641e+01</td>\n",
       "      <td>9.189357e-01</td>\n",
       "      <td>2.782622e+01</td>\n",
       "      <td>4.069414e+00</td>\n",
       "      <td>4.039579e+00</td>\n",
       "      <td>2.489527e+00</td>\n",
       "      <td>2.476556e+00</td>\n",
       "    </tr>\n",
       "  </tbody>\n",
       "</table>\n",
       "<p>8 rows × 41 columns</p>\n",
       "</div>"
      ],
      "text/plain": [
       "           duration  protocol_type       service          flag     src_bytes  \\\n",
       "count  3.110290e+05   3.110290e+05  3.110290e+05  3.110290e+05  3.110290e+05   \n",
       "mean  -2.575908e-14   4.133219e-14  5.639779e-13 -2.563808e-13 -9.452428e-15   \n",
       "std    1.000002e+00   1.000002e+00  1.000002e+00  1.000002e+00  1.000002e+00   \n",
       "min   -4.391760e-02  -8.584868e-01 -1.724722e+00 -2.700671e+00 -1.356532e-02   \n",
       "25%   -4.391760e-02  -8.584868e-01 -7.650317e-01  4.795400e-01 -1.274280e-02   \n",
       "50%   -4.391760e-02  -8.584868e-01 -7.650317e-01  4.795400e-01 -9.491894e-03   \n",
       "75%   -4.391760e-02   6.870657e-01  1.428547e+00  4.795400e-01 -5.481131e-03   \n",
       "max    1.415380e+02   2.232618e+00  2.662435e+00  8.328967e-01  4.921324e+02   \n",
       "\n",
       "          dst_bytes          land  wrong_fragment        urgent           hot  \\\n",
       "count  3.110290e+05  3.110290e+05    3.110290e+05  3.110290e+05  3.110290e+05   \n",
       "mean   1.146574e-14 -2.145760e-15   -4.268431e-15  1.529390e-14  6.810760e-14   \n",
       "std    1.000002e+00  1.000002e+00    1.000002e+00  1.000002e+00  1.000002e+00   \n",
       "min   -4.640115e-02 -5.379316e-03   -1.887649e-02 -5.237992e-03 -4.703170e-02   \n",
       "25%   -4.640115e-02 -5.379316e-03   -1.887649e-02 -5.237992e-03 -4.703170e-02   \n",
       "50%   -4.640115e-02 -5.379316e-03   -1.887649e-02 -5.237992e-03 -4.703170e-02   \n",
       "75%   -4.640115e-02 -5.379316e-03   -1.887649e-02 -5.237992e-03 -4.703170e-02   \n",
       "max    3.227284e+02  1.858972e+02    7.429931e+01  3.054637e+02  3.236004e+02   \n",
       "\n",
       "                 ...             dst_host_count  dst_host_srv_count  \\\n",
       "count            ...               3.110290e+05        3.110290e+05   \n",
       "mean             ...              -5.811937e-14        4.568262e-14   \n",
       "std              ...               1.000002e+00        1.000002e+00   \n",
       "min              ...              -3.862589e+00       -1.985856e+00   \n",
       "25%              ...               3.236953e-01        4.466926e-01   \n",
       "50%              ...               3.236953e-01        5.563567e-01   \n",
       "75%              ...               3.236953e-01        5.563567e-01   \n",
       "max              ...               3.236953e-01        5.563567e-01   \n",
       "\n",
       "       dst_host_same_srv_rate  dst_host_diff_srv_rate  \\\n",
       "count            3.110290e+05            3.110290e+05   \n",
       "mean             3.579529e-13            1.649841e-14   \n",
       "std              1.000002e+00            1.000002e+00   \n",
       "min             -2.049899e+00           -2.599146e-01   \n",
       "25%              4.559820e-01           -2.599146e-01   \n",
       "50%              5.334835e-01           -2.599146e-01   \n",
       "75%              5.334835e-01           -1.557514e-01   \n",
       "max              5.334835e-01            1.015641e+01   \n",
       "\n",
       "       dst_host_same_src_port_rate  dst_host_srv_diff_host_rate  \\\n",
       "count                 3.110290e+05                 3.110290e+05   \n",
       "mean                  5.742343e-14                -6.019605e-14   \n",
       "std                   1.000002e+00                 1.000002e+00   \n",
       "min                  -1.113742e+00                -1.276438e-01   \n",
       "25%                  -1.113742e+00                -1.276438e-01   \n",
       "50%                   9.189357e-01                -1.276438e-01   \n",
       "75%                   9.189357e-01                -1.276438e-01   \n",
       "max                   9.189357e-01                 2.782622e+01   \n",
       "\n",
       "       dst_host_serror_rate  dst_host_srv_serror_rate  dst_host_rerror_rate  \\\n",
       "count          3.110290e+05              3.110290e+05          3.110290e+05   \n",
       "mean           7.131952e-13              1.289530e-13          3.330266e-13   \n",
       "std            1.000002e+00              1.000002e+00          1.000002e+00   \n",
       "min           -2.540659e-01             -2.523262e-01         -4.142494e-01   \n",
       "25%           -2.540659e-01             -2.523262e-01         -4.142494e-01   \n",
       "50%           -2.540659e-01             -2.523262e-01         -4.142494e-01   \n",
       "75%           -2.540659e-01             -2.523262e-01         -4.142494e-01   \n",
       "max            4.069414e+00              4.039579e+00          2.489527e+00   \n",
       "\n",
       "       dst_host_srv_rerror_rate  \n",
       "count              3.110290e+05  \n",
       "mean              -5.024232e-13  \n",
       "std                1.000002e+00  \n",
       "min               -4.088416e-01  \n",
       "25%               -4.088416e-01  \n",
       "50%               -4.088416e-01  \n",
       "75%               -4.088416e-01  \n",
       "max                2.476556e+00  \n",
       "\n",
       "[8 rows x 41 columns]"
      ]
     },
     "execution_count": 42,
     "metadata": {},
     "output_type": "execute_result"
    }
   ],
   "source": [
    "pd.DataFrame(x_test,columns=col_names2).describe()"
   ]
  },
  {
   "cell_type": "markdown",
   "metadata": {
    "collapsed": true
   },
   "source": [
    "## 学習"
   ]
  },
  {
   "cell_type": "code",
   "execution_count": 45,
   "metadata": {
    "collapsed": true
   },
   "outputs": [],
   "source": [
    "clf = joblib.load('dump/20171118/MLPClassifier10per.pkl')"
   ]
  },
  {
   "cell_type": "code",
   "execution_count": 46,
   "metadata": {
    "collapsed": false
   },
   "outputs": [],
   "source": [
    "t1=time.perf_counter()\n",
    "pred = clf.predict(x_test)\n",
    "t2=time.perf_counter()"
   ]
  },
  {
   "cell_type": "code",
   "execution_count": 47,
   "metadata": {
    "collapsed": false
   },
   "outputs": [
    {
     "name": "stdout",
     "output_type": "stream",
     "text": [
      "1.5423931580007775 秒\n"
     ]
    }
   ],
   "source": [
    "print(t2-t1,\"秒\")"
   ]
  },
  {
   "cell_type": "code",
   "execution_count": 48,
   "metadata": {
    "collapsed": false
   },
   "outputs": [
    {
     "name": "stdout",
     "output_type": "stream",
     "text": [
      "             precision    recall  f1-score   support\n",
      "\n",
      "        DoS       1.00      0.97      0.99    229851\n",
      "      Probe       0.88      0.67      0.76      4166\n",
      "        R2L       0.93      0.03      0.06     16347\n",
      "        U2R       0.31      0.15      0.20        72\n",
      "    normal.       0.72      1.00      0.84     60593\n",
      "\n",
      "avg / total       0.94      0.92      0.91    311029\n",
      "\n",
      "[[223676    188      0      0   5987]\n",
      " [   183   2812      0      0   1171]\n",
      " [     2     73    479      4  15789]\n",
      " [     4      0      3     11     54]\n",
      " [    70    138     34     21  60330]]\n"
     ]
    }
   ],
   "source": [
    "print(classification_report(y_test_3, pred))\n",
    "print(confusion_matrix(y_test_3, pred))"
   ]
  },
  {
   "cell_type": "code",
   "execution_count": 140,
   "metadata": {
    "collapsed": false
   },
   "outputs": [
    {
     "data": {
      "text/plain": [
       "['dump/20171118/MLPClassifier10per.pkl']"
      ]
     },
     "execution_count": 140,
     "metadata": {},
     "output_type": "execute_result"
    }
   ],
   "source": [
    "#joblib.dump(data,'dump/20171118/MLPClassifier10per.pkl')"
   ]
  },
  {
   "cell_type": "code",
   "execution_count": null,
   "metadata": {
    "collapsed": true
   },
   "outputs": [],
   "source": []
  }
 ],
 "metadata": {
  "kernelspec": {
   "display_name": "Python 3",
   "language": "python",
   "name": "python3"
  },
  "language_info": {
   "codemirror_mode": {
    "name": "ipython",
    "version": 3
   },
   "file_extension": ".py",
   "mimetype": "text/x-python",
   "name": "python",
   "nbconvert_exporter": "python",
   "pygments_lexer": "ipython3",
   "version": "3.6.0"
  }
 },
 "nbformat": 4,
 "nbformat_minor": 2
}
