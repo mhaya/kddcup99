{
 "cells": [
  {
   "cell_type": "markdown",
   "metadata": {},
   "source": [
    "# KDD Cup 1999 Data"
   ]
  },
  {
   "cell_type": "markdown",
   "metadata": {
    "collapsed": true
   },
   "source": [
    "http://kdd.ics.uci.edu/databases/kddcup99/kddcup99.html"
   ]
  },
  {
   "cell_type": "code",
   "execution_count": 1,
   "metadata": {
    "collapsed": true
   },
   "outputs": [],
   "source": [
    "import sklearn\n",
    "import pandas as pd\n",
    "from sklearn import preprocessing\n",
    "from sklearn.utils import resample\n",
    "from sklearn.model_selection import GridSearchCV\n",
    "from sklearn.svm import SVC\n",
    "import numpy as np\n",
    "from sklearn.decomposition import PCA\n",
    "from sklearn.pipeline import Pipeline\n",
    "import time\n",
    "from sklearn.metrics import confusion_matrix, classification_report\n",
    "from sklearn.externals import joblib\n",
    "from sklearn.utils import resample"
   ]
  },
  {
   "cell_type": "code",
   "execution_count": 2,
   "metadata": {
    "collapsed": false
   },
   "outputs": [
    {
     "name": "stdout",
     "output_type": "stream",
     "text": [
      "The scikit-learn version is 0.18.1.\n"
     ]
    }
   ],
   "source": [
    "print('The scikit-learn version is {}.'.format(sklearn.__version__))"
   ]
  },
  {
   "cell_type": "code",
   "execution_count": 3,
   "metadata": {
    "collapsed": true
   },
   "outputs": [],
   "source": [
    "col_names = [\"duration\",\"protocol_type\",\"service\",\"flag\",\"src_bytes\",\n",
    "             \"dst_bytes\",\"land\",\"wrong_fragment\",\"urgent\",\"hot\",\"num_failed_logins\",\n",
    "             \"logged_in\",\"num_compromised\",\"root_shell\",\"su_attempted\",\"num_root\",\"num_file_creations\",\n",
    "             \"num_shells\",\"num_access_files\",\"num_outbound_cmds\",\"is_host_login\",\"is_guest_login\",\"count\",\n",
    "             \"srv_count\",\"serror_rate\",\"srv_serror_rate\",\"rerror_rate\",\"srv_rerror_rate\",\"same_srv_rate\",\n",
    "             \"diff_srv_rate\",\"srv_diff_host_rate\",\"dst_host_count\",\"dst_host_srv_count\",\n",
    "             \"dst_host_same_srv_rate\",\"dst_host_diff_srv_rate\",\"dst_host_same_src_port_rate\",\n",
    "             \"dst_host_srv_diff_host_rate\",\"dst_host_serror_rate\",\"dst_host_srv_serror_rate\",\n",
    "             \"dst_host_rerror_rate\",\"dst_host_srv_rerror_rate\",\"label\"]"
   ]
  },
  {
   "cell_type": "code",
   "execution_count": 4,
   "metadata": {
    "collapsed": true
   },
   "outputs": [],
   "source": [
    "data = pd.read_csv(\"kddcup.data_10_percent\", header=None, names = col_names)"
   ]
  },
  {
   "cell_type": "markdown",
   "metadata": {},
   "source": [
    "# 前処理\n",
    "## カテゴリ化"
   ]
  },
  {
   "cell_type": "code",
   "execution_count": 5,
   "metadata": {
    "collapsed": false
   },
   "outputs": [
    {
     "data": {
      "text/plain": [
       "smurf.              280790\n",
       "neptune.            107201\n",
       "normal.              97278\n",
       "back.                 2203\n",
       "satan.                1589\n",
       "ipsweep.              1247\n",
       "portsweep.            1040\n",
       "warezclient.          1020\n",
       "teardrop.              979\n",
       "pod.                   264\n",
       "nmap.                  231\n",
       "guess_passwd.           53\n",
       "buffer_overflow.        30\n",
       "land.                   21\n",
       "warezmaster.            20\n",
       "imap.                   12\n",
       "rootkit.                10\n",
       "loadmodule.              9\n",
       "ftp_write.               8\n",
       "multihop.                7\n",
       "phf.                     4\n",
       "perl.                    3\n",
       "spy.                     2\n",
       "Name: label, dtype: int64"
      ]
     },
     "execution_count": 5,
     "metadata": {},
     "output_type": "execute_result"
    }
   ],
   "source": [
    "data.label.value_counts()"
   ]
  },
  {
   "cell_type": "code",
   "execution_count": 6,
   "metadata": {
    "collapsed": false
   },
   "outputs": [],
   "source": [
    "data['label2'] = data.label.where(data.label.str.contains('normal'),'atack')"
   ]
  },
  {
   "cell_type": "code",
   "execution_count": 7,
   "metadata": {
    "collapsed": false
   },
   "outputs": [
    {
     "data": {
      "text/plain": [
       "atack      396743\n",
       "normal.     97278\n",
       "Name: label2, dtype: int64"
      ]
     },
     "execution_count": 7,
     "metadata": {},
     "output_type": "execute_result"
    }
   ],
   "source": [
    "data.label2.value_counts()"
   ]
  },
  {
   "cell_type": "code",
   "execution_count": 8,
   "metadata": {
    "collapsed": true
   },
   "outputs": [],
   "source": [
    "data['label3'] = data.label.copy()"
   ]
  },
  {
   "cell_type": "code",
   "execution_count": 9,
   "metadata": {
    "collapsed": false
   },
   "outputs": [],
   "source": [
    "data.loc[data.label.str.contains('back|land|neptune|pod|smurf|teardrop'),'label3'] = 'DoS'"
   ]
  },
  {
   "cell_type": "code",
   "execution_count": 10,
   "metadata": {
    "collapsed": false
   },
   "outputs": [],
   "source": [
    "data.loc[data.label.str.contains('buffer_overflow|loadmodule|perl|rootkit'),'label3'] = 'U2R'"
   ]
  },
  {
   "cell_type": "code",
   "execution_count": 11,
   "metadata": {
    "collapsed": true
   },
   "outputs": [],
   "source": [
    "data.loc[data.label.str.contains('ftp_write|guess_passwd|imap|multihop|phf|spy|warezclient|warezmaster'),'label3'] = 'R2L'"
   ]
  },
  {
   "cell_type": "code",
   "execution_count": 12,
   "metadata": {
    "collapsed": true
   },
   "outputs": [],
   "source": [
    "data.loc[data.label.str.contains('ipsweep|nmap|portsweep|satan'),'label3'] = 'Probe'"
   ]
  },
  {
   "cell_type": "code",
   "execution_count": 13,
   "metadata": {
    "collapsed": false
   },
   "outputs": [
    {
     "data": {
      "text/plain": [
       "DoS        391458\n",
       "normal.     97278\n",
       "Probe        4107\n",
       "R2L          1126\n",
       "U2R            52\n",
       "Name: label3, dtype: int64"
      ]
     },
     "execution_count": 13,
     "metadata": {},
     "output_type": "execute_result"
    }
   ],
   "source": [
    "data.label3.value_counts()"
   ]
  },
  {
   "cell_type": "markdown",
   "metadata": {},
   "source": [
    "## サンプリング"
   ]
  },
  {
   "cell_type": "code",
   "execution_count": 14,
   "metadata": {
    "collapsed": true
   },
   "outputs": [],
   "source": [
    "data = resample(data,n_samples=5000,random_state=0)"
   ]
  },
  {
   "cell_type": "code",
   "execution_count": 15,
   "metadata": {
    "collapsed": false
   },
   "outputs": [
    {
     "data": {
      "text/plain": [
       "(5000, 44)"
      ]
     },
     "execution_count": 15,
     "metadata": {},
     "output_type": "execute_result"
    }
   ],
   "source": [
    "data.shape"
   ]
  },
  {
   "cell_type": "markdown",
   "metadata": {},
   "source": [
    "## 数値化"
   ]
  },
  {
   "cell_type": "code",
   "execution_count": 16,
   "metadata": {
    "collapsed": true
   },
   "outputs": [],
   "source": [
    "le_protocol_type = preprocessing.LabelEncoder()"
   ]
  },
  {
   "cell_type": "code",
   "execution_count": 17,
   "metadata": {
    "collapsed": false
   },
   "outputs": [
    {
     "data": {
      "text/plain": [
       "LabelEncoder()"
      ]
     },
     "execution_count": 17,
     "metadata": {},
     "output_type": "execute_result"
    }
   ],
   "source": [
    "le_protocol_type.fit(data.protocol_type)"
   ]
  },
  {
   "cell_type": "code",
   "execution_count": 18,
   "metadata": {
    "collapsed": false
   },
   "outputs": [],
   "source": [
    "data.protocol_type=le_protocol_type.transform(data.protocol_type)"
   ]
  },
  {
   "cell_type": "code",
   "execution_count": 19,
   "metadata": {
    "collapsed": true
   },
   "outputs": [],
   "source": [
    "le_service = preprocessing.LabelEncoder()"
   ]
  },
  {
   "cell_type": "code",
   "execution_count": 20,
   "metadata": {
    "collapsed": false
   },
   "outputs": [
    {
     "data": {
      "text/plain": [
       "LabelEncoder()"
      ]
     },
     "execution_count": 20,
     "metadata": {},
     "output_type": "execute_result"
    }
   ],
   "source": [
    "le_service.fit(data.service)"
   ]
  },
  {
   "cell_type": "code",
   "execution_count": 21,
   "metadata": {
    "collapsed": true
   },
   "outputs": [],
   "source": [
    "data.service = le_service.transform(data.service)"
   ]
  },
  {
   "cell_type": "code",
   "execution_count": 22,
   "metadata": {
    "collapsed": true
   },
   "outputs": [],
   "source": [
    "le_flag = preprocessing.LabelEncoder()"
   ]
  },
  {
   "cell_type": "code",
   "execution_count": 23,
   "metadata": {
    "collapsed": false
   },
   "outputs": [
    {
     "data": {
      "text/plain": [
       "LabelEncoder()"
      ]
     },
     "execution_count": 23,
     "metadata": {},
     "output_type": "execute_result"
    }
   ],
   "source": [
    "le_flag.fit(data.flag)"
   ]
  },
  {
   "cell_type": "code",
   "execution_count": 24,
   "metadata": {
    "collapsed": true
   },
   "outputs": [],
   "source": [
    "data.flag = le_flag.transform(data.flag)"
   ]
  },
  {
   "cell_type": "code",
   "execution_count": 25,
   "metadata": {
    "collapsed": false
   },
   "outputs": [
    {
     "data": {
      "text/html": [
       "<div>\n",
       "<table border=\"1\" class=\"dataframe\">\n",
       "  <thead>\n",
       "    <tr style=\"text-align: right;\">\n",
       "      <th></th>\n",
       "      <th>duration</th>\n",
       "      <th>protocol_type</th>\n",
       "      <th>service</th>\n",
       "      <th>flag</th>\n",
       "      <th>src_bytes</th>\n",
       "      <th>dst_bytes</th>\n",
       "      <th>land</th>\n",
       "      <th>wrong_fragment</th>\n",
       "      <th>urgent</th>\n",
       "      <th>hot</th>\n",
       "      <th>...</th>\n",
       "      <th>dst_host_count</th>\n",
       "      <th>dst_host_srv_count</th>\n",
       "      <th>dst_host_same_srv_rate</th>\n",
       "      <th>dst_host_diff_srv_rate</th>\n",
       "      <th>dst_host_same_src_port_rate</th>\n",
       "      <th>dst_host_srv_diff_host_rate</th>\n",
       "      <th>dst_host_serror_rate</th>\n",
       "      <th>dst_host_srv_serror_rate</th>\n",
       "      <th>dst_host_rerror_rate</th>\n",
       "      <th>dst_host_srv_rerror_rate</th>\n",
       "    </tr>\n",
       "  </thead>\n",
       "  <tbody>\n",
       "    <tr>\n",
       "      <th>count</th>\n",
       "      <td>5000.000000</td>\n",
       "      <td>5000.000000</td>\n",
       "      <td>5000.000000</td>\n",
       "      <td>5000.000000</td>\n",
       "      <td>5.000000e+03</td>\n",
       "      <td>5000.000000</td>\n",
       "      <td>5000.0</td>\n",
       "      <td>5000.000000</td>\n",
       "      <td>5000.0</td>\n",
       "      <td>5000.000000</td>\n",
       "      <td>...</td>\n",
       "      <td>5000.000000</td>\n",
       "      <td>5000.000000</td>\n",
       "      <td>5000.000000</td>\n",
       "      <td>5000.000000</td>\n",
       "      <td>5000.000000</td>\n",
       "      <td>5000.000000</td>\n",
       "      <td>5000.000000</td>\n",
       "      <td>5000.000000</td>\n",
       "      <td>5000.000000</td>\n",
       "      <td>5000.00000</td>\n",
       "    </tr>\n",
       "    <tr>\n",
       "      <th>mean</th>\n",
       "      <td>52.523800</td>\n",
       "      <td>0.470600</td>\n",
       "      <td>16.893000</td>\n",
       "      <td>4.558800</td>\n",
       "      <td>1.918734e+03</td>\n",
       "      <td>504.657000</td>\n",
       "      <td>0.0</td>\n",
       "      <td>0.010400</td>\n",
       "      <td>0.0</td>\n",
       "      <td>0.035000</td>\n",
       "      <td>...</td>\n",
       "      <td>231.721200</td>\n",
       "      <td>189.682600</td>\n",
       "      <td>0.759340</td>\n",
       "      <td>0.031328</td>\n",
       "      <td>0.604468</td>\n",
       "      <td>0.007958</td>\n",
       "      <td>0.173314</td>\n",
       "      <td>0.172940</td>\n",
       "      <td>0.055440</td>\n",
       "      <td>0.05416</td>\n",
       "    </tr>\n",
       "    <tr>\n",
       "      <th>std</th>\n",
       "      <td>652.490873</td>\n",
       "      <td>0.581724</td>\n",
       "      <td>9.551995</td>\n",
       "      <td>1.144205</td>\n",
       "      <td>7.269032e+04</td>\n",
       "      <td>3853.303587</td>\n",
       "      <td>0.0</td>\n",
       "      <td>0.175208</td>\n",
       "      <td>0.0</td>\n",
       "      <td>0.774012</td>\n",
       "      <td>...</td>\n",
       "      <td>65.810307</td>\n",
       "      <td>105.291222</td>\n",
       "      <td>0.407655</td>\n",
       "      <td>0.112308</td>\n",
       "      <td>0.480702</td>\n",
       "      <td>0.051469</td>\n",
       "      <td>0.377746</td>\n",
       "      <td>0.377929</td>\n",
       "      <td>0.224688</td>\n",
       "      <td>0.22331</td>\n",
       "    </tr>\n",
       "    <tr>\n",
       "      <th>min</th>\n",
       "      <td>0.000000</td>\n",
       "      <td>0.000000</td>\n",
       "      <td>0.000000</td>\n",
       "      <td>0.000000</td>\n",
       "      <td>0.000000e+00</td>\n",
       "      <td>0.000000</td>\n",
       "      <td>0.0</td>\n",
       "      <td>0.000000</td>\n",
       "      <td>0.0</td>\n",
       "      <td>0.000000</td>\n",
       "      <td>...</td>\n",
       "      <td>1.000000</td>\n",
       "      <td>1.000000</td>\n",
       "      <td>0.000000</td>\n",
       "      <td>0.000000</td>\n",
       "      <td>0.000000</td>\n",
       "      <td>0.000000</td>\n",
       "      <td>0.000000</td>\n",
       "      <td>0.000000</td>\n",
       "      <td>0.000000</td>\n",
       "      <td>0.00000</td>\n",
       "    </tr>\n",
       "    <tr>\n",
       "      <th>25%</th>\n",
       "      <td>0.000000</td>\n",
       "      <td>0.000000</td>\n",
       "      <td>10.000000</td>\n",
       "      <td>5.000000</td>\n",
       "      <td>4.800000e+01</td>\n",
       "      <td>0.000000</td>\n",
       "      <td>0.0</td>\n",
       "      <td>0.000000</td>\n",
       "      <td>0.0</td>\n",
       "      <td>0.000000</td>\n",
       "      <td>...</td>\n",
       "      <td>255.000000</td>\n",
       "      <td>66.000000</td>\n",
       "      <td>0.530000</td>\n",
       "      <td>0.000000</td>\n",
       "      <td>0.000000</td>\n",
       "      <td>0.000000</td>\n",
       "      <td>0.000000</td>\n",
       "      <td>0.000000</td>\n",
       "      <td>0.000000</td>\n",
       "      <td>0.00000</td>\n",
       "    </tr>\n",
       "    <tr>\n",
       "      <th>50%</th>\n",
       "      <td>0.000000</td>\n",
       "      <td>0.000000</td>\n",
       "      <td>10.000000</td>\n",
       "      <td>5.000000</td>\n",
       "      <td>5.200000e+02</td>\n",
       "      <td>0.000000</td>\n",
       "      <td>0.0</td>\n",
       "      <td>0.000000</td>\n",
       "      <td>0.0</td>\n",
       "      <td>0.000000</td>\n",
       "      <td>...</td>\n",
       "      <td>255.000000</td>\n",
       "      <td>255.000000</td>\n",
       "      <td>1.000000</td>\n",
       "      <td>0.000000</td>\n",
       "      <td>1.000000</td>\n",
       "      <td>0.000000</td>\n",
       "      <td>0.000000</td>\n",
       "      <td>0.000000</td>\n",
       "      <td>0.000000</td>\n",
       "      <td>0.00000</td>\n",
       "    </tr>\n",
       "    <tr>\n",
       "      <th>75%</th>\n",
       "      <td>0.000000</td>\n",
       "      <td>1.000000</td>\n",
       "      <td>29.000000</td>\n",
       "      <td>5.000000</td>\n",
       "      <td>1.032000e+03</td>\n",
       "      <td>0.000000</td>\n",
       "      <td>0.0</td>\n",
       "      <td>0.000000</td>\n",
       "      <td>0.0</td>\n",
       "      <td>0.000000</td>\n",
       "      <td>...</td>\n",
       "      <td>255.000000</td>\n",
       "      <td>255.000000</td>\n",
       "      <td>1.000000</td>\n",
       "      <td>0.030000</td>\n",
       "      <td>1.000000</td>\n",
       "      <td>0.000000</td>\n",
       "      <td>0.000000</td>\n",
       "      <td>0.000000</td>\n",
       "      <td>0.000000</td>\n",
       "      <td>0.00000</td>\n",
       "    </tr>\n",
       "    <tr>\n",
       "      <th>max</th>\n",
       "      <td>17779.000000</td>\n",
       "      <td>2.000000</td>\n",
       "      <td>47.000000</td>\n",
       "      <td>6.000000</td>\n",
       "      <td>5.133876e+06</td>\n",
       "      <td>202976.000000</td>\n",
       "      <td>0.0</td>\n",
       "      <td>3.000000</td>\n",
       "      <td>0.0</td>\n",
       "      <td>28.000000</td>\n",
       "      <td>...</td>\n",
       "      <td>255.000000</td>\n",
       "      <td>255.000000</td>\n",
       "      <td>1.000000</td>\n",
       "      <td>1.000000</td>\n",
       "      <td>1.000000</td>\n",
       "      <td>1.000000</td>\n",
       "      <td>1.000000</td>\n",
       "      <td>1.000000</td>\n",
       "      <td>1.000000</td>\n",
       "      <td>1.00000</td>\n",
       "    </tr>\n",
       "  </tbody>\n",
       "</table>\n",
       "<p>8 rows × 41 columns</p>\n",
       "</div>"
      ],
      "text/plain": [
       "           duration  protocol_type      service         flag     src_bytes  \\\n",
       "count   5000.000000    5000.000000  5000.000000  5000.000000  5.000000e+03   \n",
       "mean      52.523800       0.470600    16.893000     4.558800  1.918734e+03   \n",
       "std      652.490873       0.581724     9.551995     1.144205  7.269032e+04   \n",
       "min        0.000000       0.000000     0.000000     0.000000  0.000000e+00   \n",
       "25%        0.000000       0.000000    10.000000     5.000000  4.800000e+01   \n",
       "50%        0.000000       0.000000    10.000000     5.000000  5.200000e+02   \n",
       "75%        0.000000       1.000000    29.000000     5.000000  1.032000e+03   \n",
       "max    17779.000000       2.000000    47.000000     6.000000  5.133876e+06   \n",
       "\n",
       "           dst_bytes    land  wrong_fragment  urgent          hot  \\\n",
       "count    5000.000000  5000.0     5000.000000  5000.0  5000.000000   \n",
       "mean      504.657000     0.0        0.010400     0.0     0.035000   \n",
       "std      3853.303587     0.0        0.175208     0.0     0.774012   \n",
       "min         0.000000     0.0        0.000000     0.0     0.000000   \n",
       "25%         0.000000     0.0        0.000000     0.0     0.000000   \n",
       "50%         0.000000     0.0        0.000000     0.0     0.000000   \n",
       "75%         0.000000     0.0        0.000000     0.0     0.000000   \n",
       "max    202976.000000     0.0        3.000000     0.0    28.000000   \n",
       "\n",
       "                 ...             dst_host_count  dst_host_srv_count  \\\n",
       "count            ...                5000.000000         5000.000000   \n",
       "mean             ...                 231.721200          189.682600   \n",
       "std              ...                  65.810307          105.291222   \n",
       "min              ...                   1.000000            1.000000   \n",
       "25%              ...                 255.000000           66.000000   \n",
       "50%              ...                 255.000000          255.000000   \n",
       "75%              ...                 255.000000          255.000000   \n",
       "max              ...                 255.000000          255.000000   \n",
       "\n",
       "       dst_host_same_srv_rate  dst_host_diff_srv_rate  \\\n",
       "count             5000.000000             5000.000000   \n",
       "mean                 0.759340                0.031328   \n",
       "std                  0.407655                0.112308   \n",
       "min                  0.000000                0.000000   \n",
       "25%                  0.530000                0.000000   \n",
       "50%                  1.000000                0.000000   \n",
       "75%                  1.000000                0.030000   \n",
       "max                  1.000000                1.000000   \n",
       "\n",
       "       dst_host_same_src_port_rate  dst_host_srv_diff_host_rate  \\\n",
       "count                  5000.000000                  5000.000000   \n",
       "mean                      0.604468                     0.007958   \n",
       "std                       0.480702                     0.051469   \n",
       "min                       0.000000                     0.000000   \n",
       "25%                       0.000000                     0.000000   \n",
       "50%                       1.000000                     0.000000   \n",
       "75%                       1.000000                     0.000000   \n",
       "max                       1.000000                     1.000000   \n",
       "\n",
       "       dst_host_serror_rate  dst_host_srv_serror_rate  dst_host_rerror_rate  \\\n",
       "count           5000.000000               5000.000000           5000.000000   \n",
       "mean               0.173314                  0.172940              0.055440   \n",
       "std                0.377746                  0.377929              0.224688   \n",
       "min                0.000000                  0.000000              0.000000   \n",
       "25%                0.000000                  0.000000              0.000000   \n",
       "50%                0.000000                  0.000000              0.000000   \n",
       "75%                0.000000                  0.000000              0.000000   \n",
       "max                1.000000                  1.000000              1.000000   \n",
       "\n",
       "       dst_host_srv_rerror_rate  \n",
       "count                5000.00000  \n",
       "mean                    0.05416  \n",
       "std                     0.22331  \n",
       "min                     0.00000  \n",
       "25%                     0.00000  \n",
       "50%                     0.00000  \n",
       "75%                     0.00000  \n",
       "max                     1.00000  \n",
       "\n",
       "[8 rows x 41 columns]"
      ]
     },
     "execution_count": 25,
     "metadata": {},
     "output_type": "execute_result"
    }
   ],
   "source": [
    "data.describe()"
   ]
  },
  {
   "cell_type": "code",
   "execution_count": 26,
   "metadata": {
    "collapsed": false
   },
   "outputs": [
    {
     "data": {
      "text/plain": [
       "(5000, 44)"
      ]
     },
     "execution_count": 26,
     "metadata": {},
     "output_type": "execute_result"
    }
   ],
   "source": [
    "data.shape"
   ]
  },
  {
   "cell_type": "markdown",
   "metadata": {},
   "source": [
    "## ラベルの分離"
   ]
  },
  {
   "cell_type": "code",
   "execution_count": 27,
   "metadata": {
    "collapsed": true
   },
   "outputs": [],
   "source": [
    "y_train_1 = data.label.copy() "
   ]
  },
  {
   "cell_type": "code",
   "execution_count": 28,
   "metadata": {
    "collapsed": true
   },
   "outputs": [],
   "source": [
    "y_train_2 = data.label2.copy()"
   ]
  },
  {
   "cell_type": "code",
   "execution_count": 29,
   "metadata": {
    "collapsed": true
   },
   "outputs": [],
   "source": [
    "y_train_3 = data.label3.copy()"
   ]
  },
  {
   "cell_type": "code",
   "execution_count": 30,
   "metadata": {
    "collapsed": false
   },
   "outputs": [],
   "source": [
    "x_train = data.drop(['label','label2','label3'],axis=1)"
   ]
  },
  {
   "cell_type": "code",
   "execution_count": 31,
   "metadata": {
    "collapsed": false
   },
   "outputs": [
    {
     "data": {
      "text/plain": [
       "(5000, 41)"
      ]
     },
     "execution_count": 31,
     "metadata": {},
     "output_type": "execute_result"
    }
   ],
   "source": [
    "x_train.shape"
   ]
  },
  {
   "cell_type": "code",
   "execution_count": 32,
   "metadata": {
    "collapsed": false
   },
   "outputs": [
    {
     "data": {
      "text/plain": [
       "(5000,)"
      ]
     },
     "execution_count": 32,
     "metadata": {},
     "output_type": "execute_result"
    }
   ],
   "source": [
    "y_train_1.shape"
   ]
  },
  {
   "cell_type": "code",
   "execution_count": 33,
   "metadata": {
    "collapsed": false
   },
   "outputs": [
    {
     "data": {
      "text/plain": [
       "(5000,)"
      ]
     },
     "execution_count": 33,
     "metadata": {},
     "output_type": "execute_result"
    }
   ],
   "source": [
    "y_train_2.shape"
   ]
  },
  {
   "cell_type": "code",
   "execution_count": 34,
   "metadata": {
    "collapsed": false
   },
   "outputs": [
    {
     "data": {
      "text/plain": [
       "(5000,)"
      ]
     },
     "execution_count": 34,
     "metadata": {},
     "output_type": "execute_result"
    }
   ],
   "source": [
    "y_train_3.shape"
   ]
  },
  {
   "cell_type": "markdown",
   "metadata": {},
   "source": [
    "## 標準化"
   ]
  },
  {
   "cell_type": "code",
   "execution_count": 35,
   "metadata": {
    "collapsed": true
   },
   "outputs": [],
   "source": [
    "ss = preprocessing.StandardScaler()"
   ]
  },
  {
   "cell_type": "code",
   "execution_count": 36,
   "metadata": {
    "collapsed": false
   },
   "outputs": [
    {
     "data": {
      "text/plain": [
       "StandardScaler(copy=True, with_mean=True, with_std=True)"
      ]
     },
     "execution_count": 36,
     "metadata": {},
     "output_type": "execute_result"
    }
   ],
   "source": [
    "ss.fit(x_train)"
   ]
  },
  {
   "cell_type": "code",
   "execution_count": 37,
   "metadata": {
    "collapsed": true
   },
   "outputs": [],
   "source": [
    "x_train = ss.transform(x_train)"
   ]
  },
  {
   "cell_type": "code",
   "execution_count": 38,
   "metadata": {
    "collapsed": true
   },
   "outputs": [],
   "source": [
    "col_names2 = [\"duration\",\"protocol_type\",\"service\",\"flag\",\"src_bytes\",\n",
    "             \"dst_bytes\",\"land\",\"wrong_fragment\",\"urgent\",\"hot\",\"num_failed_logins\",\n",
    "             \"logged_in\",\"num_compromised\",\"root_shell\",\"su_attempted\",\"num_root\",\"num_file_creations\",\n",
    "             \"num_shells\",\"num_access_files\",\"num_outbound_cmds\",\"is_host_login\",\"is_guest_login\",\"count\",\n",
    "             \"srv_count\",\"serror_rate\",\"srv_serror_rate\",\"rerror_rate\",\"srv_rerror_rate\",\"same_srv_rate\",\n",
    "             \"diff_srv_rate\",\"srv_diff_host_rate\",\"dst_host_count\",\"dst_host_srv_count\",\n",
    "             \"dst_host_same_srv_rate\",\"dst_host_diff_srv_rate\",\"dst_host_same_src_port_rate\",\n",
    "             \"dst_host_srv_diff_host_rate\",\"dst_host_serror_rate\",\"dst_host_srv_serror_rate\",\n",
    "             \"dst_host_rerror_rate\",\"dst_host_srv_rerror_rate\"]"
   ]
  },
  {
   "cell_type": "code",
   "execution_count": 39,
   "metadata": {
    "collapsed": false
   },
   "outputs": [
    {
     "data": {
      "text/html": [
       "<div>\n",
       "<table border=\"1\" class=\"dataframe\">\n",
       "  <thead>\n",
       "    <tr style=\"text-align: right;\">\n",
       "      <th></th>\n",
       "      <th>duration</th>\n",
       "      <th>protocol_type</th>\n",
       "      <th>service</th>\n",
       "      <th>flag</th>\n",
       "      <th>src_bytes</th>\n",
       "      <th>dst_bytes</th>\n",
       "      <th>land</th>\n",
       "      <th>wrong_fragment</th>\n",
       "      <th>urgent</th>\n",
       "      <th>hot</th>\n",
       "      <th>...</th>\n",
       "      <th>dst_host_count</th>\n",
       "      <th>dst_host_srv_count</th>\n",
       "      <th>dst_host_same_srv_rate</th>\n",
       "      <th>dst_host_diff_srv_rate</th>\n",
       "      <th>dst_host_same_src_port_rate</th>\n",
       "      <th>dst_host_srv_diff_host_rate</th>\n",
       "      <th>dst_host_serror_rate</th>\n",
       "      <th>dst_host_srv_serror_rate</th>\n",
       "      <th>dst_host_rerror_rate</th>\n",
       "      <th>dst_host_srv_rerror_rate</th>\n",
       "    </tr>\n",
       "  </thead>\n",
       "  <tbody>\n",
       "    <tr>\n",
       "      <th>count</th>\n",
       "      <td>5.000000e+03</td>\n",
       "      <td>5.000000e+03</td>\n",
       "      <td>5.000000e+03</td>\n",
       "      <td>5.000000e+03</td>\n",
       "      <td>5.000000e+03</td>\n",
       "      <td>5.000000e+03</td>\n",
       "      <td>5000.0</td>\n",
       "      <td>5.000000e+03</td>\n",
       "      <td>5000.0</td>\n",
       "      <td>5.000000e+03</td>\n",
       "      <td>...</td>\n",
       "      <td>5.000000e+03</td>\n",
       "      <td>5.000000e+03</td>\n",
       "      <td>5.000000e+03</td>\n",
       "      <td>5.000000e+03</td>\n",
       "      <td>5.000000e+03</td>\n",
       "      <td>5.000000e+03</td>\n",
       "      <td>5.000000e+03</td>\n",
       "      <td>5.000000e+03</td>\n",
       "      <td>5.000000e+03</td>\n",
       "      <td>5.000000e+03</td>\n",
       "    </tr>\n",
       "    <tr>\n",
       "      <th>mean</th>\n",
       "      <td>-8.712836e-16</td>\n",
       "      <td>1.166178e-16</td>\n",
       "      <td>-1.456946e-16</td>\n",
       "      <td>3.965717e-16</td>\n",
       "      <td>-1.608966e-16</td>\n",
       "      <td>8.072432e-16</td>\n",
       "      <td>0.0</td>\n",
       "      <td>-1.102429e-15</td>\n",
       "      <td>0.0</td>\n",
       "      <td>-2.287948e-15</td>\n",
       "      <td>...</td>\n",
       "      <td>-4.490852e-16</td>\n",
       "      <td>-4.384049e-16</td>\n",
       "      <td>-1.938893e-16</td>\n",
       "      <td>-1.633416e-16</td>\n",
       "      <td>-1.923794e-16</td>\n",
       "      <td>-2.957301e-16</td>\n",
       "      <td>-1.285194e-16</td>\n",
       "      <td>-1.654676e-16</td>\n",
       "      <td>3.603284e-16</td>\n",
       "      <td>-2.677525e-16</td>\n",
       "    </tr>\n",
       "    <tr>\n",
       "      <th>std</th>\n",
       "      <td>1.000100e+00</td>\n",
       "      <td>1.000100e+00</td>\n",
       "      <td>1.000100e+00</td>\n",
       "      <td>1.000100e+00</td>\n",
       "      <td>1.000100e+00</td>\n",
       "      <td>1.000100e+00</td>\n",
       "      <td>0.0</td>\n",
       "      <td>1.000100e+00</td>\n",
       "      <td>0.0</td>\n",
       "      <td>1.000100e+00</td>\n",
       "      <td>...</td>\n",
       "      <td>1.000100e+00</td>\n",
       "      <td>1.000100e+00</td>\n",
       "      <td>1.000100e+00</td>\n",
       "      <td>1.000100e+00</td>\n",
       "      <td>1.000100e+00</td>\n",
       "      <td>1.000100e+00</td>\n",
       "      <td>1.000100e+00</td>\n",
       "      <td>1.000100e+00</td>\n",
       "      <td>1.000100e+00</td>\n",
       "      <td>1.000100e+00</td>\n",
       "    </tr>\n",
       "    <tr>\n",
       "      <th>min</th>\n",
       "      <td>-8.050542e-02</td>\n",
       "      <td>-8.090550e-01</td>\n",
       "      <td>-1.768708e+00</td>\n",
       "      <td>-3.984651e+00</td>\n",
       "      <td>-2.639865e-02</td>\n",
       "      <td>-1.309805e-01</td>\n",
       "      <td>0.0</td>\n",
       "      <td>-5.936383e-02</td>\n",
       "      <td>0.0</td>\n",
       "      <td>-4.522345e-02</td>\n",
       "      <td>...</td>\n",
       "      <td>-3.506203e+00</td>\n",
       "      <td>-1.792186e+00</td>\n",
       "      <td>-1.862889e+00</td>\n",
       "      <td>-2.789752e-01</td>\n",
       "      <td>-1.257595e+00</td>\n",
       "      <td>-1.546327e-01</td>\n",
       "      <td>-4.588568e-01</td>\n",
       "      <td>-4.576449e-01</td>\n",
       "      <td>-2.467673e-01</td>\n",
       "      <td>-2.425569e-01</td>\n",
       "    </tr>\n",
       "    <tr>\n",
       "      <th>25%</th>\n",
       "      <td>-8.050542e-02</td>\n",
       "      <td>-8.090550e-01</td>\n",
       "      <td>-7.217016e-01</td>\n",
       "      <td>3.856339e-01</td>\n",
       "      <td>-2.573824e-02</td>\n",
       "      <td>-1.309805e-01</td>\n",
       "      <td>0.0</td>\n",
       "      <td>-5.936383e-02</td>\n",
       "      <td>0.0</td>\n",
       "      <td>-4.522345e-02</td>\n",
       "      <td>...</td>\n",
       "      <td>3.537611e-01</td>\n",
       "      <td>-1.174789e+00</td>\n",
       "      <td>-5.626398e-01</td>\n",
       "      <td>-2.789752e-01</td>\n",
       "      <td>-1.257595e+00</td>\n",
       "      <td>-1.546327e-01</td>\n",
       "      <td>-4.588568e-01</td>\n",
       "      <td>-4.576449e-01</td>\n",
       "      <td>-2.467673e-01</td>\n",
       "      <td>-2.425569e-01</td>\n",
       "    </tr>\n",
       "    <tr>\n",
       "      <th>50%</th>\n",
       "      <td>-8.050542e-02</td>\n",
       "      <td>-8.090550e-01</td>\n",
       "      <td>-7.217016e-01</td>\n",
       "      <td>3.856339e-01</td>\n",
       "      <td>-1.924430e-02</td>\n",
       "      <td>-1.309805e-01</td>\n",
       "      <td>0.0</td>\n",
       "      <td>-5.936383e-02</td>\n",
       "      <td>0.0</td>\n",
       "      <td>-4.522345e-02</td>\n",
       "      <td>...</td>\n",
       "      <td>3.537611e-01</td>\n",
       "      <td>6.204120e-01</td>\n",
       "      <td>5.904111e-01</td>\n",
       "      <td>-2.789752e-01</td>\n",
       "      <td>8.229036e-01</td>\n",
       "      <td>-1.546327e-01</td>\n",
       "      <td>-4.588568e-01</td>\n",
       "      <td>-4.576449e-01</td>\n",
       "      <td>-2.467673e-01</td>\n",
       "      <td>-2.425569e-01</td>\n",
       "    </tr>\n",
       "    <tr>\n",
       "      <th>75%</th>\n",
       "      <td>-8.050542e-02</td>\n",
       "      <td>9.101439e-01</td>\n",
       "      <td>1.267611e+00</td>\n",
       "      <td>3.856339e-01</td>\n",
       "      <td>-1.220001e-02</td>\n",
       "      <td>-1.309805e-01</td>\n",
       "      <td>0.0</td>\n",
       "      <td>-5.936383e-02</td>\n",
       "      <td>0.0</td>\n",
       "      <td>-4.522345e-02</td>\n",
       "      <td>...</td>\n",
       "      <td>3.537611e-01</td>\n",
       "      <td>6.204120e-01</td>\n",
       "      <td>5.904111e-01</td>\n",
       "      <td>-1.182581e-02</td>\n",
       "      <td>8.229036e-01</td>\n",
       "      <td>-1.546327e-01</td>\n",
       "      <td>-4.588568e-01</td>\n",
       "      <td>-4.576449e-01</td>\n",
       "      <td>-2.467673e-01</td>\n",
       "      <td>-2.425569e-01</td>\n",
       "    </tr>\n",
       "    <tr>\n",
       "      <th>max</th>\n",
       "      <td>2.717011e+01</td>\n",
       "      <td>2.629343e+00</td>\n",
       "      <td>3.152222e+00</td>\n",
       "      <td>1.259691e+00</td>\n",
       "      <td>7.060734e+01</td>\n",
       "      <td>5.255013e+01</td>\n",
       "      <td>0.0</td>\n",
       "      <td>1.706482e+01</td>\n",
       "      <td>0.0</td>\n",
       "      <td>3.613354e+01</td>\n",
       "      <td>...</td>\n",
       "      <td>3.537611e-01</td>\n",
       "      <td>6.204120e-01</td>\n",
       "      <td>5.904111e-01</td>\n",
       "      <td>8.626003e+00</td>\n",
       "      <td>8.229036e-01</td>\n",
       "      <td>1.927647e+01</td>\n",
       "      <td>2.188689e+00</td>\n",
       "      <td>2.188619e+00</td>\n",
       "      <td>4.204302e+00</td>\n",
       "      <td>4.235968e+00</td>\n",
       "    </tr>\n",
       "  </tbody>\n",
       "</table>\n",
       "<p>8 rows × 41 columns</p>\n",
       "</div>"
      ],
      "text/plain": [
       "           duration  protocol_type       service          flag     src_bytes  \\\n",
       "count  5.000000e+03   5.000000e+03  5.000000e+03  5.000000e+03  5.000000e+03   \n",
       "mean  -8.712836e-16   1.166178e-16 -1.456946e-16  3.965717e-16 -1.608966e-16   \n",
       "std    1.000100e+00   1.000100e+00  1.000100e+00  1.000100e+00  1.000100e+00   \n",
       "min   -8.050542e-02  -8.090550e-01 -1.768708e+00 -3.984651e+00 -2.639865e-02   \n",
       "25%   -8.050542e-02  -8.090550e-01 -7.217016e-01  3.856339e-01 -2.573824e-02   \n",
       "50%   -8.050542e-02  -8.090550e-01 -7.217016e-01  3.856339e-01 -1.924430e-02   \n",
       "75%   -8.050542e-02   9.101439e-01  1.267611e+00  3.856339e-01 -1.220001e-02   \n",
       "max    2.717011e+01   2.629343e+00  3.152222e+00  1.259691e+00  7.060734e+01   \n",
       "\n",
       "          dst_bytes    land  wrong_fragment  urgent           hot  \\\n",
       "count  5.000000e+03  5000.0    5.000000e+03  5000.0  5.000000e+03   \n",
       "mean   8.072432e-16     0.0   -1.102429e-15     0.0 -2.287948e-15   \n",
       "std    1.000100e+00     0.0    1.000100e+00     0.0  1.000100e+00   \n",
       "min   -1.309805e-01     0.0   -5.936383e-02     0.0 -4.522345e-02   \n",
       "25%   -1.309805e-01     0.0   -5.936383e-02     0.0 -4.522345e-02   \n",
       "50%   -1.309805e-01     0.0   -5.936383e-02     0.0 -4.522345e-02   \n",
       "75%   -1.309805e-01     0.0   -5.936383e-02     0.0 -4.522345e-02   \n",
       "max    5.255013e+01     0.0    1.706482e+01     0.0  3.613354e+01   \n",
       "\n",
       "                 ...             dst_host_count  dst_host_srv_count  \\\n",
       "count            ...               5.000000e+03        5.000000e+03   \n",
       "mean             ...              -4.490852e-16       -4.384049e-16   \n",
       "std              ...               1.000100e+00        1.000100e+00   \n",
       "min              ...              -3.506203e+00       -1.792186e+00   \n",
       "25%              ...               3.537611e-01       -1.174789e+00   \n",
       "50%              ...               3.537611e-01        6.204120e-01   \n",
       "75%              ...               3.537611e-01        6.204120e-01   \n",
       "max              ...               3.537611e-01        6.204120e-01   \n",
       "\n",
       "       dst_host_same_srv_rate  dst_host_diff_srv_rate  \\\n",
       "count            5.000000e+03            5.000000e+03   \n",
       "mean            -1.938893e-16           -1.633416e-16   \n",
       "std              1.000100e+00            1.000100e+00   \n",
       "min             -1.862889e+00           -2.789752e-01   \n",
       "25%             -5.626398e-01           -2.789752e-01   \n",
       "50%              5.904111e-01           -2.789752e-01   \n",
       "75%              5.904111e-01           -1.182581e-02   \n",
       "max              5.904111e-01            8.626003e+00   \n",
       "\n",
       "       dst_host_same_src_port_rate  dst_host_srv_diff_host_rate  \\\n",
       "count                 5.000000e+03                 5.000000e+03   \n",
       "mean                 -1.923794e-16                -2.957301e-16   \n",
       "std                   1.000100e+00                 1.000100e+00   \n",
       "min                  -1.257595e+00                -1.546327e-01   \n",
       "25%                  -1.257595e+00                -1.546327e-01   \n",
       "50%                   8.229036e-01                -1.546327e-01   \n",
       "75%                   8.229036e-01                -1.546327e-01   \n",
       "max                   8.229036e-01                 1.927647e+01   \n",
       "\n",
       "       dst_host_serror_rate  dst_host_srv_serror_rate  dst_host_rerror_rate  \\\n",
       "count          5.000000e+03              5.000000e+03          5.000000e+03   \n",
       "mean          -1.285194e-16             -1.654676e-16          3.603284e-16   \n",
       "std            1.000100e+00              1.000100e+00          1.000100e+00   \n",
       "min           -4.588568e-01             -4.576449e-01         -2.467673e-01   \n",
       "25%           -4.588568e-01             -4.576449e-01         -2.467673e-01   \n",
       "50%           -4.588568e-01             -4.576449e-01         -2.467673e-01   \n",
       "75%           -4.588568e-01             -4.576449e-01         -2.467673e-01   \n",
       "max            2.188689e+00              2.188619e+00          4.204302e+00   \n",
       "\n",
       "       dst_host_srv_rerror_rate  \n",
       "count              5.000000e+03  \n",
       "mean              -2.677525e-16  \n",
       "std                1.000100e+00  \n",
       "min               -2.425569e-01  \n",
       "25%               -2.425569e-01  \n",
       "50%               -2.425569e-01  \n",
       "75%               -2.425569e-01  \n",
       "max                4.235968e+00  \n",
       "\n",
       "[8 rows x 41 columns]"
      ]
     },
     "execution_count": 39,
     "metadata": {},
     "output_type": "execute_result"
    }
   ],
   "source": [
    "pd.DataFrame(x_train,columns=col_names2).describe()"
   ]
  },
  {
   "cell_type": "markdown",
   "metadata": {},
   "source": [
    "## 学習"
   ]
  },
  {
   "cell_type": "code",
   "execution_count": 40,
   "metadata": {
    "collapsed": false
   },
   "outputs": [],
   "source": [
    "pca = PCA(copy=True, iterated_power='auto', n_components=3, random_state=None,\n",
    "  svd_solver='auto', tol=0.0, whiten=False)"
   ]
  },
  {
   "cell_type": "code",
   "execution_count": 41,
   "metadata": {
    "collapsed": false
   },
   "outputs": [
    {
     "data": {
      "text/plain": [
       "PCA(copy=True, iterated_power='auto', n_components=3, random_state=None,\n",
       "  svd_solver='auto', tol=0.0, whiten=False)"
      ]
     },
     "execution_count": 41,
     "metadata": {},
     "output_type": "execute_result"
    }
   ],
   "source": [
    "pca.fit(x_train)"
   ]
  },
  {
   "cell_type": "code",
   "execution_count": 42,
   "metadata": {
    "collapsed": false
   },
   "outputs": [],
   "source": [
    "x_train2 = pca.transform(x_train)"
   ]
  },
  {
   "cell_type": "code",
   "execution_count": 43,
   "metadata": {
    "collapsed": false
   },
   "outputs": [
    {
     "data": {
      "text/plain": [
       "(5000, 3)"
      ]
     },
     "execution_count": 43,
     "metadata": {},
     "output_type": "execute_result"
    }
   ],
   "source": [
    "x_train2.shape"
   ]
  },
  {
   "cell_type": "code",
   "execution_count": 44,
   "metadata": {
    "collapsed": true
   },
   "outputs": [],
   "source": [
    "clf = SVC(C=10.0, cache_size=200, class_weight=None, coef0=0.0,\n",
    "  decision_function_shape=None, degree=3, gamma=1.0, kernel='poly',\n",
    "  max_iter=-1, probability=False, random_state=None, shrinking=True,\n",
    "  tol=0.001, verbose=False)"
   ]
  },
  {
   "cell_type": "code",
   "execution_count": 45,
   "metadata": {
    "collapsed": false
   },
   "outputs": [],
   "source": [
    "t1=time.perf_counter()\n",
    "clf.fit(x_train2,y_train_2)\n",
    "t2=time.perf_counter()"
   ]
  },
  {
   "cell_type": "code",
   "execution_count": 46,
   "metadata": {
    "collapsed": false
   },
   "outputs": [
    {
     "name": "stdout",
     "output_type": "stream",
     "text": [
      "38.69440309900165 秒\n"
     ]
    }
   ],
   "source": [
    "print(t2-t1,\"秒\")"
   ]
  },
  {
   "cell_type": "markdown",
   "metadata": {},
   "source": [
    "## 予測"
   ]
  },
  {
   "cell_type": "code",
   "execution_count": 47,
   "metadata": {
    "collapsed": false
   },
   "outputs": [],
   "source": [
    "t1=time.perf_counter()\n",
    "pred=clf.predict(x_train2)\n",
    "t2=time.perf_counter()\n"
   ]
  },
  {
   "cell_type": "code",
   "execution_count": 48,
   "metadata": {
    "collapsed": false
   },
   "outputs": [
    {
     "name": "stdout",
     "output_type": "stream",
     "text": [
      "0.0161432809982216 秒\n"
     ]
    }
   ],
   "source": [
    "print(t2-t1,\"秒\")"
   ]
  },
  {
   "cell_type": "code",
   "execution_count": 49,
   "metadata": {
    "collapsed": false
   },
   "outputs": [
    {
     "name": "stdout",
     "output_type": "stream",
     "text": [
      "             precision    recall  f1-score   support\n",
      "\n",
      "      atack       1.00      0.99      0.99      3985\n",
      "    normal.       0.94      0.99      0.97      1015\n",
      "\n",
      "avg / total       0.99      0.99      0.99      5000\n",
      "\n",
      "[[3926   59]\n",
      " [   6 1009]]\n"
     ]
    }
   ],
   "source": [
    "print(classification_report(y_train_2, pred))\n",
    "print(confusion_matrix(y_train_2, pred))"
   ]
  },
  {
   "cell_type": "markdown",
   "metadata": {
    "collapsed": true
   },
   "source": [
    "## 学習"
   ]
  },
  {
   "cell_type": "code",
   "execution_count": 50,
   "metadata": {
    "collapsed": true
   },
   "outputs": [],
   "source": [
    "pca2 = PCA(copy=True, iterated_power='auto', n_components=4, random_state=None,\n",
    "  svd_solver='auto', tol=0.0, whiten=False)\n"
   ]
  },
  {
   "cell_type": "code",
   "execution_count": 51,
   "metadata": {
    "collapsed": true
   },
   "outputs": [],
   "source": [
    "clf2 = SVC(C=1.0, cache_size=200, class_weight=None, coef0=0.0,\n",
    "  decision_function_shape=None, degree=3, gamma=0.17782794100389229,\n",
    "  kernel='rbf', max_iter=-1, probability=False, random_state=None,\n",
    "  shrinking=True, tol=0.001, verbose=False)"
   ]
  },
  {
   "cell_type": "code",
   "execution_count": 52,
   "metadata": {
    "collapsed": false
   },
   "outputs": [
    {
     "data": {
      "text/plain": [
       "PCA(copy=True, iterated_power='auto', n_components=4, random_state=None,\n",
       "  svd_solver='auto', tol=0.0, whiten=False)"
      ]
     },
     "execution_count": 52,
     "metadata": {},
     "output_type": "execute_result"
    }
   ],
   "source": [
    "pca2.fit(x_train)"
   ]
  },
  {
   "cell_type": "code",
   "execution_count": 53,
   "metadata": {
    "collapsed": true
   },
   "outputs": [],
   "source": [
    "x_train3 = pca.transform(x_train)"
   ]
  },
  {
   "cell_type": "code",
   "execution_count": 54,
   "metadata": {
    "collapsed": true
   },
   "outputs": [],
   "source": [
    "t1=time.perf_counter()\n",
    "clf2.fit(x_train3,y_train_3)\n",
    "t2=time.perf_counter()"
   ]
  },
  {
   "cell_type": "code",
   "execution_count": 55,
   "metadata": {
    "collapsed": false
   },
   "outputs": [
    {
     "name": "stdout",
     "output_type": "stream",
     "text": [
      "0.05409338200115599 秒\n"
     ]
    }
   ],
   "source": [
    "print(t2-t1,\"秒\")"
   ]
  },
  {
   "cell_type": "markdown",
   "metadata": {},
   "source": [
    "## 予測"
   ]
  },
  {
   "cell_type": "code",
   "execution_count": 56,
   "metadata": {
    "collapsed": false
   },
   "outputs": [],
   "source": [
    "t1=time.perf_counter()\n",
    "pred2=clf2.predict(x_train3)\n",
    "t2=time.perf_counter()\n"
   ]
  },
  {
   "cell_type": "code",
   "execution_count": 57,
   "metadata": {
    "collapsed": false
   },
   "outputs": [
    {
     "name": "stdout",
     "output_type": "stream",
     "text": [
      "0.02707723999992595 秒\n"
     ]
    }
   ],
   "source": [
    "print(t2-t1,\"秒\")"
   ]
  },
  {
   "cell_type": "code",
   "execution_count": 58,
   "metadata": {
    "collapsed": false
   },
   "outputs": [
    {
     "name": "stdout",
     "output_type": "stream",
     "text": [
      "             precision    recall  f1-score   support\n",
      "\n",
      "        DoS       1.00      0.99      1.00      3928\n",
      "      Probe       1.00      0.80      0.89        44\n",
      "        R2L       1.00      0.08      0.15        12\n",
      "        U2R       1.00      1.00      1.00         1\n",
      "    normal.       0.97      1.00      0.98      1015\n",
      "\n",
      "avg / total       0.99      0.99      0.99      5000\n",
      "\n",
      "[[3904    0    0    0   24]\n",
      " [   5   35    0    0    4]\n",
      " [   3    0    1    0    8]\n",
      " [   0    0    0    1    0]\n",
      " [   3    0    0    0 1012]]\n"
     ]
    }
   ],
   "source": [
    "print(classification_report(y_train_3, pred2))\n",
    "print(confusion_matrix(y_train_3, pred2))"
   ]
  },
  {
   "cell_type": "code",
   "execution_count": null,
   "metadata": {
    "collapsed": true
   },
   "outputs": [],
   "source": []
  }
 ],
 "metadata": {
  "kernelspec": {
   "display_name": "Python 3",
   "language": "python",
   "name": "python3"
  },
  "language_info": {
   "codemirror_mode": {
    "name": "ipython",
    "version": 3
   },
   "file_extension": ".py",
   "mimetype": "text/x-python",
   "name": "python",
   "nbconvert_exporter": "python",
   "pygments_lexer": "ipython3",
   "version": "3.6.0"
  }
 },
 "nbformat": 4,
 "nbformat_minor": 2
}
