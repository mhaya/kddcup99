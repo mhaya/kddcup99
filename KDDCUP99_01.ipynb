{
 "cells": [
  {
   "cell_type": "markdown",
   "metadata": {},
   "source": [
    "# KDD Cup 1999 Data"
   ]
  },
  {
   "cell_type": "markdown",
   "metadata": {},
   "source": [
    "http://kdd.ics.uci.edu/databases/kddcup99/kddcup99.html"
   ]
  },
  {
   "cell_type": "code",
   "execution_count": 2,
   "metadata": {
    "collapsed": true
   },
   "outputs": [],
   "source": [
    "import pandas as pd\n",
    "import matplotlib.pyplot as pyplot\n",
    "from sklearn import datasets\n",
    "import sklearn.preprocessing as sp\n",
    "from sklearn.externals import joblib\n",
    "from sklearn import svm\n",
    "% matplotlib inline"
   ]
  },
  {
   "cell_type": "markdown",
   "metadata": {},
   "source": [
    "\n",
    "|ファイル名|ファイル内容|\n",
    "|---|---|\n",
    "|kddcup.data|フルデータ|\n",
    "|kddcup.data_10_percent|フルデータの10%を抽出した学習用データ|\n",
    "|corrected|正常・攻撃のラベル付けがなされた評価用データ|\n",
    "|kddcup.testdata.unlabeled|正常・攻撃のラベル付けがなされていないデータ|\n",
    "|kddcup.testdata.unlabeled_10_percent|正常・攻撃のラベル付けがなされていないデータの10%サブセット|\n",
    "|kddcup.newtestdata_10_percent_unlabeled|正常・攻撃のラベル付けがなされていないデータの10%サブセット|"
   ]
  },
  {
   "cell_type": "code",
   "execution_count": 3,
   "metadata": {
    "collapsed": true
   },
   "outputs": [],
   "source": [
    "col_names = [\"duration\",\"protocol_type\",\"service\",\"flag\",\"src_bytes\",\n",
    "             \"dst_bytes\",\"land\",\"wrong_fragment\",\"urgent\",\"hot\",\"num_failed_logins\",\n",
    "             \"logged_in\",\"num_compromised\",\"root_shell\",\"su_attempted\",\"num_root\",\"num_file_creations\",\n",
    "             \"num_shells\",\"num_access_files\",\"num_outbound_cmds\",\"is_host_login\",\"is_guest_login\",\"count\",\n",
    "             \"srv_count\",\"serror_rate\",\"srv_serror_rate\",\"rerror_rate\",\"srv_rerror_rate\",\"same_srv_rate\",\n",
    "             \"diff_srv_rate\",\"srv_diff_host_rate\",\"dst_host_count\",\"dst_host_srv_count\",\n",
    "             \"dst_host_same_srv_rate\",\"dst_host_diff_srv_rate\",\"dst_host_same_src_port_rate\",\n",
    "             \"dst_host_srv_diff_host_rate\",\"dst_host_serror_rate\",\"dst_host_srv_serror_rate\",\n",
    "             \"dst_host_rerror_rate\",\"dst_host_srv_rerror_rate\",\"label\"]"
   ]
  },
  {
   "cell_type": "code",
   "execution_count": 26,
   "metadata": {
    "collapsed": false
   },
   "outputs": [],
   "source": [
    "data = pd.read_csv(\"kddcup.data\", header=None, names = col_names)"
   ]
  },
  {
   "cell_type": "code",
   "execution_count": 27,
   "metadata": {
    "collapsed": true
   },
   "outputs": [],
   "source": [
    "data.protocol_type = data.protocol_type.astype(\"category\")"
   ]
  },
  {
   "cell_type": "code",
   "execution_count": 28,
   "metadata": {
    "collapsed": true
   },
   "outputs": [],
   "source": [
    "data.service = data.service.astype(\"category\")"
   ]
  },
  {
   "cell_type": "code",
   "execution_count": 29,
   "metadata": {
    "collapsed": true
   },
   "outputs": [],
   "source": [
    "data.flag = data.flag.astype(\"category\")"
   ]
  },
  {
   "cell_type": "code",
   "execution_count": 30,
   "metadata": {
    "collapsed": false
   },
   "outputs": [
    {
     "data": {
      "text/plain": [
       "duration                          int64\n",
       "protocol_type                  category\n",
       "service                        category\n",
       "flag                           category\n",
       "src_bytes                         int64\n",
       "dst_bytes                         int64\n",
       "land                              int64\n",
       "wrong_fragment                    int64\n",
       "urgent                            int64\n",
       "hot                               int64\n",
       "num_failed_logins                 int64\n",
       "logged_in                         int64\n",
       "num_compromised                   int64\n",
       "root_shell                        int64\n",
       "su_attempted                      int64\n",
       "num_root                          int64\n",
       "num_file_creations                int64\n",
       "num_shells                        int64\n",
       "num_access_files                  int64\n",
       "num_outbound_cmds                 int64\n",
       "is_host_login                     int64\n",
       "is_guest_login                    int64\n",
       "count                             int64\n",
       "srv_count                         int64\n",
       "serror_rate                     float64\n",
       "srv_serror_rate                 float64\n",
       "rerror_rate                     float64\n",
       "srv_rerror_rate                 float64\n",
       "same_srv_rate                   float64\n",
       "diff_srv_rate                   float64\n",
       "srv_diff_host_rate              float64\n",
       "dst_host_count                    int64\n",
       "dst_host_srv_count                int64\n",
       "dst_host_same_srv_rate          float64\n",
       "dst_host_diff_srv_rate          float64\n",
       "dst_host_same_src_port_rate     float64\n",
       "dst_host_srv_diff_host_rate     float64\n",
       "dst_host_serror_rate            float64\n",
       "dst_host_srv_serror_rate        float64\n",
       "dst_host_rerror_rate            float64\n",
       "dst_host_srv_rerror_rate        float64\n",
       "label                            object\n",
       "dtype: object"
      ]
     },
     "execution_count": 30,
     "metadata": {},
     "output_type": "execute_result"
    }
   ],
   "source": [
    "data.dtypes"
   ]
  },
  {
   "cell_type": "code",
   "execution_count": 31,
   "metadata": {
    "collapsed": true
   },
   "outputs": [],
   "source": [
    "le_protocol_type=sp.LabelEncoder()"
   ]
  },
  {
   "cell_type": "code",
   "execution_count": 32,
   "metadata": {
    "collapsed": false
   },
   "outputs": [
    {
     "data": {
      "text/plain": [
       "LabelEncoder()"
      ]
     },
     "execution_count": 32,
     "metadata": {},
     "output_type": "execute_result"
    }
   ],
   "source": [
    "le_protocol_type.fit(data.protocol_type)"
   ]
  },
  {
   "cell_type": "code",
   "execution_count": 33,
   "metadata": {
    "collapsed": false
   },
   "outputs": [
    {
     "data": {
      "text/plain": [
       "['dump/kddcup.data/le_protocol_type.pkl']"
      ]
     },
     "execution_count": 33,
     "metadata": {},
     "output_type": "execute_result"
    }
   ],
   "source": [
    "#joblib.dump(le_protocol_type, 'dump/kddcup.data/le_protocol_type.pkl') "
   ]
  },
  {
   "cell_type": "code",
   "execution_count": 34,
   "metadata": {
    "collapsed": false
   },
   "outputs": [
    {
     "data": {
      "text/plain": [
       "icmp    2833545\n",
       "tcp     1870598\n",
       "udp      194288\n",
       "Name: protocol_type, dtype: int64"
      ]
     },
     "execution_count": 34,
     "metadata": {},
     "output_type": "execute_result"
    }
   ],
   "source": [
    "data.protocol_type.value_counts()"
   ]
  },
  {
   "cell_type": "code",
   "execution_count": 35,
   "metadata": {
    "collapsed": true
   },
   "outputs": [],
   "source": [
    "data.protocol_type=le_protocol_type.transform(data.protocol_type) "
   ]
  },
  {
   "cell_type": "code",
   "execution_count": 36,
   "metadata": {
    "collapsed": false
   },
   "outputs": [
    {
     "data": {
      "text/plain": [
       "0    2833545\n",
       "1    1870598\n",
       "2     194288\n",
       "Name: protocol_type, dtype: int64"
      ]
     },
     "execution_count": 36,
     "metadata": {},
     "output_type": "execute_result"
    }
   ],
   "source": [
    "data.protocol_type.value_counts()"
   ]
  },
  {
   "cell_type": "code",
   "execution_count": 37,
   "metadata": {
    "collapsed": true
   },
   "outputs": [],
   "source": [
    "le_service=sp.LabelEncoder()"
   ]
  },
  {
   "cell_type": "code",
   "execution_count": 38,
   "metadata": {
    "collapsed": false
   },
   "outputs": [
    {
     "data": {
      "text/plain": [
       "LabelEncoder()"
      ]
     },
     "execution_count": 38,
     "metadata": {},
     "output_type": "execute_result"
    }
   ],
   "source": [
    "le_service.fit(data.service)"
   ]
  },
  {
   "cell_type": "code",
   "execution_count": 39,
   "metadata": {
    "collapsed": false
   },
   "outputs": [
    {
     "data": {
      "text/plain": [
       "['dump/kddcup.data/le_service.pkl']"
      ]
     },
     "execution_count": 39,
     "metadata": {},
     "output_type": "execute_result"
    }
   ],
   "source": [
    "#joblib.dump(le_service, 'dump/kddcup.data/le_service.pkl') "
   ]
  },
  {
   "cell_type": "code",
   "execution_count": 40,
   "metadata": {
    "collapsed": false
   },
   "outputs": [
    {
     "data": {
      "text/plain": [
       "ecr_i          2811660\n",
       "private        1100831\n",
       "http            623091\n",
       "smtp             96554\n",
       "other            72653\n",
       "domain_u         57782\n",
       "ftp_data         40697\n",
       "eco_i            16338\n",
       "finger            6891\n",
       "urp_i             5378\n",
       "ftp               5214\n",
       "telnet            4277\n",
       "ntp_u             3833\n",
       "auth              3382\n",
       "pop_3             1981\n",
       "time              1579\n",
       "domain            1113\n",
       "Z39_50            1078\n",
       "gopher            1077\n",
       "mtp               1076\n",
       "ssh               1075\n",
       "whois             1073\n",
       "remote_job        1073\n",
       "rje               1070\n",
       "link              1069\n",
       "imap4             1069\n",
       "ctf               1068\n",
       "name              1067\n",
       "supdup            1060\n",
       "echo              1059\n",
       "                ...   \n",
       "vmnet             1053\n",
       "iso_tsap          1052\n",
       "netbios_dgm       1052\n",
       "sql_net           1052\n",
       "shell             1051\n",
       "csnet_ns          1051\n",
       "klogin            1050\n",
       "hostnames         1050\n",
       "bgp               1047\n",
       "exec              1045\n",
       "login             1045\n",
       "printer           1045\n",
       "http_443          1044\n",
       "efs               1042\n",
       "uucp              1041\n",
       "ldap              1041\n",
       "kshell            1040\n",
       "nnsp              1038\n",
       "courier           1021\n",
       "IRC                521\n",
       "urh_i              148\n",
       "X11                135\n",
       "tim_i               12\n",
       "red_i                9\n",
       "pm_dump              5\n",
       "tftp_u               3\n",
       "aol                  2\n",
       "http_8001            2\n",
       "harvest              2\n",
       "http_2784            1\n",
       "Name: service, dtype: int64"
      ]
     },
     "execution_count": 40,
     "metadata": {},
     "output_type": "execute_result"
    }
   ],
   "source": [
    "data.service.value_counts()"
   ]
  },
  {
   "cell_type": "code",
   "execution_count": 41,
   "metadata": {
    "collapsed": true
   },
   "outputs": [],
   "source": [
    "data.service=le_service.transform(data.service) "
   ]
  },
  {
   "cell_type": "code",
   "execution_count": 42,
   "metadata": {
    "collapsed": false
   },
   "outputs": [
    {
     "data": {
      "text/plain": [
       "15    2811660\n",
       "49    1100831\n",
       "24     623091\n",
       "54      96554\n",
       "44      72653\n",
       "12      57782\n",
       "20      40697\n",
       "14      16338\n",
       "18       6891\n",
       "65       5378\n",
       "19       5214\n",
       "60       4277\n",
       "43       3833\n",
       "4        3382\n",
       "47       1981\n",
       "63       1579\n",
       "11       1113\n",
       "2        1078\n",
       "21       1077\n",
       "35       1076\n",
       "56       1075\n",
       "69       1073\n",
       "51       1073\n",
       "52       1070\n",
       "33       1069\n",
       "28       1069\n",
       "8        1068\n",
       "36       1067\n",
       "58       1060\n",
       "13       1059\n",
       "       ...   \n",
       "68       1053\n",
       "29       1052\n",
       "37       1052\n",
       "55       1052\n",
       "53       1051\n",
       "7        1051\n",
       "30       1050\n",
       "23       1050\n",
       "5        1047\n",
       "17       1045\n",
       "34       1045\n",
       "48       1045\n",
       "26       1044\n",
       "16       1042\n",
       "66       1041\n",
       "32       1041\n",
       "31       1040\n",
       "41       1038\n",
       "6        1021\n",
       "0         521\n",
       "64        148\n",
       "1         135\n",
       "62         12\n",
       "50          9\n",
       "45          5\n",
       "61          3\n",
       "3           2\n",
       "27          2\n",
       "22          2\n",
       "25          1\n",
       "Name: service, dtype: int64"
      ]
     },
     "execution_count": 42,
     "metadata": {},
     "output_type": "execute_result"
    }
   ],
   "source": [
    "data.service.value_counts()"
   ]
  },
  {
   "cell_type": "code",
   "execution_count": 43,
   "metadata": {
    "collapsed": true
   },
   "outputs": [],
   "source": [
    "le_flag=sp.LabelEncoder()"
   ]
  },
  {
   "cell_type": "code",
   "execution_count": 44,
   "metadata": {
    "collapsed": false
   },
   "outputs": [
    {
     "data": {
      "text/plain": [
       "LabelEncoder()"
      ]
     },
     "execution_count": 44,
     "metadata": {},
     "output_type": "execute_result"
    }
   ],
   "source": [
    "le_flag.fit(data.flag)"
   ]
  },
  {
   "cell_type": "code",
   "execution_count": 46,
   "metadata": {
    "collapsed": false
   },
   "outputs": [
    {
     "data": {
      "text/plain": [
       "['dump/kddcup.data/le_flag.pkl']"
      ]
     },
     "execution_count": 46,
     "metadata": {},
     "output_type": "execute_result"
    }
   ],
   "source": [
    "#joblib.dump(le_flag, 'dump/kddcup.data/le_flag.pkl') "
   ]
  },
  {
   "cell_type": "code",
   "execution_count": 45,
   "metadata": {
    "collapsed": false
   },
   "outputs": [
    {
     "data": {
      "text/plain": [
       "SF        3744328\n",
       "S0         869829\n",
       "REJ        268874\n",
       "RSTR         8094\n",
       "RSTO         5344\n",
       "SH           1040\n",
       "S1            532\n",
       "S2            161\n",
       "RSTOS0        122\n",
       "OTH            57\n",
       "S3             50\n",
       "Name: flag, dtype: int64"
      ]
     },
     "execution_count": 45,
     "metadata": {},
     "output_type": "execute_result"
    }
   ],
   "source": [
    "data.flag.value_counts()"
   ]
  },
  {
   "cell_type": "code",
   "execution_count": 47,
   "metadata": {
    "collapsed": true
   },
   "outputs": [],
   "source": [
    "data.flag=le_flag.transform(data.flag) "
   ]
  },
  {
   "cell_type": "code",
   "execution_count": 48,
   "metadata": {
    "collapsed": false
   },
   "outputs": [
    {
     "data": {
      "text/plain": [
       "9     3744328\n",
       "5      869829\n",
       "1      268874\n",
       "4        8094\n",
       "2        5344\n",
       "10       1040\n",
       "6         532\n",
       "7         161\n",
       "3         122\n",
       "0          57\n",
       "8          50\n",
       "Name: flag, dtype: int64"
      ]
     },
     "execution_count": 48,
     "metadata": {},
     "output_type": "execute_result"
    }
   ],
   "source": [
    "data.flag.value_counts()"
   ]
  },
  {
   "cell_type": "code",
   "execution_count": 49,
   "metadata": {
    "collapsed": false
   },
   "outputs": [
    {
     "data": {
      "text/plain": [
       "['dump/kddcup.data/kddcup.data.00.pkl']"
      ]
     },
     "execution_count": 49,
     "metadata": {},
     "output_type": "execute_result"
    }
   ],
   "source": [
    "#joblib.dump(data, 'dump/kddcup.data/kddcup.data.00.pkl') "
   ]
  },
  {
   "cell_type": "code",
   "execution_count": 50,
   "metadata": {
    "collapsed": true
   },
   "outputs": [],
   "source": [
    "le_label=sp.LabelEncoder()"
   ]
  },
  {
   "cell_type": "code",
   "execution_count": 51,
   "metadata": {
    "collapsed": false
   },
   "outputs": [
    {
     "data": {
      "text/plain": [
       "['dump/kddcup.data/le_label.pkl']"
      ]
     },
     "execution_count": 51,
     "metadata": {},
     "output_type": "execute_result"
    }
   ],
   "source": [
    "le_label.fit(data.label)\n",
    "#joblib.dump(le_label, 'dump/kddcup.data/le_label.pkl') "
   ]
  },
  {
   "cell_type": "code",
   "execution_count": 52,
   "metadata": {
    "collapsed": false
   },
   "outputs": [
    {
     "data": {
      "text/plain": [
       "smurf.              2807886\n",
       "neptune.            1072017\n",
       "normal.              972781\n",
       "satan.                15892\n",
       "ipsweep.              12481\n",
       "portsweep.            10413\n",
       "nmap.                  2316\n",
       "back.                  2203\n",
       "warezclient.           1020\n",
       "teardrop.               979\n",
       "pod.                    264\n",
       "guess_passwd.            53\n",
       "buffer_overflow.         30\n",
       "land.                    21\n",
       "warezmaster.             20\n",
       "imap.                    12\n",
       "rootkit.                 10\n",
       "loadmodule.               9\n",
       "ftp_write.                8\n",
       "multihop.                 7\n",
       "phf.                      4\n",
       "perl.                     3\n",
       "spy.                      2\n",
       "Name: label, dtype: int64"
      ]
     },
     "execution_count": 52,
     "metadata": {},
     "output_type": "execute_result"
    }
   ],
   "source": [
    "data.label.value_counts()"
   ]
  },
  {
   "cell_type": "code",
   "execution_count": 53,
   "metadata": {
    "collapsed": true
   },
   "outputs": [],
   "source": [
    "data.label=le_label.transform(data.label) "
   ]
  },
  {
   "cell_type": "code",
   "execution_count": 54,
   "metadata": {
    "collapsed": false
   },
   "outputs": [
    {
     "data": {
      "text/plain": [
       "['dump/kddcup.data/kddcup.data.01.pkl']"
      ]
     },
     "execution_count": 54,
     "metadata": {},
     "output_type": "execute_result"
    }
   ],
   "source": [
    "#joblib.dump(data, 'dump/kddcup.data/kddcup.data.01.pkl') "
   ]
  },
  {
   "cell_type": "code",
   "execution_count": 55,
   "metadata": {
    "collapsed": true
   },
   "outputs": [],
   "source": [
    "kdd_data_10percent = pd.read_csv(\"kddcup.data_10_percent\", header=None, names = col_names)"
   ]
  },
  {
   "cell_type": "code",
   "execution_count": 57,
   "metadata": {
    "collapsed": false
   },
   "outputs": [
    {
     "data": {
      "text/plain": [
       "icmp    283602\n",
       "tcp     190065\n",
       "udp      20354\n",
       "Name: protocol_type, dtype: int64"
      ]
     },
     "execution_count": 57,
     "metadata": {},
     "output_type": "execute_result"
    }
   ],
   "source": [
    "kdd_data_10percent.protocol_type.value_counts()"
   ]
  },
  {
   "cell_type": "code",
   "execution_count": 58,
   "metadata": {
    "collapsed": false
   },
   "outputs": [],
   "source": [
    "kdd_data_10percent.protocol_type=le_protocol_type.transform(kdd_data_10percent.protocol_type)"
   ]
  },
  {
   "cell_type": "code",
   "execution_count": 59,
   "metadata": {
    "collapsed": false
   },
   "outputs": [
    {
     "data": {
      "text/plain": [
       "0    283602\n",
       "1    190065\n",
       "2     20354\n",
       "Name: protocol_type, dtype: int64"
      ]
     },
     "execution_count": 59,
     "metadata": {},
     "output_type": "execute_result"
    }
   ],
   "source": [
    "kdd_data_10percent.protocol_type.value_counts()"
   ]
  },
  {
   "cell_type": "code",
   "execution_count": 60,
   "metadata": {
    "collapsed": false
   },
   "outputs": [
    {
     "data": {
      "text/plain": [
       "ecr_i          281400\n",
       "private        110893\n",
       "http            64293\n",
       "smtp             9723\n",
       "other            7237\n",
       "domain_u         5863\n",
       "ftp_data         4721\n",
       "eco_i            1642\n",
       "ftp               798\n",
       "finger            670\n",
       "urp_i             538\n",
       "telnet            513\n",
       "ntp_u             380\n",
       "auth              328\n",
       "pop_3             202\n",
       "time              157\n",
       "csnet_ns          126\n",
       "remote_job        120\n",
       "gopher            117\n",
       "imap4             117\n",
       "discard           116\n",
       "domain            116\n",
       "iso_tsap          115\n",
       "systat            115\n",
       "shell             112\n",
       "echo              112\n",
       "rje               111\n",
       "whois             110\n",
       "sql_net           110\n",
       "printer           109\n",
       "                ...  \n",
       "uucp              106\n",
       "klogin            106\n",
       "vmnet             106\n",
       "uucp_path         106\n",
       "supdup            105\n",
       "nnsp              105\n",
       "ssh               105\n",
       "login             104\n",
       "hostnames         104\n",
       "daytime           103\n",
       "efs               103\n",
       "netbios_ns        102\n",
       "link              102\n",
       "ldap              101\n",
       "pop_2             101\n",
       "exec               99\n",
       "netbios_dgm        99\n",
       "http_443           99\n",
       "name               98\n",
       "kshell             98\n",
       "ctf                97\n",
       "netstat            95\n",
       "Z39_50             92\n",
       "IRC                43\n",
       "urh_i              14\n",
       "X11                11\n",
       "tim_i               7\n",
       "red_i               1\n",
       "tftp_u              1\n",
       "pm_dump             1\n",
       "Name: service, dtype: int64"
      ]
     },
     "execution_count": 60,
     "metadata": {},
     "output_type": "execute_result"
    }
   ],
   "source": [
    "kdd_data_10percent.service.value_counts()"
   ]
  },
  {
   "cell_type": "code",
   "execution_count": 61,
   "metadata": {
    "collapsed": true
   },
   "outputs": [],
   "source": [
    "kdd_data_10percent.service=le_service.transform(kdd_data_10percent.service)"
   ]
  },
  {
   "cell_type": "code",
   "execution_count": 62,
   "metadata": {
    "collapsed": false
   },
   "outputs": [
    {
     "data": {
      "text/plain": [
       "15    281400\n",
       "49    110893\n",
       "24     64293\n",
       "54      9723\n",
       "44      7237\n",
       "12      5863\n",
       "20      4721\n",
       "14      1642\n",
       "19       798\n",
       "18       670\n",
       "65       538\n",
       "60       513\n",
       "43       380\n",
       "4        328\n",
       "47       202\n",
       "63       157\n",
       "7        126\n",
       "51       120\n",
       "21       117\n",
       "28       117\n",
       "11       116\n",
       "10       116\n",
       "59       115\n",
       "29       115\n",
       "53       112\n",
       "13       112\n",
       "52       111\n",
       "69       110\n",
       "55       110\n",
       "48       109\n",
       "       ...  \n",
       "67       106\n",
       "66       106\n",
       "5        106\n",
       "30       106\n",
       "56       105\n",
       "58       105\n",
       "41       105\n",
       "23       104\n",
       "34       104\n",
       "9        103\n",
       "16       103\n",
       "38       102\n",
       "33       102\n",
       "46       101\n",
       "32       101\n",
       "26        99\n",
       "17        99\n",
       "37        99\n",
       "36        98\n",
       "31        98\n",
       "8         97\n",
       "40        95\n",
       "2         92\n",
       "0         43\n",
       "64        14\n",
       "1         11\n",
       "62         7\n",
       "45         1\n",
       "50         1\n",
       "61         1\n",
       "Name: service, dtype: int64"
      ]
     },
     "execution_count": 62,
     "metadata": {},
     "output_type": "execute_result"
    }
   ],
   "source": [
    "kdd_data_10percent.service.value_counts()"
   ]
  },
  {
   "cell_type": "code",
   "execution_count": 63,
   "metadata": {
    "collapsed": false
   },
   "outputs": [
    {
     "data": {
      "text/plain": [
       "SF        378440\n",
       "S0         87007\n",
       "REJ        26875\n",
       "RSTR         903\n",
       "RSTO         579\n",
       "SH           107\n",
       "S1            57\n",
       "S2            24\n",
       "RSTOS0        11\n",
       "S3            10\n",
       "OTH            8\n",
       "Name: flag, dtype: int64"
      ]
     },
     "execution_count": 63,
     "metadata": {},
     "output_type": "execute_result"
    }
   ],
   "source": [
    "kdd_data_10percent.flag.value_counts()"
   ]
  },
  {
   "cell_type": "code",
   "execution_count": 64,
   "metadata": {
    "collapsed": true
   },
   "outputs": [],
   "source": [
    "kdd_data_10percent.flag=le_flag.transform(kdd_data_10percent.flag)"
   ]
  },
  {
   "cell_type": "code",
   "execution_count": 65,
   "metadata": {
    "collapsed": false
   },
   "outputs": [
    {
     "data": {
      "text/plain": [
       "9     378440\n",
       "5      87007\n",
       "1      26875\n",
       "4        903\n",
       "2        579\n",
       "10       107\n",
       "6         57\n",
       "7         24\n",
       "3         11\n",
       "8         10\n",
       "0          8\n",
       "Name: flag, dtype: int64"
      ]
     },
     "execution_count": 65,
     "metadata": {},
     "output_type": "execute_result"
    }
   ],
   "source": [
    "kdd_data_10percent.flag.value_counts()"
   ]
  },
  {
   "cell_type": "code",
   "execution_count": 66,
   "metadata": {
    "collapsed": false
   },
   "outputs": [
    {
     "data": {
      "text/plain": [
       "['dump/kddcup.data/kdd_data_10percent.00.pkl']"
      ]
     },
     "execution_count": 66,
     "metadata": {},
     "output_type": "execute_result"
    }
   ],
   "source": [
    "#joblib.dump(kdd_data_10percent, 'dump/kddcup.data/kdd_data_10percent.00.pkl') "
   ]
  },
  {
   "cell_type": "code",
   "execution_count": 67,
   "metadata": {
    "collapsed": false
   },
   "outputs": [
    {
     "data": {
      "text/plain": [
       "smurf.              280790\n",
       "neptune.            107201\n",
       "normal.              97278\n",
       "back.                 2203\n",
       "satan.                1589\n",
       "ipsweep.              1247\n",
       "portsweep.            1040\n",
       "warezclient.          1020\n",
       "teardrop.              979\n",
       "pod.                   264\n",
       "nmap.                  231\n",
       "guess_passwd.           53\n",
       "buffer_overflow.        30\n",
       "land.                   21\n",
       "warezmaster.            20\n",
       "imap.                   12\n",
       "rootkit.                10\n",
       "loadmodule.              9\n",
       "ftp_write.               8\n",
       "multihop.                7\n",
       "phf.                     4\n",
       "perl.                    3\n",
       "spy.                     2\n",
       "Name: label, dtype: int64"
      ]
     },
     "execution_count": 67,
     "metadata": {},
     "output_type": "execute_result"
    }
   ],
   "source": [
    "kdd_data_10percent.label.value_counts()"
   ]
  },
  {
   "cell_type": "code",
   "execution_count": 68,
   "metadata": {
    "collapsed": true
   },
   "outputs": [],
   "source": [
    "kdd_data_10percent.label=le_label.transform(kdd_data_10percent.label)"
   ]
  },
  {
   "cell_type": "code",
   "execution_count": 69,
   "metadata": {
    "collapsed": false
   },
   "outputs": [
    {
     "data": {
      "text/plain": [
       "18    280790\n",
       "9     107201\n",
       "11     97278\n",
       "0       2203\n",
       "17      1589\n",
       "5       1247\n",
       "15      1040\n",
       "21      1020\n",
       "20       979\n",
       "14       264\n",
       "10       231\n",
       "3         53\n",
       "1         30\n",
       "6         21\n",
       "22        20\n",
       "4         12\n",
       "16        10\n",
       "7          9\n",
       "2          8\n",
       "8          7\n",
       "13         4\n",
       "12         3\n",
       "19         2\n",
       "Name: label, dtype: int64"
      ]
     },
     "execution_count": 69,
     "metadata": {},
     "output_type": "execute_result"
    }
   ],
   "source": [
    "kdd_data_10percent.label.value_counts()"
   ]
  },
  {
   "cell_type": "code",
   "execution_count": 70,
   "metadata": {
    "collapsed": false
   },
   "outputs": [
    {
     "data": {
      "text/plain": [
       "['dump/kddcup.data/kdd_data_10percent.01.pkl']"
      ]
     },
     "execution_count": 70,
     "metadata": {},
     "output_type": "execute_result"
    }
   ],
   "source": [
    "#joblib.dump(kdd_data_10percent, 'dump/kddcup.data/kdd_data_10percent.01.pkl') "
   ]
  },
  {
   "cell_type": "code",
   "execution_count": 71,
   "metadata": {
    "collapsed": true
   },
   "outputs": [],
   "source": [
    "train_features = kdd_data_10percent.drop('label',axis=1)"
   ]
  },
  {
   "cell_type": "code",
   "execution_count": 72,
   "metadata": {
    "collapsed": true
   },
   "outputs": [],
   "source": [
    "train_labels = kdd_data_10percent['label'].copy()"
   ]
  },
  {
   "cell_type": "code",
   "execution_count": 73,
   "metadata": {
    "collapsed": false
   },
   "outputs": [
    {
     "data": {
      "text/html": [
       "<div>\n",
       "<table border=\"1\" class=\"dataframe\">\n",
       "  <thead>\n",
       "    <tr style=\"text-align: right;\">\n",
       "      <th></th>\n",
       "      <th>duration</th>\n",
       "      <th>protocol_type</th>\n",
       "      <th>service</th>\n",
       "      <th>flag</th>\n",
       "      <th>src_bytes</th>\n",
       "      <th>dst_bytes</th>\n",
       "      <th>land</th>\n",
       "      <th>wrong_fragment</th>\n",
       "      <th>urgent</th>\n",
       "      <th>hot</th>\n",
       "      <th>...</th>\n",
       "      <th>dst_host_count</th>\n",
       "      <th>dst_host_srv_count</th>\n",
       "      <th>dst_host_same_srv_rate</th>\n",
       "      <th>dst_host_diff_srv_rate</th>\n",
       "      <th>dst_host_same_src_port_rate</th>\n",
       "      <th>dst_host_srv_diff_host_rate</th>\n",
       "      <th>dst_host_serror_rate</th>\n",
       "      <th>dst_host_srv_serror_rate</th>\n",
       "      <th>dst_host_rerror_rate</th>\n",
       "      <th>dst_host_srv_rerror_rate</th>\n",
       "    </tr>\n",
       "  </thead>\n",
       "  <tbody>\n",
       "    <tr>\n",
       "      <th>0</th>\n",
       "      <td>0</td>\n",
       "      <td>1</td>\n",
       "      <td>24</td>\n",
       "      <td>9</td>\n",
       "      <td>181</td>\n",
       "      <td>5450</td>\n",
       "      <td>0</td>\n",
       "      <td>0</td>\n",
       "      <td>0</td>\n",
       "      <td>0</td>\n",
       "      <td>...</td>\n",
       "      <td>9</td>\n",
       "      <td>9</td>\n",
       "      <td>1.0</td>\n",
       "      <td>0.0</td>\n",
       "      <td>0.11</td>\n",
       "      <td>0.0</td>\n",
       "      <td>0.0</td>\n",
       "      <td>0.0</td>\n",
       "      <td>0.0</td>\n",
       "      <td>0.0</td>\n",
       "    </tr>\n",
       "    <tr>\n",
       "      <th>1</th>\n",
       "      <td>0</td>\n",
       "      <td>1</td>\n",
       "      <td>24</td>\n",
       "      <td>9</td>\n",
       "      <td>239</td>\n",
       "      <td>486</td>\n",
       "      <td>0</td>\n",
       "      <td>0</td>\n",
       "      <td>0</td>\n",
       "      <td>0</td>\n",
       "      <td>...</td>\n",
       "      <td>19</td>\n",
       "      <td>19</td>\n",
       "      <td>1.0</td>\n",
       "      <td>0.0</td>\n",
       "      <td>0.05</td>\n",
       "      <td>0.0</td>\n",
       "      <td>0.0</td>\n",
       "      <td>0.0</td>\n",
       "      <td>0.0</td>\n",
       "      <td>0.0</td>\n",
       "    </tr>\n",
       "    <tr>\n",
       "      <th>2</th>\n",
       "      <td>0</td>\n",
       "      <td>1</td>\n",
       "      <td>24</td>\n",
       "      <td>9</td>\n",
       "      <td>235</td>\n",
       "      <td>1337</td>\n",
       "      <td>0</td>\n",
       "      <td>0</td>\n",
       "      <td>0</td>\n",
       "      <td>0</td>\n",
       "      <td>...</td>\n",
       "      <td>29</td>\n",
       "      <td>29</td>\n",
       "      <td>1.0</td>\n",
       "      <td>0.0</td>\n",
       "      <td>0.03</td>\n",
       "      <td>0.0</td>\n",
       "      <td>0.0</td>\n",
       "      <td>0.0</td>\n",
       "      <td>0.0</td>\n",
       "      <td>0.0</td>\n",
       "    </tr>\n",
       "    <tr>\n",
       "      <th>3</th>\n",
       "      <td>0</td>\n",
       "      <td>1</td>\n",
       "      <td>24</td>\n",
       "      <td>9</td>\n",
       "      <td>219</td>\n",
       "      <td>1337</td>\n",
       "      <td>0</td>\n",
       "      <td>0</td>\n",
       "      <td>0</td>\n",
       "      <td>0</td>\n",
       "      <td>...</td>\n",
       "      <td>39</td>\n",
       "      <td>39</td>\n",
       "      <td>1.0</td>\n",
       "      <td>0.0</td>\n",
       "      <td>0.03</td>\n",
       "      <td>0.0</td>\n",
       "      <td>0.0</td>\n",
       "      <td>0.0</td>\n",
       "      <td>0.0</td>\n",
       "      <td>0.0</td>\n",
       "    </tr>\n",
       "    <tr>\n",
       "      <th>4</th>\n",
       "      <td>0</td>\n",
       "      <td>1</td>\n",
       "      <td>24</td>\n",
       "      <td>9</td>\n",
       "      <td>217</td>\n",
       "      <td>2032</td>\n",
       "      <td>0</td>\n",
       "      <td>0</td>\n",
       "      <td>0</td>\n",
       "      <td>0</td>\n",
       "      <td>...</td>\n",
       "      <td>49</td>\n",
       "      <td>49</td>\n",
       "      <td>1.0</td>\n",
       "      <td>0.0</td>\n",
       "      <td>0.02</td>\n",
       "      <td>0.0</td>\n",
       "      <td>0.0</td>\n",
       "      <td>0.0</td>\n",
       "      <td>0.0</td>\n",
       "      <td>0.0</td>\n",
       "    </tr>\n",
       "  </tbody>\n",
       "</table>\n",
       "<p>5 rows × 41 columns</p>\n",
       "</div>"
      ],
      "text/plain": [
       "   duration  protocol_type  service  flag  src_bytes  dst_bytes  land  \\\n",
       "0         0              1       24     9        181       5450     0   \n",
       "1         0              1       24     9        239        486     0   \n",
       "2         0              1       24     9        235       1337     0   \n",
       "3         0              1       24     9        219       1337     0   \n",
       "4         0              1       24     9        217       2032     0   \n",
       "\n",
       "   wrong_fragment  urgent  hot            ...             dst_host_count  \\\n",
       "0               0       0    0            ...                          9   \n",
       "1               0       0    0            ...                         19   \n",
       "2               0       0    0            ...                         29   \n",
       "3               0       0    0            ...                         39   \n",
       "4               0       0    0            ...                         49   \n",
       "\n",
       "   dst_host_srv_count  dst_host_same_srv_rate  dst_host_diff_srv_rate  \\\n",
       "0                   9                     1.0                     0.0   \n",
       "1                  19                     1.0                     0.0   \n",
       "2                  29                     1.0                     0.0   \n",
       "3                  39                     1.0                     0.0   \n",
       "4                  49                     1.0                     0.0   \n",
       "\n",
       "   dst_host_same_src_port_rate  dst_host_srv_diff_host_rate  \\\n",
       "0                         0.11                          0.0   \n",
       "1                         0.05                          0.0   \n",
       "2                         0.03                          0.0   \n",
       "3                         0.03                          0.0   \n",
       "4                         0.02                          0.0   \n",
       "\n",
       "   dst_host_serror_rate  dst_host_srv_serror_rate  dst_host_rerror_rate  \\\n",
       "0                   0.0                       0.0                   0.0   \n",
       "1                   0.0                       0.0                   0.0   \n",
       "2                   0.0                       0.0                   0.0   \n",
       "3                   0.0                       0.0                   0.0   \n",
       "4                   0.0                       0.0                   0.0   \n",
       "\n",
       "   dst_host_srv_rerror_rate  \n",
       "0                       0.0  \n",
       "1                       0.0  \n",
       "2                       0.0  \n",
       "3                       0.0  \n",
       "4                       0.0  \n",
       "\n",
       "[5 rows x 41 columns]"
      ]
     },
     "execution_count": 73,
     "metadata": {},
     "output_type": "execute_result"
    }
   ],
   "source": [
    "train_features.head()"
   ]
  },
  {
   "cell_type": "code",
   "execution_count": 74,
   "metadata": {
    "collapsed": false
   },
   "outputs": [
    {
     "data": {
      "text/plain": [
       "0    11\n",
       "1    11\n",
       "2    11\n",
       "3    11\n",
       "4    11\n",
       "Name: label, dtype: int64"
      ]
     },
     "execution_count": 74,
     "metadata": {},
     "output_type": "execute_result"
    }
   ],
   "source": [
    "train_labels.head()"
   ]
  },
  {
   "cell_type": "code",
   "execution_count": 75,
   "metadata": {
    "collapsed": false
   },
   "outputs": [
    {
     "data": {
      "text/plain": [
       "array(['normal.', 'normal.', 'normal.', 'normal.', 'normal.'], dtype=object)"
      ]
     },
     "execution_count": 75,
     "metadata": {},
     "output_type": "execute_result"
    }
   ],
   "source": [
    "le_label.inverse_transform(train_labels.head())"
   ]
  },
  {
   "cell_type": "code",
   "execution_count": 76,
   "metadata": {
    "collapsed": false
   },
   "outputs": [
    {
     "data": {
      "text/plain": [
       "SVC(C=1.0, cache_size=200, class_weight=None, coef0=0.0,\n",
       "  decision_function_shape=None, degree=3, gamma='auto', kernel='rbf',\n",
       "  max_iter=-1, probability=False, random_state=None, shrinking=True,\n",
       "  tol=0.001, verbose=False)"
      ]
     },
     "execution_count": 76,
     "metadata": {},
     "output_type": "execute_result"
    }
   ],
   "source": [
    "clf = svm.SVC()\n",
    "clf.fit(train_features, train_labels)"
   ]
  },
  {
   "cell_type": "code",
   "execution_count": 77,
   "metadata": {
    "collapsed": false
   },
   "outputs": [
    {
     "data": {
      "text/plain": [
       "['dump/kddcup.data/kdd_data_10percent.clf.pkl']"
      ]
     },
     "execution_count": 77,
     "metadata": {},
     "output_type": "execute_result"
    }
   ],
   "source": [
    "#joblib.dump(clf, 'dump/kddcup.data/kdd_data_10percent.clf.pkl') "
   ]
  },
  {
   "cell_type": "code",
   "execution_count": 78,
   "metadata": {
    "collapsed": true
   },
   "outputs": [],
   "source": [
    "test_pred = clf.predict(train_features)"
   ]
  },
  {
   "cell_type": "code",
   "execution_count": 79,
   "metadata": {
    "collapsed": false
   },
   "outputs": [
    {
     "name": "stdout",
     "output_type": "stream",
     "text": [
      "             precision    recall  f1-score   support\n",
      "\n",
      "          0       1.00      1.00      1.00      2203\n",
      "          1       1.00      1.00      1.00        30\n",
      "          2       1.00      0.75      0.86         8\n",
      "          3       1.00      1.00      1.00        53\n",
      "          4       1.00      0.92      0.96        12\n",
      "          5       0.96      1.00      0.98      1247\n",
      "          6       1.00      0.95      0.98        21\n",
      "          7       1.00      1.00      1.00         9\n",
      "          8       1.00      1.00      1.00         7\n",
      "          9       1.00      1.00      1.00    107201\n",
      "         10       0.98      0.78      0.87       231\n",
      "         11       1.00      1.00      1.00     97278\n",
      "         12       1.00      1.00      1.00         3\n",
      "         13       1.00      1.00      1.00         4\n",
      "         14       1.00      1.00      1.00       264\n",
      "         15       1.00      0.93      0.96      1040\n",
      "         16       1.00      0.90      0.95        10\n",
      "         17       1.00      0.96      0.98      1589\n",
      "         18       1.00      1.00      1.00    280790\n",
      "         19       1.00      1.00      1.00         2\n",
      "         20       1.00      1.00      1.00       979\n",
      "         21       1.00      1.00      1.00      1020\n",
      "         22       1.00      1.00      1.00        20\n",
      "\n",
      "avg / total       1.00      1.00      1.00    494021\n",
      "\n",
      "0.999560747418\n"
     ]
    }
   ],
   "source": [
    "from sklearn.metrics import classification_report, accuracy_score\n",
    "\n",
    "print(classification_report(train_labels, test_pred))\n",
    "print(accuracy_score(train_labels, test_pred))"
   ]
  },
  {
   "cell_type": "code",
   "execution_count": null,
   "metadata": {
    "collapsed": true
   },
   "outputs": [],
   "source": []
  },
  {
   "cell_type": "code",
   "execution_count": 100,
   "metadata": {
    "collapsed": true
   },
   "outputs": [],
   "source": [
    "train_features = kdd_data_10percent.drop('label',axis=1)"
   ]
  },
  {
   "cell_type": "code",
   "execution_count": 101,
   "metadata": {
    "collapsed": true
   },
   "outputs": [],
   "source": [
    "train_labels = kdd_data_10percent['label'].copy()"
   ]
  },
  {
   "cell_type": "code",
   "execution_count": 102,
   "metadata": {
    "collapsed": true
   },
   "outputs": [],
   "source": [
    "train_features= train_features.drop('service',axis=1)"
   ]
  },
  {
   "cell_type": "code",
   "execution_count": 103,
   "metadata": {
    "collapsed": false
   },
   "outputs": [
    {
     "data": {
      "text/plain": [
       "SVC(C=1.0, cache_size=200, class_weight=None, coef0=0.0,\n",
       "  decision_function_shape=None, degree=3, gamma='auto', kernel='rbf',\n",
       "  max_iter=-1, probability=False, random_state=None, shrinking=True,\n",
       "  tol=0.001, verbose=False)"
      ]
     },
     "execution_count": 103,
     "metadata": {},
     "output_type": "execute_result"
    }
   ],
   "source": [
    "clf2 = svm.SVC()\n",
    "clf2.fit(train_features, train_labels)"
   ]
  },
  {
   "cell_type": "code",
   "execution_count": 118,
   "metadata": {
    "collapsed": false
   },
   "outputs": [],
   "source": [
    "#joblib.dump(clf2, 'dump/kddcup.data/kdd_data_10percent.clf2.pkl') "
   ]
  },
  {
   "cell_type": "code",
   "execution_count": 106,
   "metadata": {
    "collapsed": true
   },
   "outputs": [],
   "source": [
    "test_pred = clf2.predict(train_features)"
   ]
  },
  {
   "cell_type": "code",
   "execution_count": 115,
   "metadata": {
    "collapsed": false
   },
   "outputs": [
    {
     "name": "stdout",
     "output_type": "stream",
     "text": [
      "             precision    recall  f1-score   support\n",
      "\n",
      "          0       1.00      1.00      1.00      2203\n",
      "          1       1.00      1.00      1.00        30\n",
      "          2       1.00      0.75      0.86         8\n",
      "          3       1.00      1.00      1.00        53\n",
      "          4       1.00      0.92      0.96        12\n",
      "          5       0.96      1.00      0.97      1247\n",
      "          6       0.95      0.95      0.95        21\n",
      "          7       1.00      1.00      1.00         9\n",
      "          8       1.00      1.00      1.00         7\n",
      "          9       1.00      1.00      1.00    107201\n",
      "         10       0.98      0.76      0.86       231\n",
      "         11       1.00      1.00      1.00     97278\n",
      "         12       1.00      1.00      1.00         3\n",
      "         13       1.00      1.00      1.00         4\n",
      "         14       1.00      1.00      1.00       264\n",
      "         15       1.00      0.92      0.96      1040\n",
      "         16       1.00      0.70      0.82        10\n",
      "         17       0.99      0.95      0.97      1589\n",
      "         18       1.00      1.00      1.00    280790\n",
      "         19       1.00      1.00      1.00         2\n",
      "         20       1.00      1.00      1.00       979\n",
      "         21       1.00      0.99      1.00      1020\n",
      "         22       1.00      1.00      1.00        20\n",
      "\n",
      "avg / total       1.00      1.00      1.00    494021\n",
      "\n",
      "0.999489900227\n"
     ]
    }
   ],
   "source": [
    "from sklearn.metrics import classification_report, accuracy_score\n",
    "\n",
    "print(classification_report(train_labels, test_pred))\n",
    "print(accuracy_score(train_labels, test_pred))"
   ]
  },
  {
   "cell_type": "code",
   "execution_count": 114,
   "metadata": {
    "collapsed": false
   },
   "outputs": [],
   "source": [
    "kdd_data_10percent.label = list(le_label.inverse_transform(kdd_data_10percent.label))"
   ]
  },
  {
   "cell_type": "code",
   "execution_count": 116,
   "metadata": {
    "collapsed": true
   },
   "outputs": [],
   "source": [
    "train_labels = kdd_data_10percent['label'].copy()"
   ]
  },
  {
   "cell_type": "code",
   "execution_count": 117,
   "metadata": {
    "collapsed": false
   },
   "outputs": [
    {
     "data": {
      "text/plain": [
       "SVC(C=1.0, cache_size=200, class_weight=None, coef0=0.0,\n",
       "  decision_function_shape=None, degree=3, gamma='auto', kernel='rbf',\n",
       "  max_iter=-1, probability=False, random_state=None, shrinking=True,\n",
       "  tol=0.001, verbose=False)"
      ]
     },
     "execution_count": 117,
     "metadata": {},
     "output_type": "execute_result"
    }
   ],
   "source": [
    "clf3 = svm.SVC()\n",
    "clf3.fit(train_features, train_labels)"
   ]
  },
  {
   "cell_type": "code",
   "execution_count": 119,
   "metadata": {
    "collapsed": false
   },
   "outputs": [
    {
     "data": {
      "text/plain": [
       "['dump/kddcup.data/kdd_data_10percent.clf3.pkl']"
      ]
     },
     "execution_count": 119,
     "metadata": {},
     "output_type": "execute_result"
    }
   ],
   "source": [
    "#joblib.dump(clf3, 'dump/kddcup.data/kdd_data_10percent.clf3.pkl') "
   ]
  },
  {
   "cell_type": "code",
   "execution_count": 120,
   "metadata": {
    "collapsed": true
   },
   "outputs": [],
   "source": [
    "test_pred = clf3.predict(train_features)"
   ]
  },
  {
   "cell_type": "code",
   "execution_count": 121,
   "metadata": {
    "collapsed": false
   },
   "outputs": [
    {
     "name": "stdout",
     "output_type": "stream",
     "text": [
      "                  precision    recall  f1-score   support\n",
      "\n",
      "           back.       1.00      1.00      1.00      2203\n",
      "buffer_overflow.       1.00      1.00      1.00        30\n",
      "      ftp_write.       1.00      0.75      0.86         8\n",
      "   guess_passwd.       1.00      1.00      1.00        53\n",
      "           imap.       1.00      0.92      0.96        12\n",
      "        ipsweep.       0.96      1.00      0.97      1247\n",
      "           land.       0.95      0.95      0.95        21\n",
      "     loadmodule.       1.00      1.00      1.00         9\n",
      "       multihop.       1.00      1.00      1.00         7\n",
      "        neptune.       1.00      1.00      1.00    107201\n",
      "           nmap.       0.98      0.76      0.86       231\n",
      "         normal.       1.00      1.00      1.00     97278\n",
      "           perl.       1.00      1.00      1.00         3\n",
      "            phf.       1.00      1.00      1.00         4\n",
      "            pod.       1.00      1.00      1.00       264\n",
      "      portsweep.       1.00      0.92      0.96      1040\n",
      "        rootkit.       1.00      0.70      0.82        10\n",
      "          satan.       0.99      0.95      0.97      1589\n",
      "          smurf.       1.00      1.00      1.00    280790\n",
      "            spy.       1.00      1.00      1.00         2\n",
      "       teardrop.       1.00      1.00      1.00       979\n",
      "    warezclient.       1.00      0.99      1.00      1020\n",
      "    warezmaster.       1.00      1.00      1.00        20\n",
      "\n",
      "     avg / total       1.00      1.00      1.00    494021\n",
      "\n",
      "0.999489900227\n"
     ]
    }
   ],
   "source": [
    "from sklearn.metrics import classification_report, accuracy_score\n",
    "\n",
    "print(classification_report(train_labels, test_pred))\n",
    "print(accuracy_score(train_labels, test_pred))"
   ]
  },
  {
   "cell_type": "code",
   "execution_count": 122,
   "metadata": {
    "collapsed": true
   },
   "outputs": [],
   "source": [
    "corrected = pd.read_csv(\"corrected\", header=None, names = col_names)"
   ]
  },
  {
   "cell_type": "code",
   "execution_count": 123,
   "metadata": {
    "collapsed": true
   },
   "outputs": [],
   "source": [
    "corrected.protocol_type=le_protocol_type.transform(corrected.protocol_type)"
   ]
  },
  {
   "cell_type": "code",
   "execution_count": 124,
   "metadata": {
    "collapsed": true
   },
   "outputs": [],
   "source": [
    "corrected.flag = le_flag.transform(corrected.flag)"
   ]
  },
  {
   "cell_type": "code",
   "execution_count": 125,
   "metadata": {
    "collapsed": true
   },
   "outputs": [],
   "source": [
    "test_features = corrected.drop(['label','service'],axis=1)"
   ]
  },
  {
   "cell_type": "code",
   "execution_count": 126,
   "metadata": {
    "collapsed": false
   },
   "outputs": [
    {
     "data": {
      "text/html": [
       "<div>\n",
       "<table border=\"1\" class=\"dataframe\">\n",
       "  <thead>\n",
       "    <tr style=\"text-align: right;\">\n",
       "      <th></th>\n",
       "      <th>duration</th>\n",
       "      <th>protocol_type</th>\n",
       "      <th>flag</th>\n",
       "      <th>src_bytes</th>\n",
       "      <th>dst_bytes</th>\n",
       "      <th>land</th>\n",
       "      <th>wrong_fragment</th>\n",
       "      <th>urgent</th>\n",
       "      <th>hot</th>\n",
       "      <th>num_failed_logins</th>\n",
       "      <th>...</th>\n",
       "      <th>dst_host_count</th>\n",
       "      <th>dst_host_srv_count</th>\n",
       "      <th>dst_host_same_srv_rate</th>\n",
       "      <th>dst_host_diff_srv_rate</th>\n",
       "      <th>dst_host_same_src_port_rate</th>\n",
       "      <th>dst_host_srv_diff_host_rate</th>\n",
       "      <th>dst_host_serror_rate</th>\n",
       "      <th>dst_host_srv_serror_rate</th>\n",
       "      <th>dst_host_rerror_rate</th>\n",
       "      <th>dst_host_srv_rerror_rate</th>\n",
       "    </tr>\n",
       "  </thead>\n",
       "  <tbody>\n",
       "    <tr>\n",
       "      <th>0</th>\n",
       "      <td>0</td>\n",
       "      <td>2</td>\n",
       "      <td>9</td>\n",
       "      <td>105</td>\n",
       "      <td>146</td>\n",
       "      <td>0</td>\n",
       "      <td>0</td>\n",
       "      <td>0</td>\n",
       "      <td>0</td>\n",
       "      <td>0</td>\n",
       "      <td>...</td>\n",
       "      <td>255</td>\n",
       "      <td>254</td>\n",
       "      <td>1.0</td>\n",
       "      <td>0.01</td>\n",
       "      <td>0.00</td>\n",
       "      <td>0.0</td>\n",
       "      <td>0.0</td>\n",
       "      <td>0.0</td>\n",
       "      <td>0.0</td>\n",
       "      <td>0.0</td>\n",
       "    </tr>\n",
       "    <tr>\n",
       "      <th>1</th>\n",
       "      <td>0</td>\n",
       "      <td>2</td>\n",
       "      <td>9</td>\n",
       "      <td>105</td>\n",
       "      <td>146</td>\n",
       "      <td>0</td>\n",
       "      <td>0</td>\n",
       "      <td>0</td>\n",
       "      <td>0</td>\n",
       "      <td>0</td>\n",
       "      <td>...</td>\n",
       "      <td>255</td>\n",
       "      <td>254</td>\n",
       "      <td>1.0</td>\n",
       "      <td>0.01</td>\n",
       "      <td>0.00</td>\n",
       "      <td>0.0</td>\n",
       "      <td>0.0</td>\n",
       "      <td>0.0</td>\n",
       "      <td>0.0</td>\n",
       "      <td>0.0</td>\n",
       "    </tr>\n",
       "    <tr>\n",
       "      <th>2</th>\n",
       "      <td>0</td>\n",
       "      <td>2</td>\n",
       "      <td>9</td>\n",
       "      <td>105</td>\n",
       "      <td>146</td>\n",
       "      <td>0</td>\n",
       "      <td>0</td>\n",
       "      <td>0</td>\n",
       "      <td>0</td>\n",
       "      <td>0</td>\n",
       "      <td>...</td>\n",
       "      <td>255</td>\n",
       "      <td>254</td>\n",
       "      <td>1.0</td>\n",
       "      <td>0.01</td>\n",
       "      <td>0.00</td>\n",
       "      <td>0.0</td>\n",
       "      <td>0.0</td>\n",
       "      <td>0.0</td>\n",
       "      <td>0.0</td>\n",
       "      <td>0.0</td>\n",
       "    </tr>\n",
       "    <tr>\n",
       "      <th>3</th>\n",
       "      <td>0</td>\n",
       "      <td>2</td>\n",
       "      <td>9</td>\n",
       "      <td>105</td>\n",
       "      <td>146</td>\n",
       "      <td>0</td>\n",
       "      <td>0</td>\n",
       "      <td>0</td>\n",
       "      <td>0</td>\n",
       "      <td>0</td>\n",
       "      <td>...</td>\n",
       "      <td>255</td>\n",
       "      <td>254</td>\n",
       "      <td>1.0</td>\n",
       "      <td>0.01</td>\n",
       "      <td>0.00</td>\n",
       "      <td>0.0</td>\n",
       "      <td>0.0</td>\n",
       "      <td>0.0</td>\n",
       "      <td>0.0</td>\n",
       "      <td>0.0</td>\n",
       "    </tr>\n",
       "    <tr>\n",
       "      <th>4</th>\n",
       "      <td>0</td>\n",
       "      <td>2</td>\n",
       "      <td>9</td>\n",
       "      <td>105</td>\n",
       "      <td>146</td>\n",
       "      <td>0</td>\n",
       "      <td>0</td>\n",
       "      <td>0</td>\n",
       "      <td>0</td>\n",
       "      <td>0</td>\n",
       "      <td>...</td>\n",
       "      <td>255</td>\n",
       "      <td>254</td>\n",
       "      <td>1.0</td>\n",
       "      <td>0.01</td>\n",
       "      <td>0.01</td>\n",
       "      <td>0.0</td>\n",
       "      <td>0.0</td>\n",
       "      <td>0.0</td>\n",
       "      <td>0.0</td>\n",
       "      <td>0.0</td>\n",
       "    </tr>\n",
       "  </tbody>\n",
       "</table>\n",
       "<p>5 rows × 40 columns</p>\n",
       "</div>"
      ],
      "text/plain": [
       "   duration  protocol_type  flag  src_bytes  dst_bytes  land  wrong_fragment  \\\n",
       "0         0              2     9        105        146     0               0   \n",
       "1         0              2     9        105        146     0               0   \n",
       "2         0              2     9        105        146     0               0   \n",
       "3         0              2     9        105        146     0               0   \n",
       "4         0              2     9        105        146     0               0   \n",
       "\n",
       "   urgent  hot  num_failed_logins            ...             dst_host_count  \\\n",
       "0       0    0                  0            ...                        255   \n",
       "1       0    0                  0            ...                        255   \n",
       "2       0    0                  0            ...                        255   \n",
       "3       0    0                  0            ...                        255   \n",
       "4       0    0                  0            ...                        255   \n",
       "\n",
       "   dst_host_srv_count  dst_host_same_srv_rate  dst_host_diff_srv_rate  \\\n",
       "0                 254                     1.0                    0.01   \n",
       "1                 254                     1.0                    0.01   \n",
       "2                 254                     1.0                    0.01   \n",
       "3                 254                     1.0                    0.01   \n",
       "4                 254                     1.0                    0.01   \n",
       "\n",
       "   dst_host_same_src_port_rate  dst_host_srv_diff_host_rate  \\\n",
       "0                         0.00                          0.0   \n",
       "1                         0.00                          0.0   \n",
       "2                         0.00                          0.0   \n",
       "3                         0.00                          0.0   \n",
       "4                         0.01                          0.0   \n",
       "\n",
       "   dst_host_serror_rate  dst_host_srv_serror_rate  dst_host_rerror_rate  \\\n",
       "0                   0.0                       0.0                   0.0   \n",
       "1                   0.0                       0.0                   0.0   \n",
       "2                   0.0                       0.0                   0.0   \n",
       "3                   0.0                       0.0                   0.0   \n",
       "4                   0.0                       0.0                   0.0   \n",
       "\n",
       "   dst_host_srv_rerror_rate  \n",
       "0                       0.0  \n",
       "1                       0.0  \n",
       "2                       0.0  \n",
       "3                       0.0  \n",
       "4                       0.0  \n",
       "\n",
       "[5 rows x 40 columns]"
      ]
     },
     "execution_count": 126,
     "metadata": {},
     "output_type": "execute_result"
    }
   ],
   "source": [
    "test_features.head()"
   ]
  },
  {
   "cell_type": "code",
   "execution_count": 127,
   "metadata": {
    "collapsed": true
   },
   "outputs": [],
   "source": [
    "test_labels = corrected.label.copy()"
   ]
  },
  {
   "cell_type": "code",
   "execution_count": 128,
   "metadata": {
    "collapsed": true
   },
   "outputs": [],
   "source": [
    "test_pred = clf3.predict(test_features)"
   ]
  },
  {
   "cell_type": "code",
   "execution_count": 129,
   "metadata": {
    "collapsed": false
   },
   "outputs": [
    {
     "name": "stderr",
     "output_type": "stream",
     "text": [
      "/Users/mhaya/.pyenv/versions/anaconda3-4.3.0/lib/python3.6/site-packages/sklearn/metrics/classification.py:1113: UndefinedMetricWarning: Precision and F-score are ill-defined and being set to 0.0 in labels with no predicted samples.\n",
      "  'precision', 'predicted', average, warn_for)\n",
      "/Users/mhaya/.pyenv/versions/anaconda3-4.3.0/lib/python3.6/site-packages/sklearn/metrics/classification.py:1115: UndefinedMetricWarning: Recall and F-score are ill-defined and being set to 0.0 in labels with no true samples.\n",
      "  'recall', 'true', average, warn_for)\n"
     ]
    },
    {
     "name": "stdout",
     "output_type": "stream",
     "text": [
      "                  precision    recall  f1-score   support\n",
      "\n",
      "        apache2.       0.00      0.00      0.00       794\n",
      "           back.       1.00      0.78      0.88      1098\n",
      "buffer_overflow.       0.00      0.00      0.00        22\n",
      "      ftp_write.       0.00      0.00      0.00         3\n",
      "   guess_passwd.       0.00      0.00      0.00      4367\n",
      "     httptunnel.       0.00      0.00      0.00       158\n",
      "           imap.       0.00      0.00      0.00         1\n",
      "        ipsweep.       0.43      0.95      0.59       306\n",
      "           land.       0.50      0.56      0.53         9\n",
      "     loadmodule.       0.00      0.00      0.00         2\n",
      "       mailbomb.       0.00      0.00      0.00      5000\n",
      "          mscan.       0.00      0.00      0.00      1053\n",
      "       multihop.       0.00      0.00      0.00        18\n",
      "          named.       0.00      0.00      0.00        17\n",
      "        neptune.       1.00      0.99      0.99     58001\n",
      "           nmap.       0.97      0.83      0.90        84\n",
      "         normal.       0.66      1.00      0.79     60593\n",
      "           perl.       0.00      0.00      0.00         2\n",
      "            phf.       0.00      0.00      0.00         2\n",
      "            pod.       0.84      0.89      0.86        87\n",
      "      portsweep.       0.81      0.94      0.87       354\n",
      "   processtable.       0.00      0.00      0.00       759\n",
      "             ps.       0.00      0.00      0.00        16\n",
      "        rootkit.       0.00      0.00      0.00        13\n",
      "          saint.       0.00      0.00      0.00       736\n",
      "          satan.       0.59      0.77      0.67      1633\n",
      "       sendmail.       0.00      0.00      0.00        17\n",
      "          smurf.       1.00      0.96      0.98    164091\n",
      "  snmpgetattack.       0.00      0.00      0.00      7741\n",
      "      snmpguess.       0.00      0.00      0.00      2406\n",
      "      sqlattack.       0.00      0.00      0.00         2\n",
      "       teardrop.       0.25      0.50      0.33        12\n",
      "       udpstorm.       0.00      0.00      0.00         2\n",
      "    warezclient.       0.00      0.00      0.00         0\n",
      "    warezmaster.       0.00      0.00      0.00      1602\n",
      "           worm.       0.00      0.00      0.00         2\n",
      "          xlock.       0.00      0.00      0.00         9\n",
      "         xsnoop.       0.00      0.00      0.00         4\n",
      "          xterm.       0.00      0.00      0.00        13\n",
      "\n",
      "     avg / total       0.85      0.89      0.86    311029\n",
      "\n",
      "0.893662648821\n"
     ]
    }
   ],
   "source": [
    "from sklearn.metrics import classification_report, accuracy_score\n",
    "\n",
    "print(classification_report(test_labels, test_pred))\n",
    "print(accuracy_score(test_labels, test_pred))"
   ]
  },
  {
   "cell_type": "code",
   "execution_count": null,
   "metadata": {
    "collapsed": true
   },
   "outputs": [],
   "source": []
  }
 ],
 "metadata": {
  "kernelspec": {
   "display_name": "Python 3",
   "language": "python",
   "name": "python3"
  },
  "language_info": {
   "codemirror_mode": {
    "name": "ipython",
    "version": 3
   },
   "file_extension": ".py",
   "mimetype": "text/x-python",
   "name": "python",
   "nbconvert_exporter": "python",
   "pygments_lexer": "ipython3",
   "version": "3.6.0"
  }
 },
 "nbformat": 4,
 "nbformat_minor": 2
}
