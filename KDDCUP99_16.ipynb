{
 "cells": [
  {
   "cell_type": "markdown",
   "metadata": {},
   "source": [
    "# KDD Cup 1999 Data"
   ]
  },
  {
   "cell_type": "markdown",
   "metadata": {
    "collapsed": true
   },
   "source": [
    "http://kdd.ics.uci.edu/databases/kddcup99/kddcup99.html"
   ]
  },
  {
   "cell_type": "code",
   "execution_count": 43,
   "metadata": {
    "collapsed": false
   },
   "outputs": [],
   "source": [
    "import sklearn\n",
    "import pandas as pd\n",
    "from sklearn import preprocessing\n",
    "from sklearn.utils import resample\n",
    "from sklearn.model_selection import GridSearchCV\n",
    "from sklearn.svm import SVC\n",
    "import numpy as np\n",
    "from sklearn.decomposition import PCA\n",
    "from sklearn.neural_network import MLPClassifier \n",
    "from sklearn.pipeline import Pipeline\n",
    "import time\n",
    "from sklearn.metrics import confusion_matrix, classification_report\n",
    "from sklearn.externals import joblib\n",
    "from sklearn.utils import resample"
   ]
  },
  {
   "cell_type": "code",
   "execution_count": 44,
   "metadata": {
    "collapsed": false
   },
   "outputs": [
    {
     "name": "stdout",
     "output_type": "stream",
     "text": [
      "The scikit-learn version is 0.18.1.\n"
     ]
    }
   ],
   "source": [
    "print('The scikit-learn version is {}.'.format(sklearn.__version__))"
   ]
  },
  {
   "cell_type": "code",
   "execution_count": 45,
   "metadata": {
    "collapsed": true
   },
   "outputs": [],
   "source": [
    "col_names = [\"duration\",\"protocol_type\",\"service\",\"flag\",\"src_bytes\",\n",
    "             \"dst_bytes\",\"land\",\"wrong_fragment\",\"urgent\",\"hot\",\"num_failed_logins\",\n",
    "             \"logged_in\",\"num_compromised\",\"root_shell\",\"su_attempted\",\"num_root\",\"num_file_creations\",\n",
    "             \"num_shells\",\"num_access_files\",\"num_outbound_cmds\",\"is_host_login\",\"is_guest_login\",\"count\",\n",
    "             \"srv_count\",\"serror_rate\",\"srv_serror_rate\",\"rerror_rate\",\"srv_rerror_rate\",\"same_srv_rate\",\n",
    "             \"diff_srv_rate\",\"srv_diff_host_rate\",\"dst_host_count\",\"dst_host_srv_count\",\n",
    "             \"dst_host_same_srv_rate\",\"dst_host_diff_srv_rate\",\"dst_host_same_src_port_rate\",\n",
    "             \"dst_host_srv_diff_host_rate\",\"dst_host_serror_rate\",\"dst_host_srv_serror_rate\",\n",
    "             \"dst_host_rerror_rate\",\"dst_host_srv_rerror_rate\",\"label\"]"
   ]
  },
  {
   "cell_type": "code",
   "execution_count": 46,
   "metadata": {
    "collapsed": true
   },
   "outputs": [],
   "source": [
    "data = pd.read_csv(\"data/kddcup.data_10_percent\", header=None, names = col_names)"
   ]
  },
  {
   "cell_type": "code",
   "execution_count": 47,
   "metadata": {
    "collapsed": false
   },
   "outputs": [
    {
     "data": {
      "text/plain": [
       "(494021, 42)"
      ]
     },
     "execution_count": 47,
     "metadata": {},
     "output_type": "execute_result"
    }
   ],
   "source": [
    "data.shape"
   ]
  },
  {
   "cell_type": "markdown",
   "metadata": {},
   "source": [
    "# 前処理\n",
    "## カテゴリ化"
   ]
  },
  {
   "cell_type": "code",
   "execution_count": 48,
   "metadata": {
    "collapsed": false
   },
   "outputs": [
    {
     "data": {
      "text/plain": [
       "smurf.              280790\n",
       "neptune.            107201\n",
       "normal.              97278\n",
       "back.                 2203\n",
       "satan.                1589\n",
       "ipsweep.              1247\n",
       "portsweep.            1040\n",
       "warezclient.          1020\n",
       "teardrop.              979\n",
       "pod.                   264\n",
       "nmap.                  231\n",
       "guess_passwd.           53\n",
       "buffer_overflow.        30\n",
       "land.                   21\n",
       "warezmaster.            20\n",
       "imap.                   12\n",
       "rootkit.                10\n",
       "loadmodule.              9\n",
       "ftp_write.               8\n",
       "multihop.                7\n",
       "phf.                     4\n",
       "perl.                    3\n",
       "spy.                     2\n",
       "Name: label, dtype: int64"
      ]
     },
     "execution_count": 48,
     "metadata": {},
     "output_type": "execute_result"
    }
   ],
   "source": [
    "data.label.value_counts()"
   ]
  },
  {
   "cell_type": "code",
   "execution_count": 49,
   "metadata": {
    "collapsed": false
   },
   "outputs": [],
   "source": [
    "data['label2'] = data.label.where(data.label.str.contains('normal'),'atack')"
   ]
  },
  {
   "cell_type": "code",
   "execution_count": 50,
   "metadata": {
    "collapsed": false
   },
   "outputs": [
    {
     "data": {
      "text/plain": [
       "atack      396743\n",
       "normal.     97278\n",
       "Name: label2, dtype: int64"
      ]
     },
     "execution_count": 50,
     "metadata": {},
     "output_type": "execute_result"
    }
   ],
   "source": [
    "data.label2.value_counts()"
   ]
  },
  {
   "cell_type": "code",
   "execution_count": 51,
   "metadata": {
    "collapsed": true
   },
   "outputs": [],
   "source": [
    "data['label3'] = data.label.copy()"
   ]
  },
  {
   "cell_type": "code",
   "execution_count": 52,
   "metadata": {
    "collapsed": false
   },
   "outputs": [],
   "source": [
    "data.loc[data.label.str.contains('back|land|neptune|pod|smurf|teardrop|mailbomb|apache2|processtable|udpstorm'),'label3'] = 'DoS'"
   ]
  },
  {
   "cell_type": "code",
   "execution_count": 53,
   "metadata": {
    "collapsed": false
   },
   "outputs": [],
   "source": [
    "data.loc[data.label.str.contains('buffer_overflow|loadmodule|perl|rootkit|ps|xterm|sqlattack'),'label3'] = 'U2R'"
   ]
  },
  {
   "cell_type": "code",
   "execution_count": 54,
   "metadata": {
    "collapsed": true
   },
   "outputs": [],
   "source": [
    "data.loc[data.label.str.contains('ftp_write|guess_passwd|imap|multihop|phf|spy|warezclient|warezmaster|snmpgetattack|snmpguess|httptunnel|sendmail|named|xlock|xsnoop|worm'),'label3'] = 'R2L'"
   ]
  },
  {
   "cell_type": "code",
   "execution_count": 55,
   "metadata": {
    "collapsed": true
   },
   "outputs": [],
   "source": [
    "data.loc[data.label.str.contains('ipsweep|nmap|portsweep|satan|mscan|saint'),'label3'] = 'Probe'"
   ]
  },
  {
   "cell_type": "code",
   "execution_count": 56,
   "metadata": {
    "collapsed": false
   },
   "outputs": [
    {
     "data": {
      "text/plain": [
       "DoS        391458\n",
       "normal.     97278\n",
       "Probe        4107\n",
       "R2L          1126\n",
       "U2R            52\n",
       "Name: label3, dtype: int64"
      ]
     },
     "execution_count": 56,
     "metadata": {},
     "output_type": "execute_result"
    }
   ],
   "source": [
    "data.label3.value_counts()"
   ]
  },
  {
   "cell_type": "code",
   "execution_count": 57,
   "metadata": {
    "collapsed": false
   },
   "outputs": [],
   "source": [
    "#joblib.dump(data,'dump/20171118/corrected.pkl')"
   ]
  },
  {
   "cell_type": "markdown",
   "metadata": {},
   "source": [
    "## サンプリング"
   ]
  },
  {
   "cell_type": "code",
   "execution_count": 58,
   "metadata": {
    "collapsed": true
   },
   "outputs": [],
   "source": [
    "data = resample(data,n_samples=2000,random_state=0)"
   ]
  },
  {
   "cell_type": "code",
   "execution_count": 59,
   "metadata": {
    "collapsed": false
   },
   "outputs": [
    {
     "data": {
      "text/plain": [
       "(2000, 44)"
      ]
     },
     "execution_count": 59,
     "metadata": {},
     "output_type": "execute_result"
    }
   ],
   "source": [
    "data.shape"
   ]
  },
  {
   "cell_type": "markdown",
   "metadata": {},
   "source": [
    "## 数値化"
   ]
  },
  {
   "cell_type": "code",
   "execution_count": 60,
   "metadata": {
    "collapsed": true
   },
   "outputs": [],
   "source": [
    "le_protocol_type = preprocessing.LabelEncoder()"
   ]
  },
  {
   "cell_type": "code",
   "execution_count": 61,
   "metadata": {
    "collapsed": false
   },
   "outputs": [
    {
     "data": {
      "text/plain": [
       "LabelEncoder()"
      ]
     },
     "execution_count": 61,
     "metadata": {},
     "output_type": "execute_result"
    }
   ],
   "source": [
    "le_protocol_type.fit(data.protocol_type)"
   ]
  },
  {
   "cell_type": "code",
   "execution_count": 62,
   "metadata": {
    "collapsed": false
   },
   "outputs": [],
   "source": [
    "data.protocol_type=le_protocol_type.transform(data.protocol_type)"
   ]
  },
  {
   "cell_type": "code",
   "execution_count": 63,
   "metadata": {
    "collapsed": true
   },
   "outputs": [],
   "source": [
    "le_service = preprocessing.LabelEncoder()"
   ]
  },
  {
   "cell_type": "code",
   "execution_count": 64,
   "metadata": {
    "collapsed": false
   },
   "outputs": [
    {
     "data": {
      "text/plain": [
       "LabelEncoder()"
      ]
     },
     "execution_count": 64,
     "metadata": {},
     "output_type": "execute_result"
    }
   ],
   "source": [
    "le_service.fit(data.service)"
   ]
  },
  {
   "cell_type": "code",
   "execution_count": 65,
   "metadata": {
    "collapsed": true
   },
   "outputs": [],
   "source": [
    "data.service = le_service.transform(data.service)"
   ]
  },
  {
   "cell_type": "code",
   "execution_count": 66,
   "metadata": {
    "collapsed": true
   },
   "outputs": [],
   "source": [
    "le_flag = preprocessing.LabelEncoder()"
   ]
  },
  {
   "cell_type": "code",
   "execution_count": 67,
   "metadata": {
    "collapsed": false
   },
   "outputs": [
    {
     "data": {
      "text/plain": [
       "LabelEncoder()"
      ]
     },
     "execution_count": 67,
     "metadata": {},
     "output_type": "execute_result"
    }
   ],
   "source": [
    "le_flag.fit(data.flag)"
   ]
  },
  {
   "cell_type": "code",
   "execution_count": 68,
   "metadata": {
    "collapsed": true
   },
   "outputs": [],
   "source": [
    "data.flag = le_flag.transform(data.flag)"
   ]
  },
  {
   "cell_type": "code",
   "execution_count": 69,
   "metadata": {
    "collapsed": false
   },
   "outputs": [
    {
     "data": {
      "text/html": [
       "<div>\n",
       "<table border=\"1\" class=\"dataframe\">\n",
       "  <thead>\n",
       "    <tr style=\"text-align: right;\">\n",
       "      <th></th>\n",
       "      <th>duration</th>\n",
       "      <th>protocol_type</th>\n",
       "      <th>service</th>\n",
       "      <th>flag</th>\n",
       "      <th>src_bytes</th>\n",
       "      <th>dst_bytes</th>\n",
       "      <th>land</th>\n",
       "      <th>wrong_fragment</th>\n",
       "      <th>urgent</th>\n",
       "      <th>hot</th>\n",
       "      <th>...</th>\n",
       "      <th>dst_host_count</th>\n",
       "      <th>dst_host_srv_count</th>\n",
       "      <th>dst_host_same_srv_rate</th>\n",
       "      <th>dst_host_diff_srv_rate</th>\n",
       "      <th>dst_host_same_src_port_rate</th>\n",
       "      <th>dst_host_srv_diff_host_rate</th>\n",
       "      <th>dst_host_serror_rate</th>\n",
       "      <th>dst_host_srv_serror_rate</th>\n",
       "      <th>dst_host_rerror_rate</th>\n",
       "      <th>dst_host_srv_rerror_rate</th>\n",
       "    </tr>\n",
       "  </thead>\n",
       "  <tbody>\n",
       "    <tr>\n",
       "      <th>count</th>\n",
       "      <td>2000.000000</td>\n",
       "      <td>2000.000000</td>\n",
       "      <td>2000.000000</td>\n",
       "      <td>2000.000000</td>\n",
       "      <td>2.000000e+03</td>\n",
       "      <td>2000.000000</td>\n",
       "      <td>2000.0</td>\n",
       "      <td>2000.00000</td>\n",
       "      <td>2000.0</td>\n",
       "      <td>2000.000000</td>\n",
       "      <td>...</td>\n",
       "      <td>2000.0000</td>\n",
       "      <td>2000.000000</td>\n",
       "      <td>2000.000000</td>\n",
       "      <td>2000.000000</td>\n",
       "      <td>2000.000000</td>\n",
       "      <td>2000.000000</td>\n",
       "      <td>2000.000000</td>\n",
       "      <td>2000.000000</td>\n",
       "      <td>2000.000000</td>\n",
       "      <td>2000.000000</td>\n",
       "    </tr>\n",
       "    <tr>\n",
       "      <th>mean</th>\n",
       "      <td>62.213500</td>\n",
       "      <td>0.488500</td>\n",
       "      <td>12.034000</td>\n",
       "      <td>3.599000</td>\n",
       "      <td>3.435584e+03</td>\n",
       "      <td>606.287000</td>\n",
       "      <td>0.0</td>\n",
       "      <td>0.00750</td>\n",
       "      <td>0.0</td>\n",
       "      <td>0.012000</td>\n",
       "      <td>...</td>\n",
       "      <td>231.9170</td>\n",
       "      <td>189.213500</td>\n",
       "      <td>0.755880</td>\n",
       "      <td>0.032405</td>\n",
       "      <td>0.594735</td>\n",
       "      <td>0.007305</td>\n",
       "      <td>0.175355</td>\n",
       "      <td>0.174320</td>\n",
       "      <td>0.058020</td>\n",
       "      <td>0.056780</td>\n",
       "    </tr>\n",
       "    <tr>\n",
       "      <th>std</th>\n",
       "      <td>712.957848</td>\n",
       "      <td>0.591644</td>\n",
       "      <td>5.784857</td>\n",
       "      <td>0.953758</td>\n",
       "      <td>1.148363e+05</td>\n",
       "      <td>5315.351494</td>\n",
       "      <td>0.0</td>\n",
       "      <td>0.14985</td>\n",
       "      <td>0.0</td>\n",
       "      <td>0.154493</td>\n",
       "      <td>...</td>\n",
       "      <td>65.6843</td>\n",
       "      <td>105.264259</td>\n",
       "      <td>0.409118</td>\n",
       "      <td>0.115545</td>\n",
       "      <td>0.482721</td>\n",
       "      <td>0.043859</td>\n",
       "      <td>0.379430</td>\n",
       "      <td>0.379119</td>\n",
       "      <td>0.230094</td>\n",
       "      <td>0.228411</td>\n",
       "    </tr>\n",
       "    <tr>\n",
       "      <th>min</th>\n",
       "      <td>0.000000</td>\n",
       "      <td>0.000000</td>\n",
       "      <td>0.000000</td>\n",
       "      <td>0.000000</td>\n",
       "      <td>0.000000e+00</td>\n",
       "      <td>0.000000</td>\n",
       "      <td>0.0</td>\n",
       "      <td>0.00000</td>\n",
       "      <td>0.0</td>\n",
       "      <td>0.000000</td>\n",
       "      <td>...</td>\n",
       "      <td>1.0000</td>\n",
       "      <td>1.000000</td>\n",
       "      <td>0.000000</td>\n",
       "      <td>0.000000</td>\n",
       "      <td>0.000000</td>\n",
       "      <td>0.000000</td>\n",
       "      <td>0.000000</td>\n",
       "      <td>0.000000</td>\n",
       "      <td>0.000000</td>\n",
       "      <td>0.000000</td>\n",
       "    </tr>\n",
       "    <tr>\n",
       "      <th>25%</th>\n",
       "      <td>0.000000</td>\n",
       "      <td>0.000000</td>\n",
       "      <td>8.000000</td>\n",
       "      <td>4.000000</td>\n",
       "      <td>4.400000e+01</td>\n",
       "      <td>0.000000</td>\n",
       "      <td>0.0</td>\n",
       "      <td>0.00000</td>\n",
       "      <td>0.0</td>\n",
       "      <td>0.000000</td>\n",
       "      <td>...</td>\n",
       "      <td>255.0000</td>\n",
       "      <td>66.000000</td>\n",
       "      <td>0.460000</td>\n",
       "      <td>0.000000</td>\n",
       "      <td>0.000000</td>\n",
       "      <td>0.000000</td>\n",
       "      <td>0.000000</td>\n",
       "      <td>0.000000</td>\n",
       "      <td>0.000000</td>\n",
       "      <td>0.000000</td>\n",
       "    </tr>\n",
       "    <tr>\n",
       "      <th>50%</th>\n",
       "      <td>0.000000</td>\n",
       "      <td>0.000000</td>\n",
       "      <td>8.000000</td>\n",
       "      <td>4.000000</td>\n",
       "      <td>5.200000e+02</td>\n",
       "      <td>0.000000</td>\n",
       "      <td>0.0</td>\n",
       "      <td>0.00000</td>\n",
       "      <td>0.0</td>\n",
       "      <td>0.000000</td>\n",
       "      <td>...</td>\n",
       "      <td>255.0000</td>\n",
       "      <td>255.000000</td>\n",
       "      <td>1.000000</td>\n",
       "      <td>0.000000</td>\n",
       "      <td>1.000000</td>\n",
       "      <td>0.000000</td>\n",
       "      <td>0.000000</td>\n",
       "      <td>0.000000</td>\n",
       "      <td>0.000000</td>\n",
       "      <td>0.000000</td>\n",
       "    </tr>\n",
       "    <tr>\n",
       "      <th>75%</th>\n",
       "      <td>0.000000</td>\n",
       "      <td>1.000000</td>\n",
       "      <td>19.000000</td>\n",
       "      <td>4.000000</td>\n",
       "      <td>1.032000e+03</td>\n",
       "      <td>0.000000</td>\n",
       "      <td>0.0</td>\n",
       "      <td>0.00000</td>\n",
       "      <td>0.0</td>\n",
       "      <td>0.000000</td>\n",
       "      <td>...</td>\n",
       "      <td>255.0000</td>\n",
       "      <td>255.000000</td>\n",
       "      <td>1.000000</td>\n",
       "      <td>0.040000</td>\n",
       "      <td>1.000000</td>\n",
       "      <td>0.000000</td>\n",
       "      <td>0.000000</td>\n",
       "      <td>0.000000</td>\n",
       "      <td>0.000000</td>\n",
       "      <td>0.000000</td>\n",
       "    </tr>\n",
       "    <tr>\n",
       "      <th>max</th>\n",
       "      <td>14744.000000</td>\n",
       "      <td>2.000000</td>\n",
       "      <td>32.000000</td>\n",
       "      <td>5.000000</td>\n",
       "      <td>5.133876e+06</td>\n",
       "      <td>202976.000000</td>\n",
       "      <td>0.0</td>\n",
       "      <td>3.00000</td>\n",
       "      <td>0.0</td>\n",
       "      <td>3.000000</td>\n",
       "      <td>...</td>\n",
       "      <td>255.0000</td>\n",
       "      <td>255.000000</td>\n",
       "      <td>1.000000</td>\n",
       "      <td>1.000000</td>\n",
       "      <td>1.000000</td>\n",
       "      <td>1.000000</td>\n",
       "      <td>1.000000</td>\n",
       "      <td>1.000000</td>\n",
       "      <td>1.000000</td>\n",
       "      <td>1.000000</td>\n",
       "    </tr>\n",
       "  </tbody>\n",
       "</table>\n",
       "<p>8 rows × 41 columns</p>\n",
       "</div>"
      ],
      "text/plain": [
       "           duration  protocol_type      service         flag     src_bytes  \\\n",
       "count   2000.000000    2000.000000  2000.000000  2000.000000  2.000000e+03   \n",
       "mean      62.213500       0.488500    12.034000     3.599000  3.435584e+03   \n",
       "std      712.957848       0.591644     5.784857     0.953758  1.148363e+05   \n",
       "min        0.000000       0.000000     0.000000     0.000000  0.000000e+00   \n",
       "25%        0.000000       0.000000     8.000000     4.000000  4.400000e+01   \n",
       "50%        0.000000       0.000000     8.000000     4.000000  5.200000e+02   \n",
       "75%        0.000000       1.000000    19.000000     4.000000  1.032000e+03   \n",
       "max    14744.000000       2.000000    32.000000     5.000000  5.133876e+06   \n",
       "\n",
       "           dst_bytes    land  wrong_fragment  urgent          hot  \\\n",
       "count    2000.000000  2000.0      2000.00000  2000.0  2000.000000   \n",
       "mean      606.287000     0.0         0.00750     0.0     0.012000   \n",
       "std      5315.351494     0.0         0.14985     0.0     0.154493   \n",
       "min         0.000000     0.0         0.00000     0.0     0.000000   \n",
       "25%         0.000000     0.0         0.00000     0.0     0.000000   \n",
       "50%         0.000000     0.0         0.00000     0.0     0.000000   \n",
       "75%         0.000000     0.0         0.00000     0.0     0.000000   \n",
       "max    202976.000000     0.0         3.00000     0.0     3.000000   \n",
       "\n",
       "                 ...             dst_host_count  dst_host_srv_count  \\\n",
       "count            ...                  2000.0000         2000.000000   \n",
       "mean             ...                   231.9170          189.213500   \n",
       "std              ...                    65.6843          105.264259   \n",
       "min              ...                     1.0000            1.000000   \n",
       "25%              ...                   255.0000           66.000000   \n",
       "50%              ...                   255.0000          255.000000   \n",
       "75%              ...                   255.0000          255.000000   \n",
       "max              ...                   255.0000          255.000000   \n",
       "\n",
       "       dst_host_same_srv_rate  dst_host_diff_srv_rate  \\\n",
       "count             2000.000000             2000.000000   \n",
       "mean                 0.755880                0.032405   \n",
       "std                  0.409118                0.115545   \n",
       "min                  0.000000                0.000000   \n",
       "25%                  0.460000                0.000000   \n",
       "50%                  1.000000                0.000000   \n",
       "75%                  1.000000                0.040000   \n",
       "max                  1.000000                1.000000   \n",
       "\n",
       "       dst_host_same_src_port_rate  dst_host_srv_diff_host_rate  \\\n",
       "count                  2000.000000                  2000.000000   \n",
       "mean                      0.594735                     0.007305   \n",
       "std                       0.482721                     0.043859   \n",
       "min                       0.000000                     0.000000   \n",
       "25%                       0.000000                     0.000000   \n",
       "50%                       1.000000                     0.000000   \n",
       "75%                       1.000000                     0.000000   \n",
       "max                       1.000000                     1.000000   \n",
       "\n",
       "       dst_host_serror_rate  dst_host_srv_serror_rate  dst_host_rerror_rate  \\\n",
       "count           2000.000000               2000.000000           2000.000000   \n",
       "mean               0.175355                  0.174320              0.058020   \n",
       "std                0.379430                  0.379119              0.230094   \n",
       "min                0.000000                  0.000000              0.000000   \n",
       "25%                0.000000                  0.000000              0.000000   \n",
       "50%                0.000000                  0.000000              0.000000   \n",
       "75%                0.000000                  0.000000              0.000000   \n",
       "max                1.000000                  1.000000              1.000000   \n",
       "\n",
       "       dst_host_srv_rerror_rate  \n",
       "count               2000.000000  \n",
       "mean                   0.056780  \n",
       "std                    0.228411  \n",
       "min                    0.000000  \n",
       "25%                    0.000000  \n",
       "50%                    0.000000  \n",
       "75%                    0.000000  \n",
       "max                    1.000000  \n",
       "\n",
       "[8 rows x 41 columns]"
      ]
     },
     "execution_count": 69,
     "metadata": {},
     "output_type": "execute_result"
    }
   ],
   "source": [
    "data.describe()"
   ]
  },
  {
   "cell_type": "code",
   "execution_count": 70,
   "metadata": {
    "collapsed": false
   },
   "outputs": [
    {
     "data": {
      "text/plain": [
       "(2000, 44)"
      ]
     },
     "execution_count": 70,
     "metadata": {},
     "output_type": "execute_result"
    }
   ],
   "source": [
    "data.shape"
   ]
  },
  {
   "cell_type": "markdown",
   "metadata": {},
   "source": [
    "## ラベルの分離"
   ]
  },
  {
   "cell_type": "code",
   "execution_count": 71,
   "metadata": {
    "collapsed": true
   },
   "outputs": [],
   "source": [
    "y_test_1 = data.label.copy() "
   ]
  },
  {
   "cell_type": "code",
   "execution_count": 72,
   "metadata": {
    "collapsed": true
   },
   "outputs": [],
   "source": [
    "y_test_2 = data.label2.copy()"
   ]
  },
  {
   "cell_type": "code",
   "execution_count": 73,
   "metadata": {
    "collapsed": true
   },
   "outputs": [],
   "source": [
    "y_test_3 = data.label3.copy()"
   ]
  },
  {
   "cell_type": "code",
   "execution_count": 74,
   "metadata": {
    "collapsed": false
   },
   "outputs": [],
   "source": [
    "x_test= data.drop(['label','label2','label3'],axis=1)"
   ]
  },
  {
   "cell_type": "code",
   "execution_count": 75,
   "metadata": {
    "collapsed": false
   },
   "outputs": [
    {
     "data": {
      "text/plain": [
       "(2000, 41)"
      ]
     },
     "execution_count": 75,
     "metadata": {},
     "output_type": "execute_result"
    }
   ],
   "source": [
    "x_test.shape"
   ]
  },
  {
   "cell_type": "code",
   "execution_count": 76,
   "metadata": {
    "collapsed": false
   },
   "outputs": [
    {
     "data": {
      "text/plain": [
       "(2000,)"
      ]
     },
     "execution_count": 76,
     "metadata": {},
     "output_type": "execute_result"
    }
   ],
   "source": [
    "y_test_1.shape"
   ]
  },
  {
   "cell_type": "code",
   "execution_count": 77,
   "metadata": {
    "collapsed": false
   },
   "outputs": [
    {
     "data": {
      "text/plain": [
       "(2000,)"
      ]
     },
     "execution_count": 77,
     "metadata": {},
     "output_type": "execute_result"
    }
   ],
   "source": [
    "y_test_2.shape"
   ]
  },
  {
   "cell_type": "code",
   "execution_count": 78,
   "metadata": {
    "collapsed": false
   },
   "outputs": [
    {
     "data": {
      "text/plain": [
       "(2000,)"
      ]
     },
     "execution_count": 78,
     "metadata": {},
     "output_type": "execute_result"
    }
   ],
   "source": [
    "y_test_3.shape"
   ]
  },
  {
   "cell_type": "markdown",
   "metadata": {},
   "source": [
    "## 標準化"
   ]
  },
  {
   "cell_type": "code",
   "execution_count": 79,
   "metadata": {
    "collapsed": true
   },
   "outputs": [],
   "source": [
    "ss = preprocessing.StandardScaler()"
   ]
  },
  {
   "cell_type": "code",
   "execution_count": 80,
   "metadata": {
    "collapsed": false
   },
   "outputs": [
    {
     "data": {
      "text/plain": [
       "StandardScaler(copy=True, with_mean=True, with_std=True)"
      ]
     },
     "execution_count": 80,
     "metadata": {},
     "output_type": "execute_result"
    }
   ],
   "source": [
    "ss.fit(x_test)"
   ]
  },
  {
   "cell_type": "code",
   "execution_count": 81,
   "metadata": {
    "collapsed": true
   },
   "outputs": [],
   "source": [
    "x_test = ss.transform(x_test)"
   ]
  },
  {
   "cell_type": "code",
   "execution_count": 82,
   "metadata": {
    "collapsed": true
   },
   "outputs": [],
   "source": [
    "col_names2 = [\"duration\",\"protocol_type\",\"service\",\"flag\",\"src_bytes\",\n",
    "             \"dst_bytes\",\"land\",\"wrong_fragment\",\"urgent\",\"hot\",\"num_failed_logins\",\n",
    "             \"logged_in\",\"num_compromised\",\"root_shell\",\"su_attempted\",\"num_root\",\"num_file_creations\",\n",
    "             \"num_shells\",\"num_access_files\",\"num_outbound_cmds\",\"is_host_login\",\"is_guest_login\",\"count\",\n",
    "             \"srv_count\",\"serror_rate\",\"srv_serror_rate\",\"rerror_rate\",\"srv_rerror_rate\",\"same_srv_rate\",\n",
    "             \"diff_srv_rate\",\"srv_diff_host_rate\",\"dst_host_count\",\"dst_host_srv_count\",\n",
    "             \"dst_host_same_srv_rate\",\"dst_host_diff_srv_rate\",\"dst_host_same_src_port_rate\",\n",
    "             \"dst_host_srv_diff_host_rate\",\"dst_host_serror_rate\",\"dst_host_srv_serror_rate\",\n",
    "             \"dst_host_rerror_rate\",\"dst_host_srv_rerror_rate\"]"
   ]
  },
  {
   "cell_type": "code",
   "execution_count": 83,
   "metadata": {
    "collapsed": false
   },
   "outputs": [
    {
     "data": {
      "text/html": [
       "<div>\n",
       "<table border=\"1\" class=\"dataframe\">\n",
       "  <thead>\n",
       "    <tr style=\"text-align: right;\">\n",
       "      <th></th>\n",
       "      <th>duration</th>\n",
       "      <th>protocol_type</th>\n",
       "      <th>service</th>\n",
       "      <th>flag</th>\n",
       "      <th>src_bytes</th>\n",
       "      <th>dst_bytes</th>\n",
       "      <th>land</th>\n",
       "      <th>wrong_fragment</th>\n",
       "      <th>urgent</th>\n",
       "      <th>hot</th>\n",
       "      <th>...</th>\n",
       "      <th>dst_host_count</th>\n",
       "      <th>dst_host_srv_count</th>\n",
       "      <th>dst_host_same_srv_rate</th>\n",
       "      <th>dst_host_diff_srv_rate</th>\n",
       "      <th>dst_host_same_src_port_rate</th>\n",
       "      <th>dst_host_srv_diff_host_rate</th>\n",
       "      <th>dst_host_serror_rate</th>\n",
       "      <th>dst_host_srv_serror_rate</th>\n",
       "      <th>dst_host_rerror_rate</th>\n",
       "      <th>dst_host_srv_rerror_rate</th>\n",
       "    </tr>\n",
       "  </thead>\n",
       "  <tbody>\n",
       "    <tr>\n",
       "      <th>count</th>\n",
       "      <td>2.000000e+03</td>\n",
       "      <td>2.000000e+03</td>\n",
       "      <td>2.000000e+03</td>\n",
       "      <td>2.000000e+03</td>\n",
       "      <td>2.000000e+03</td>\n",
       "      <td>2.000000e+03</td>\n",
       "      <td>2000.0</td>\n",
       "      <td>2.000000e+03</td>\n",
       "      <td>2000.0</td>\n",
       "      <td>2.000000e+03</td>\n",
       "      <td>...</td>\n",
       "      <td>2.000000e+03</td>\n",
       "      <td>2.000000e+03</td>\n",
       "      <td>2.000000e+03</td>\n",
       "      <td>2.000000e+03</td>\n",
       "      <td>2.000000e+03</td>\n",
       "      <td>2.000000e+03</td>\n",
       "      <td>2.000000e+03</td>\n",
       "      <td>2.000000e+03</td>\n",
       "      <td>2.000000e+03</td>\n",
       "      <td>2.000000e+03</td>\n",
       "    </tr>\n",
       "    <tr>\n",
       "      <th>mean</th>\n",
       "      <td>1.274536e-16</td>\n",
       "      <td>1.367795e-16</td>\n",
       "      <td>-4.882761e-16</td>\n",
       "      <td>-2.858824e-16</td>\n",
       "      <td>3.262668e-17</td>\n",
       "      <td>3.601286e-18</td>\n",
       "      <td>0.0</td>\n",
       "      <td>2.375808e-16</td>\n",
       "      <td>0.0</td>\n",
       "      <td>-2.817746e-16</td>\n",
       "      <td>...</td>\n",
       "      <td>-1.356137e-16</td>\n",
       "      <td>-1.768585e-16</td>\n",
       "      <td>-9.126033e-17</td>\n",
       "      <td>1.248168e-16</td>\n",
       "      <td>3.029799e-16</td>\n",
       "      <td>-4.483913e-17</td>\n",
       "      <td>-1.521006e-16</td>\n",
       "      <td>1.263434e-16</td>\n",
       "      <td>1.183498e-16</td>\n",
       "      <td>2.871592e-16</td>\n",
       "    </tr>\n",
       "    <tr>\n",
       "      <th>std</th>\n",
       "      <td>1.000250e+00</td>\n",
       "      <td>1.000250e+00</td>\n",
       "      <td>1.000250e+00</td>\n",
       "      <td>1.000250e+00</td>\n",
       "      <td>1.000250e+00</td>\n",
       "      <td>1.000250e+00</td>\n",
       "      <td>0.0</td>\n",
       "      <td>1.000250e+00</td>\n",
       "      <td>0.0</td>\n",
       "      <td>1.000250e+00</td>\n",
       "      <td>...</td>\n",
       "      <td>1.000250e+00</td>\n",
       "      <td>1.000250e+00</td>\n",
       "      <td>1.000250e+00</td>\n",
       "      <td>1.000250e+00</td>\n",
       "      <td>1.000250e+00</td>\n",
       "      <td>1.000250e+00</td>\n",
       "      <td>1.000250e+00</td>\n",
       "      <td>1.000250e+00</td>\n",
       "      <td>1.000250e+00</td>\n",
       "      <td>1.000250e+00</td>\n",
       "    </tr>\n",
       "    <tr>\n",
       "      <th>min</th>\n",
       "      <td>-8.728294e-02</td>\n",
       "      <td>-8.258718e-01</td>\n",
       "      <td>-2.080779e+00</td>\n",
       "      <td>-3.774439e+00</td>\n",
       "      <td>-2.992470e-02</td>\n",
       "      <td>-1.140919e-01</td>\n",
       "      <td>0.0</td>\n",
       "      <td>-5.006262e-02</td>\n",
       "      <td>0.0</td>\n",
       "      <td>-7.769310e-02</td>\n",
       "      <td>...</td>\n",
       "      <td>-3.516438e+00</td>\n",
       "      <td>-1.788457e+00</td>\n",
       "      <td>-1.848048e+00</td>\n",
       "      <td>-2.805248e-01</td>\n",
       "      <td>-1.232354e+00</td>\n",
       "      <td>-1.665965e-01</td>\n",
       "      <td>-4.622693e-01</td>\n",
       "      <td>-4.599179e-01</td>\n",
       "      <td>-2.522213e-01</td>\n",
       "      <td>-2.486495e-01</td>\n",
       "    </tr>\n",
       "    <tr>\n",
       "      <th>25%</th>\n",
       "      <td>-8.728294e-02</td>\n",
       "      <td>-8.258718e-01</td>\n",
       "      <td>-6.975122e-01</td>\n",
       "      <td>4.205473e-01</td>\n",
       "      <td>-2.954145e-02</td>\n",
       "      <td>-1.140919e-01</td>\n",
       "      <td>0.0</td>\n",
       "      <td>-5.006262e-02</td>\n",
       "      <td>0.0</td>\n",
       "      <td>-7.769310e-02</td>\n",
       "      <td>...</td>\n",
       "      <td>3.515113e-01</td>\n",
       "      <td>-1.170809e+00</td>\n",
       "      <td>-7.233959e-01</td>\n",
       "      <td>-2.805248e-01</td>\n",
       "      <td>-1.232354e+00</td>\n",
       "      <td>-1.665965e-01</td>\n",
       "      <td>-4.622693e-01</td>\n",
       "      <td>-4.599179e-01</td>\n",
       "      <td>-2.522213e-01</td>\n",
       "      <td>-2.486495e-01</td>\n",
       "    </tr>\n",
       "    <tr>\n",
       "      <th>50%</th>\n",
       "      <td>-8.728294e-02</td>\n",
       "      <td>-8.258718e-01</td>\n",
       "      <td>-6.975122e-01</td>\n",
       "      <td>4.205473e-01</td>\n",
       "      <td>-2.539539e-02</td>\n",
       "      <td>-1.140919e-01</td>\n",
       "      <td>0.0</td>\n",
       "      <td>-5.006262e-02</td>\n",
       "      <td>0.0</td>\n",
       "      <td>-7.769310e-02</td>\n",
       "      <td>...</td>\n",
       "      <td>3.515113e-01</td>\n",
       "      <td>6.251215e-01</td>\n",
       "      <td>5.968481e-01</td>\n",
       "      <td>-2.805248e-01</td>\n",
       "      <td>8.397520e-01</td>\n",
       "      <td>-1.665965e-01</td>\n",
       "      <td>-4.622693e-01</td>\n",
       "      <td>-4.599179e-01</td>\n",
       "      <td>-2.522213e-01</td>\n",
       "      <td>-2.486495e-01</td>\n",
       "    </tr>\n",
       "    <tr>\n",
       "      <th>75%</th>\n",
       "      <td>-8.728294e-02</td>\n",
       "      <td>8.647562e-01</td>\n",
       "      <td>1.204479e+00</td>\n",
       "      <td>4.205473e-01</td>\n",
       "      <td>-2.093575e-02</td>\n",
       "      <td>-1.140919e-01</td>\n",
       "      <td>0.0</td>\n",
       "      <td>-5.006262e-02</td>\n",
       "      <td>0.0</td>\n",
       "      <td>-7.769310e-02</td>\n",
       "      <td>...</td>\n",
       "      <td>3.515113e-01</td>\n",
       "      <td>6.251215e-01</td>\n",
       "      <td>5.968481e-01</td>\n",
       "      <td>6.574867e-02</td>\n",
       "      <td>8.397520e-01</td>\n",
       "      <td>-1.665965e-01</td>\n",
       "      <td>-4.622693e-01</td>\n",
       "      <td>-4.599179e-01</td>\n",
       "      <td>-2.522213e-01</td>\n",
       "      <td>-2.486495e-01</td>\n",
       "    </tr>\n",
       "    <tr>\n",
       "      <th>max</th>\n",
       "      <td>2.059793e+01</td>\n",
       "      <td>2.555384e+00</td>\n",
       "      <td>3.452288e+00</td>\n",
       "      <td>1.469294e+00</td>\n",
       "      <td>4.468728e+01</td>\n",
       "      <td>3.808221e+01</td>\n",
       "      <td>0.0</td>\n",
       "      <td>1.997498e+01</td>\n",
       "      <td>0.0</td>\n",
       "      <td>1.934558e+01</td>\n",
       "      <td>...</td>\n",
       "      <td>3.515113e-01</td>\n",
       "      <td>6.251215e-01</td>\n",
       "      <td>5.968481e-01</td>\n",
       "      <td>8.376311e+00</td>\n",
       "      <td>8.397520e-01</td>\n",
       "      <td>2.263922e+01</td>\n",
       "      <td>2.173922e+00</td>\n",
       "      <td>2.178436e+00</td>\n",
       "      <td>4.094924e+00</td>\n",
       "      <td>4.130525e+00</td>\n",
       "    </tr>\n",
       "  </tbody>\n",
       "</table>\n",
       "<p>8 rows × 41 columns</p>\n",
       "</div>"
      ],
      "text/plain": [
       "           duration  protocol_type       service          flag     src_bytes  \\\n",
       "count  2.000000e+03   2.000000e+03  2.000000e+03  2.000000e+03  2.000000e+03   \n",
       "mean   1.274536e-16   1.367795e-16 -4.882761e-16 -2.858824e-16  3.262668e-17   \n",
       "std    1.000250e+00   1.000250e+00  1.000250e+00  1.000250e+00  1.000250e+00   \n",
       "min   -8.728294e-02  -8.258718e-01 -2.080779e+00 -3.774439e+00 -2.992470e-02   \n",
       "25%   -8.728294e-02  -8.258718e-01 -6.975122e-01  4.205473e-01 -2.954145e-02   \n",
       "50%   -8.728294e-02  -8.258718e-01 -6.975122e-01  4.205473e-01 -2.539539e-02   \n",
       "75%   -8.728294e-02   8.647562e-01  1.204479e+00  4.205473e-01 -2.093575e-02   \n",
       "max    2.059793e+01   2.555384e+00  3.452288e+00  1.469294e+00  4.468728e+01   \n",
       "\n",
       "          dst_bytes    land  wrong_fragment  urgent           hot  \\\n",
       "count  2.000000e+03  2000.0    2.000000e+03  2000.0  2.000000e+03   \n",
       "mean   3.601286e-18     0.0    2.375808e-16     0.0 -2.817746e-16   \n",
       "std    1.000250e+00     0.0    1.000250e+00     0.0  1.000250e+00   \n",
       "min   -1.140919e-01     0.0   -5.006262e-02     0.0 -7.769310e-02   \n",
       "25%   -1.140919e-01     0.0   -5.006262e-02     0.0 -7.769310e-02   \n",
       "50%   -1.140919e-01     0.0   -5.006262e-02     0.0 -7.769310e-02   \n",
       "75%   -1.140919e-01     0.0   -5.006262e-02     0.0 -7.769310e-02   \n",
       "max    3.808221e+01     0.0    1.997498e+01     0.0  1.934558e+01   \n",
       "\n",
       "                 ...             dst_host_count  dst_host_srv_count  \\\n",
       "count            ...               2.000000e+03        2.000000e+03   \n",
       "mean             ...              -1.356137e-16       -1.768585e-16   \n",
       "std              ...               1.000250e+00        1.000250e+00   \n",
       "min              ...              -3.516438e+00       -1.788457e+00   \n",
       "25%              ...               3.515113e-01       -1.170809e+00   \n",
       "50%              ...               3.515113e-01        6.251215e-01   \n",
       "75%              ...               3.515113e-01        6.251215e-01   \n",
       "max              ...               3.515113e-01        6.251215e-01   \n",
       "\n",
       "       dst_host_same_srv_rate  dst_host_diff_srv_rate  \\\n",
       "count            2.000000e+03            2.000000e+03   \n",
       "mean            -9.126033e-17            1.248168e-16   \n",
       "std              1.000250e+00            1.000250e+00   \n",
       "min             -1.848048e+00           -2.805248e-01   \n",
       "25%             -7.233959e-01           -2.805248e-01   \n",
       "50%              5.968481e-01           -2.805248e-01   \n",
       "75%              5.968481e-01            6.574867e-02   \n",
       "max              5.968481e-01            8.376311e+00   \n",
       "\n",
       "       dst_host_same_src_port_rate  dst_host_srv_diff_host_rate  \\\n",
       "count                 2.000000e+03                 2.000000e+03   \n",
       "mean                  3.029799e-16                -4.483913e-17   \n",
       "std                   1.000250e+00                 1.000250e+00   \n",
       "min                  -1.232354e+00                -1.665965e-01   \n",
       "25%                  -1.232354e+00                -1.665965e-01   \n",
       "50%                   8.397520e-01                -1.665965e-01   \n",
       "75%                   8.397520e-01                -1.665965e-01   \n",
       "max                   8.397520e-01                 2.263922e+01   \n",
       "\n",
       "       dst_host_serror_rate  dst_host_srv_serror_rate  dst_host_rerror_rate  \\\n",
       "count          2.000000e+03              2.000000e+03          2.000000e+03   \n",
       "mean          -1.521006e-16              1.263434e-16          1.183498e-16   \n",
       "std            1.000250e+00              1.000250e+00          1.000250e+00   \n",
       "min           -4.622693e-01             -4.599179e-01         -2.522213e-01   \n",
       "25%           -4.622693e-01             -4.599179e-01         -2.522213e-01   \n",
       "50%           -4.622693e-01             -4.599179e-01         -2.522213e-01   \n",
       "75%           -4.622693e-01             -4.599179e-01         -2.522213e-01   \n",
       "max            2.173922e+00              2.178436e+00          4.094924e+00   \n",
       "\n",
       "       dst_host_srv_rerror_rate  \n",
       "count              2.000000e+03  \n",
       "mean               2.871592e-16  \n",
       "std                1.000250e+00  \n",
       "min               -2.486495e-01  \n",
       "25%               -2.486495e-01  \n",
       "50%               -2.486495e-01  \n",
       "75%               -2.486495e-01  \n",
       "max                4.130525e+00  \n",
       "\n",
       "[8 rows x 41 columns]"
      ]
     },
     "execution_count": 83,
     "metadata": {},
     "output_type": "execute_result"
    }
   ],
   "source": [
    "pd.DataFrame(x_test,columns=col_names2).describe()"
   ]
  },
  {
   "cell_type": "markdown",
   "metadata": {
    "collapsed": true
   },
   "source": [
    "## 学習"
   ]
  },
  {
   "cell_type": "code",
   "execution_count": 84,
   "metadata": {
    "collapsed": false
   },
   "outputs": [
    {
     "data": {
      "text/plain": [
       "{'hidden_layer_sizes': (100, 100, 100, 10)}"
      ]
     },
     "execution_count": 84,
     "metadata": {},
     "output_type": "execute_result"
    }
   ],
   "source": [
    "#ニューラルネットワークの隠れ層の候補をいろいろ定義\n",
    "parameters = {'hidden_layer_sizes' : [(100,), (100, 10), (100, 100, 10), (100, 100, 100, 10)]}\n",
    "\n",
    "#ニューラルネットワークのベストな隠れ層を探索\n",
    "clf = GridSearchCV(MLPClassifier(), parameters)\n",
    "clf.fit(x_test, y_test_3)\n",
    "clf.best_params_\n"
   ]
  },
  {
   "cell_type": "code",
   "execution_count": 86,
   "metadata": {
    "collapsed": false
   },
   "outputs": [
    {
     "data": {
      "text/plain": [
       "MLPClassifier(activation='relu', alpha=0.0001, batch_size='auto', beta_1=0.9,\n",
       "       beta_2=0.999, early_stopping=False, epsilon=1e-08,\n",
       "       hidden_layer_sizes=(100, 100, 100, 10), learning_rate='constant',\n",
       "       learning_rate_init=0.001, max_iter=200, momentum=0.9,\n",
       "       nesterovs_momentum=True, power_t=0.5, random_state=None,\n",
       "       shuffle=True, solver='adam', tol=0.0001, validation_fraction=0.1,\n",
       "       verbose=False, warm_start=False)"
      ]
     },
     "execution_count": 86,
     "metadata": {},
     "output_type": "execute_result"
    }
   ],
   "source": [
    "clf.best_estimator_"
   ]
  },
  {
   "cell_type": "code",
   "execution_count": 87,
   "metadata": {
    "collapsed": true
   },
   "outputs": [],
   "source": [
    "clf = MLPClassifier(activation='relu', alpha=0.0001, batch_size='auto', beta_1=0.9,\n",
    "       beta_2=0.999, early_stopping=False, epsilon=1e-08,\n",
    "       hidden_layer_sizes=(100, 100, 100, 10), learning_rate='constant',\n",
    "       learning_rate_init=0.001, max_iter=200, momentum=0.9,\n",
    "       nesterovs_momentum=True, power_t=0.5, random_state=None,\n",
    "       shuffle=True, solver='adam', tol=0.0001, validation_fraction=0.1,\n",
    "       verbose=False, warm_start=False)"
   ]
  },
  {
   "cell_type": "code",
   "execution_count": 88,
   "metadata": {
    "collapsed": false
   },
   "outputs": [
    {
     "data": {
      "text/plain": [
       "MLPClassifier(activation='relu', alpha=0.0001, batch_size='auto', beta_1=0.9,\n",
       "       beta_2=0.999, early_stopping=False, epsilon=1e-08,\n",
       "       hidden_layer_sizes=(100, 100, 100, 10), learning_rate='constant',\n",
       "       learning_rate_init=0.001, max_iter=200, momentum=0.9,\n",
       "       nesterovs_momentum=True, power_t=0.5, random_state=None,\n",
       "       shuffle=True, solver='adam', tol=0.0001, validation_fraction=0.1,\n",
       "       verbose=False, warm_start=False)"
      ]
     },
     "execution_count": 88,
     "metadata": {},
     "output_type": "execute_result"
    }
   ],
   "source": [
    "clf.fit(x_test, y_test_3)"
   ]
  },
  {
   "cell_type": "code",
   "execution_count": 89,
   "metadata": {
    "collapsed": true
   },
   "outputs": [],
   "source": [
    "pred = clf.predict(x_test)"
   ]
  },
  {
   "cell_type": "code",
   "execution_count": 90,
   "metadata": {
    "collapsed": false
   },
   "outputs": [
    {
     "name": "stdout",
     "output_type": "stream",
     "text": [
      "             precision    recall  f1-score   support\n",
      "\n",
      "        DoS       1.00      1.00      1.00      1555\n",
      "      Probe       1.00      1.00      1.00        19\n",
      "        R2L       0.80      1.00      0.89         4\n",
      "    normal.       1.00      1.00      1.00       422\n",
      "\n",
      "avg / total       1.00      1.00      1.00      2000\n",
      "\n",
      "[[1555    0    0    0]\n",
      " [   0   19    0    0]\n",
      " [   0    0    4    0]\n",
      " [   0    0    1  421]]\n"
     ]
    }
   ],
   "source": [
    "print(classification_report(y_test_3, pred))\n",
    "print(confusion_matrix(y_test_3, pred))"
   ]
  },
  {
   "cell_type": "code",
   "execution_count": null,
   "metadata": {
    "collapsed": true
   },
   "outputs": [],
   "source": []
  }
 ],
 "metadata": {
  "kernelspec": {
   "display_name": "Python 3",
   "language": "python",
   "name": "python3"
  },
  "language_info": {
   "codemirror_mode": {
    "name": "ipython",
    "version": 3
   },
   "file_extension": ".py",
   "mimetype": "text/x-python",
   "name": "python",
   "nbconvert_exporter": "python",
   "pygments_lexer": "ipython3",
   "version": "3.6.0"
  }
 },
 "nbformat": 4,
 "nbformat_minor": 2
}
